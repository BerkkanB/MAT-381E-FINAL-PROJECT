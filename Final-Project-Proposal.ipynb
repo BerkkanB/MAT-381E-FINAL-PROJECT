{
 "cells": [
  {
   "cell_type": "markdown",
   "metadata": {},
   "source": [
    "# **Car Price Prediction System**\n",
    "\n",
    "---\n",
    "\n",
    "## Team Members:\n",
    "- Kıraç Acar Apaydın - 090190745 - apaydink19@itu.edu.tr\n",
    "- Berkkan Bütün - 090180349 - butun18@itu.edu.tr\n",
    "\n",
    "---\n",
    "\n",
    "## Datasets\n",
    "\n",
    "We will use live data sources which are \"Sahibinden\" and \"Arabam\" if it is possible:\n",
    "\n",
    "* [Sahibinden](https://www.sahibinden.com)\n",
    "* [Arabam](https://www.arabam.com)\n",
    "\n",
    "We will use brand, model, year, km and price of the car as features. Also, we will try to get the features of the car such as engine, transmission, fuel type, color, etc. from the website if it is possible.\n",
    "\n",
    "These data sources have a lot of data and we believe that we can get enough data for our project. Also these data sources are reliable and we can trust the data because they are live data sources.\n",
    "  \n",
    "---"
   ]
  },
  {
   "cell_type": "markdown",
   "metadata": {},
   "source": [
    "## Problem Statement\n",
    "\n",
    "We will try to build a model with our dataset which can predict the price of the car. The model will take car brand, model, year, km and other features as input and will predict the price of the car. We think that this model will be useful for people who want to buy a car and want to know the price of the car before they buy it. Also, this model will be useful for people who want to sell their car and want to know the price of the car before they sell it.\n",
    "\n",
    "---\n",
    "\n",
    "## Roadmap\n",
    "\n",
    "We will build a algorithm that scan the data sources and get data from them. Then we will clean the data and prepare it for the model. After that we will build a model and train it with our dataset. Finally, we will test the model and try to improve it.\n",
    "\n",
    "For the model we will use linear regression, decision tree, SVM-support vector machine and random forest algorithms. We will try to improve the model with hyperparameter tuning if it is necessary and possible.\n",
    "\n",
    "We may use one hot encoding for categorical features to make them usable for our model.\n",
    "\n",
    "For getting the data from the data sources we will use selenium and beautifulsoup libraries. For cleaning the data we will use pandas library.\n",
    "\n",
    "Then we will use sklearn library for building the model and training it. We will use matplotlib and seaborn libraries for visualizing the data and results.\n",
    "\n",
    "We want to use multiple algorithms for the model and compare the results. We will use the algorithm which gives the best result for our model.\n",
    "\n",
    "\n",
    "---\n",
    "\n",
    "## Contributions\n",
    "\n",
    "- Proposal: we have written the proposal together.\n",
    "\n",
    "- Kıraç Acar Apaydın: Data preprocessing, clean the data, make the all data usable for the model, build svm and decision tree models, train the models, test the models, improve the model if it is necessary.\n",
    "- Berkkan Bütün: Build a web scrapping algorithm for data sources, get the data, build linear regression and random forest algorithm models, train the model, test the model, improve the model if it is necessary.\n",
    "- Together: Test models, compare the results, improve models if it is necessary. Choose the best model for the project. Show the results with visualizations.\n",
    "\n",
    "---"
   ]
  },
  {
   "cell_type": "markdown",
   "metadata": {},
   "source": [
    "## Atabey's Notes\n",
    "\n",
    "I like the proposal. But I am skeptical about the data you are going to scrape from Sahibinden and Arabam. Gather a large sample of data and show it in your proposal. What happens if the data scraping fails? Do you have a B-plan?\n",
    "\n",
    "Other that that it looks good. "
   ]
  },
  {
   "cell_type": "code",
   "execution_count": null,
   "metadata": {},
   "outputs": [],
   "source": []
  }
 ],
 "metadata": {
  "kernelspec": {
   "display_name": "Python 3 (ipykernel)",
   "language": "python",
   "name": "python3"
  },
  "language_info": {
   "codemirror_mode": {
    "name": "ipython",
    "version": 3
   },
   "file_extension": ".py",
   "mimetype": "text/x-python",
   "name": "python",
   "nbconvert_exporter": "python",
   "pygments_lexer": "ipython3",
   "version": "3.10.8"
  }
 },
 "nbformat": 4,
 "nbformat_minor": 4
}
