{
 "cells": [
  {
   "cell_type": "markdown",
   "metadata": {},
   "source": [
    "## Introduction\n",
    "\n",
    "This notebook contains the source codes for the final project. The project is about predicting the car price in Turkey using the data from [sahibinden.com](https://www.sahibinden.com/). For detailed information about the project, please refer to the [project proposal](https://github.com/BerkkanB/MAT-381E-FINAL-PROJECT/blob/main/Final-Project-Proposal.ipynb)."
   ]
  },
  {
   "cell_type": "markdown",
   "metadata": {},
   "source": [
    "Importing the necessary libraries:\n",
    "- BeautifullSoup is used for web scraping\n",
    "- numpy and pandas are used for data manipulation\n",
    "- matplotlib is used for data visualization\n",
    "- sklearn is used for machine learning algorithms\n",
    "- ipywidgets is used for interactive widgets\n"
   ]
  },
  {
   "cell_type": "code",
   "execution_count": 1,
   "metadata": {},
   "outputs": [],
   "source": [
    "from bs4 import BeautifulSoup\n",
    "import requests\n",
    "from slugify import slugify\n",
    "import pandas as pd\n",
    "from sklearn.linear_model import LinearRegression\n",
    "from sklearn.model_selection import train_test_split\n",
    "from sklearn.preprocessing import OneHotEncoder\n",
    "import numpy as np\n",
    "\n",
    "import ipywidgets as widgets\n",
    "from ipywidgets import interact, interact_manual\n",
    "from sklearn.svm import SVR\n",
    "from sklearn.ensemble import RandomForestRegressor\n",
    "import matplotlib.pyplot as plt\n"
   ]
  },
  {
   "cell_type": "markdown",
   "metadata": {},
   "source": [
    "## Web Scraping and Data Collection\n",
    "\n",
    "Since sahibinden.com does not make its data available via an API or an excel file, we had to pull the data directly from the website. For this purpose, we used the BeautifulSoup library.\n"
   ]
  },
  {
   "cell_type": "code",
   "execution_count": 2,
   "metadata": {},
   "outputs": [],
   "source": [
    "BASE_URL = \"https://www.sahibinden.com/\"\n",
    "HOME_PAGE = \"https://www.sahibinden.com/otomobil/\" "
   ]
  },
  {
   "cell_type": "markdown",
   "metadata": {},
   "source": [
    "`get_html` function takes the url of the page as an input and call the url with appropriate headers. Then it returns the html content of the page."
   ]
  },
  {
   "cell_type": "code",
   "execution_count": 3,
   "metadata": {},
   "outputs": [],
   "source": [
    "def get_html(url):\n",
    "    response = requests.get(url, headers={\"User-Agent\": \"Mozilla/5.0\",\"accept\": \"text/html\"})\n",
    "    return response.content\n",
    "\n",
    "base_page = get_html(HOME_PAGE)\n",
    "soup = BeautifulSoup(base_page, \"html.parser\")\n"
   ]
  },
  {
   "cell_type": "markdown",
   "metadata": {},
   "source": [
    "Since there are lots of car brands in sahibinden, we decided to scrape the data according to user input. For this purpose, we parsed the base html page of sahibinden and extracted the all car brands. Then we asked the user to choose a car brand from the list. After the user input, we scraped the data of the chosen car brand.\n",
    "\n",
    "To get the brand names we looked for html source and found that the brand names are in the `li` tag with class name `cl2`. Then we parsed the html and extracted the brand names."
   ]
  },
  {
   "cell_type": "code",
   "execution_count": 4,
   "metadata": {},
   "outputs": [],
   "source": [
    "brands = soup.find_all(\"li\", {\"class\": \"cl2\"})"
   ]
  },
  {
   "cell_type": "markdown",
   "metadata": {},
   "source": [
    "Since they use slug for the urls, we had to convert the brand names to slugs. For this purpose, we used the `slugify` function from the `slugify` library."
   ]
  },
  {
   "cell_type": "code",
   "execution_count": 5,
   "metadata": {},
   "outputs": [],
   "source": [
    "def clear_brand_names(data):\n",
    "    dataList = []\n",
    "    for tag in data:\n",
    "        brand = tag.text.strip().split(\"(\")[0].strip() \n",
    "        brand = slugify(brand)\n",
    "\n",
    "        dataList.append(brand)\n",
    "    return dataList"
   ]
  },
  {
   "cell_type": "code",
   "execution_count": 6,
   "metadata": {},
   "outputs": [
    {
     "data": {
      "text/plain": [
       "['acura',\n",
       " 'aion',\n",
       " 'alfa-romeo',\n",
       " 'anadol',\n",
       " 'aston-martin',\n",
       " 'audi',\n",
       " 'bentley',\n",
       " 'bmw',\n",
       " 'bugatti',\n",
       " 'buick',\n",
       " 'cadillac',\n",
       " 'chery',\n",
       " 'chevrolet',\n",
       " 'chrysler',\n",
       " 'citroen',\n",
       " 'dacia',\n",
       " 'daewoo',\n",
       " 'daihatsu',\n",
       " 'dodge',\n",
       " 'ds-automobiles',\n",
       " 'ferrari',\n",
       " 'fiat',\n",
       " 'fisker',\n",
       " 'ford',\n",
       " 'geely',\n",
       " 'honda',\n",
       " 'hyundai',\n",
       " 'ikco',\n",
       " 'infiniti',\n",
       " 'jaguar',\n",
       " 'kia',\n",
       " 'lada',\n",
       " 'lamborghini',\n",
       " 'lancia',\n",
       " 'leapmotor',\n",
       " 'lexus',\n",
       " 'lincoln',\n",
       " 'lotus',\n",
       " 'marcos',\n",
       " 'maserati',\n",
       " 'mazda',\n",
       " 'mclaren',\n",
       " 'mercedes-benz',\n",
       " 'mercury',\n",
       " 'mg',\n",
       " 'mini',\n",
       " 'mitsubishi',\n",
       " 'moskwitsch',\n",
       " 'nissan',\n",
       " 'opel',\n",
       " 'peugeot',\n",
       " 'plymouth',\n",
       " 'polestar',\n",
       " 'pontiac',\n",
       " 'porsche',\n",
       " 'proton',\n",
       " 'renault',\n",
       " 'rks',\n",
       " 'rolls-royce',\n",
       " 'rover',\n",
       " 'saab',\n",
       " 'saturn',\n",
       " 'seat',\n",
       " 'skoda',\n",
       " 'smart',\n",
       " 'subaru',\n",
       " 'suzuki',\n",
       " 'tata',\n",
       " 'tesla',\n",
       " 'tofas',\n",
       " 'toyota',\n",
       " 'volkswagen',\n",
       " 'volvo',\n",
       " 'xev']"
      ]
     },
     "execution_count": 6,
     "metadata": {},
     "output_type": "execute_result"
    }
   ],
   "source": [
    "brandList = clear_brand_names(brands)\n",
    "brandList"
   ]
  },
  {
   "cell_type": "markdown",
   "metadata": {},
   "source": [
    "Since we get the all brand names now we can take the user input. For this purpose, we used the `ipywidgets` library. We created a dropdown widget and passed the brand names to it. Then we displayed the widget and waited for the user input."
   ]
  },
  {
   "cell_type": "code",
   "execution_count": 7,
   "metadata": {},
   "outputs": [
    {
     "data": {
      "application/vnd.jupyter.widget-view+json": {
       "model_id": "348e81cb8a4b4c2a9a0c7ec884992914",
       "version_major": 2,
       "version_minor": 0
      },
      "text/plain": [
       "Dropdown(description='Brand:', options=('acura', 'aion', 'alfa-romeo', 'anadol', 'aston-martin', 'audi', 'bent…"
      ]
     },
     "execution_count": 7,
     "metadata": {},
     "output_type": "execute_result"
    }
   ],
   "source": [
    "chosenBrand = widgets.Dropdown(\n",
    "    options=brandList,\n",
    "    description='Brand:',\n",
    "    disabled=False\n",
    ")\n",
    "\n",
    "chosenBrand"
   ]
  },
  {
   "cell_type": "code",
   "execution_count": 8,
   "metadata": {},
   "outputs": [
    {
     "data": {
      "text/plain": [
       "'https://www.sahibinden.com/ford'"
      ]
     },
     "execution_count": 8,
     "metadata": {},
     "output_type": "execute_result"
    }
   ],
   "source": [
    "MODELS_URL = BASE_URL + chosenBrand.value\n",
    "MODELS_URL"
   ]
  },
  {
   "cell_type": "markdown",
   "metadata": {},
   "source": [
    "Now we have the brand name, we can scrape the data of the brand. For this purpose, we used the `get_html` function to get the html content of the first page of the brand. Then we parsed the html and extracted the car models. We found that the car models are in the `li` tag with class name `cl3`. Then we parsed the html and extracted the car models."
   ]
  },
  {
   "cell_type": "code",
   "execution_count": 9,
   "metadata": {},
   "outputs": [],
   "source": [
    "modelsPage = get_html(MODELS_URL)\n",
    "\n",
    "\n",
    "models = BeautifulSoup(modelsPage, \"html.parser\")\n",
    "models = models.find_all(\"li\", {\"class\": \"cl3\"})\n",
    "models = clear_brand_names(models)\n",
    "models = np.unique(models)"
   ]
  },
  {
   "cell_type": "code",
   "execution_count": 10,
   "metadata": {},
   "outputs": [
    {
     "data": {
      "application/vnd.jupyter.widget-view+json": {
       "model_id": "31d50d566f2a4c1fba80013644333d14",
       "version_major": 2,
       "version_minor": 0
      },
      "text/plain": [
       "Dropdown(description='Number:', options=('b-max', 'c-max', 'cougar', 'crown-victoria', 'escort', 'festiva', 'f…"
      ]
     },
     "execution_count": 10,
     "metadata": {},
     "output_type": "execute_result"
    }
   ],
   "source": [
    "chosenModel = widgets.Dropdown(\n",
    "    options=models,\n",
    "    description='Number:',\n",
    "    disabled=False,\n",
    ")\n",
    "chosenModel"
   ]
  },
  {
   "cell_type": "markdown",
   "metadata": {},
   "source": [
    "Since we get car brand and model names, we can write a function to parse sahibinden datatable and extract the data. For this purpose, we used the `get_html` function to get the html content of the first page of the brand. Then itearted over the pages and extracted the data using the pandas `read_html` function."
   ]
  },
  {
   "cell_type": "code",
   "execution_count": 11,
   "metadata": {},
   "outputs": [],
   "source": [
    "def clean_sahibinden_table(table):\n",
    "    usefulContentDF = table.dropna(axis=0, how=\"all\")\n",
    "    usefulContentDF = usefulContentDF[[\"Yıl\", \"KM\", \"Fiyat\",\"Model\"]]\n",
    "    usefulContentDF['KM'] = (usefulContentDF['KM']*1000).astype(int)\n",
    "    usefulContentDF['Fiyat'] = usefulContentDF['Fiyat'].str.replace(\" TL\", \"\")\n",
    "    usefulContentDF['Fiyat'] = usefulContentDF['Fiyat'].str.replace(\".\", \"\").astype(int)\n",
    "    return usefulContentDF"
   ]
  },
  {
   "cell_type": "code",
   "execution_count": 12,
   "metadata": {},
   "outputs": [
    {
     "name": "stdout",
     "output_type": "stream",
     "text": [
      "0\n"
     ]
    },
    {
     "name": "stderr",
     "output_type": "stream",
     "text": [
      "/var/folders/6t/_5r4qrqj4v9fpq6q5xhtnq4h0000gn/T/ipykernel_52228/3113079336.py:6: FutureWarning: The default value of regex will change from True to False in a future version. In addition, single character regular expressions will *not* be treated as literal strings when regex=True.\n",
      "  usefulContentDF['Fiyat'] = usefulContentDF['Fiyat'].str.replace(\".\", \"\").astype(int)\n"
     ]
    },
    {
     "name": "stdout",
     "output_type": "stream",
     "text": [
      "50\n",
      "100\n",
      "150\n",
      "200\n",
      "250\n",
      "300\n",
      "350\n",
      "400\n",
      "450\n",
      "500\n",
      "550\n",
      "600\n",
      "650\n"
     ]
    },
    {
     "data": {
      "text/html": [
       "<div>\n",
       "<style scoped>\n",
       "    .dataframe tbody tr th:only-of-type {\n",
       "        vertical-align: middle;\n",
       "    }\n",
       "\n",
       "    .dataframe tbody tr th {\n",
       "        vertical-align: top;\n",
       "    }\n",
       "\n",
       "    .dataframe thead th {\n",
       "        text-align: right;\n",
       "    }\n",
       "</style>\n",
       "<table border=\"1\" class=\"dataframe\">\n",
       "  <thead>\n",
       "    <tr style=\"text-align: right;\">\n",
       "      <th></th>\n",
       "      <th>Yıl</th>\n",
       "      <th>KM</th>\n",
       "      <th>Fiyat</th>\n",
       "      <th>Model</th>\n",
       "    </tr>\n",
       "  </thead>\n",
       "  <tbody>\n",
       "    <tr>\n",
       "      <th>0</th>\n",
       "      <td>2010.0</td>\n",
       "      <td>235000</td>\n",
       "      <td>185000</td>\n",
       "      <td>1.4 TDCi Trend</td>\n",
       "    </tr>\n",
       "    <tr>\n",
       "      <th>1</th>\n",
       "      <td>2008.0</td>\n",
       "      <td>257000</td>\n",
       "      <td>170000</td>\n",
       "      <td>1.4 Comfort</td>\n",
       "    </tr>\n",
       "    <tr>\n",
       "      <th>2</th>\n",
       "      <td>2011.0</td>\n",
       "      <td>159450</td>\n",
       "      <td>330000</td>\n",
       "      <td>1.4 Titanium</td>\n",
       "    </tr>\n",
       "    <tr>\n",
       "      <th>3</th>\n",
       "      <td>2005.0</td>\n",
       "      <td>215000</td>\n",
       "      <td>195000</td>\n",
       "      <td>1.4 Comfort</td>\n",
       "    </tr>\n",
       "    <tr>\n",
       "      <th>4</th>\n",
       "      <td>2013.0</td>\n",
       "      <td>181000</td>\n",
       "      <td>315000</td>\n",
       "      <td>1.5 TDCi Trend</td>\n",
       "    </tr>\n",
       "    <tr>\n",
       "      <th>...</th>\n",
       "      <td>...</td>\n",
       "      <td>...</td>\n",
       "      <td>...</td>\n",
       "      <td>...</td>\n",
       "    </tr>\n",
       "    <tr>\n",
       "      <th>702</th>\n",
       "      <td>2012.0</td>\n",
       "      <td>129187</td>\n",
       "      <td>324000</td>\n",
       "      <td>1.4 TDCi Trend</td>\n",
       "    </tr>\n",
       "    <tr>\n",
       "      <th>703</th>\n",
       "      <td>2010.0</td>\n",
       "      <td>63000</td>\n",
       "      <td>305000</td>\n",
       "      <td>1.4 TDCi Titanium</td>\n",
       "    </tr>\n",
       "    <tr>\n",
       "      <th>704</th>\n",
       "      <td>2011.0</td>\n",
       "      <td>142000</td>\n",
       "      <td>300000</td>\n",
       "      <td>1.4 TDCi Titanium</td>\n",
       "    </tr>\n",
       "    <tr>\n",
       "      <th>705</th>\n",
       "      <td>2017.0</td>\n",
       "      <td>134000</td>\n",
       "      <td>440000</td>\n",
       "      <td>1.6 Titanium</td>\n",
       "    </tr>\n",
       "    <tr>\n",
       "      <th>706</th>\n",
       "      <td>2017.0</td>\n",
       "      <td>90000</td>\n",
       "      <td>465000</td>\n",
       "      <td>1.5 TDCi Titanium</td>\n",
       "    </tr>\n",
       "  </tbody>\n",
       "</table>\n",
       "<p>707 rows × 4 columns</p>\n",
       "</div>"
      ],
      "text/plain": [
       "        Yıl      KM   Fiyat              Model\n",
       "0    2010.0  235000  185000     1.4 TDCi Trend\n",
       "1    2008.0  257000  170000        1.4 Comfort\n",
       "2    2011.0  159450  330000       1.4 Titanium\n",
       "3    2005.0  215000  195000        1.4 Comfort\n",
       "4    2013.0  181000  315000     1.5 TDCi Trend\n",
       "..      ...     ...     ...                ...\n",
       "702  2012.0  129187  324000     1.4 TDCi Trend\n",
       "703  2010.0   63000  305000  1.4 TDCi Titanium\n",
       "704  2011.0  142000  300000  1.4 TDCi Titanium\n",
       "705  2017.0  134000  440000       1.6 Titanium\n",
       "706  2017.0   90000  465000  1.5 TDCi Titanium\n",
       "\n",
       "[707 rows x 4 columns]"
      ]
     },
     "execution_count": 12,
     "metadata": {},
     "output_type": "execute_result"
    }
   ],
   "source": [
    "df = pd.DataFrame(columns=[\"Yıl\", \"KM\", \"Fiyat\",\"Model\"])\n",
    "\n",
    "for offset in range(0, 700, 50):\n",
    "    print(offset)\n",
    "    QUERY_PARAM = \"?pagingOffset={}&pagingSize=50&sorting=date_desc\".format(offset)\n",
    "    QUERY_URL = MODELS_URL + \"-\" + chosenModel.value + QUERY_PARAM\n",
    "\n",
    "    content = get_html(QUERY_URL)\n",
    "    content = BeautifulSoup(content, \"html.parser\")\n",
    "    content = content.find(\"table\", {\"id\": \"searchResultsTable\"})\n",
    "    contentDF = pd.read_html(str(content))[0]\n",
    "    contentDF = clean_sahibinden_table(contentDF)\n",
    "    df = df.append(contentDF, ignore_index=True)\n",
    "    \n",
    "df"
   ]
  },
  {
   "attachments": {},
   "cell_type": "markdown",
   "metadata": {},
   "source": [
    "After we get the all data, we encoded the categorical Model data using OneHotEncoder."
   ]
  },
  {
   "cell_type": "code",
   "execution_count": 14,
   "metadata": {},
   "outputs": [
    {
     "name": "stderr",
     "output_type": "stream",
     "text": [
      "/Applications/anaconda3/envs/390/lib/python3.9/site-packages/sklearn/utils/deprecation.py:87: FutureWarning: Function get_feature_names is deprecated; get_feature_names is deprecated in 1.0 and will be removed in 1.2. Please use get_feature_names_out instead.\n",
      "  warnings.warn(msg, category=FutureWarning)\n"
     ]
    }
   ],
   "source": [
    "enc = OneHotEncoder()\n",
    "enc_df = pd.DataFrame(enc.fit_transform(df[['Model']]).toarray(), columns=enc.get_feature_names(['Model']))"
   ]
  },
  {
   "attachments": {},
   "cell_type": "markdown",
   "metadata": {},
   "source": [
    "Merge the encoded data with the original data"
   ]
  },
  {
   "cell_type": "code",
   "execution_count": 15,
   "metadata": {},
   "outputs": [
    {
     "data": {
      "text/html": [
       "<div>\n",
       "<style scoped>\n",
       "    .dataframe tbody tr th:only-of-type {\n",
       "        vertical-align: middle;\n",
       "    }\n",
       "\n",
       "    .dataframe tbody tr th {\n",
       "        vertical-align: top;\n",
       "    }\n",
       "\n",
       "    .dataframe thead th {\n",
       "        text-align: right;\n",
       "    }\n",
       "</style>\n",
       "<table border=\"1\" class=\"dataframe\">\n",
       "  <thead>\n",
       "    <tr style=\"text-align: right;\">\n",
       "      <th></th>\n",
       "      <th>Yıl</th>\n",
       "      <th>KM</th>\n",
       "      <th>Fiyat</th>\n",
       "      <th>Model</th>\n",
       "      <th>Model_1.0 EcoBoost ST Line</th>\n",
       "      <th>Model_1.0 EcoBoost Style</th>\n",
       "      <th>Model_1.0 EcoBoost Titanium</th>\n",
       "      <th>Model_1.0 EcoBoost Trend</th>\n",
       "      <th>Model_1.0 GTDi ST Line</th>\n",
       "      <th>Model_1.0 GTDi Titanium</th>\n",
       "      <th>...</th>\n",
       "      <th>Model_1.5 TDCi Trend X</th>\n",
       "      <th>Model_1.6 Collection</th>\n",
       "      <th>Model_1.6 Comfort</th>\n",
       "      <th>Model_1.6 TDCi Ghia</th>\n",
       "      <th>Model_1.6 TDCi Sport</th>\n",
       "      <th>Model_1.6 TDCi Titanium</th>\n",
       "      <th>Model_1.6 Ti-VCT Trend X</th>\n",
       "      <th>Model_1.6 Titanium</th>\n",
       "      <th>Model_1.6 Trend</th>\n",
       "      <th>Model_1.6 Trend X</th>\n",
       "    </tr>\n",
       "  </thead>\n",
       "  <tbody>\n",
       "    <tr>\n",
       "      <th>0</th>\n",
       "      <td>2010.0</td>\n",
       "      <td>235000</td>\n",
       "      <td>185000</td>\n",
       "      <td>1.4 TDCi Trend</td>\n",
       "      <td>0.0</td>\n",
       "      <td>0.0</td>\n",
       "      <td>0.0</td>\n",
       "      <td>0.0</td>\n",
       "      <td>0.0</td>\n",
       "      <td>0.0</td>\n",
       "      <td>...</td>\n",
       "      <td>0.0</td>\n",
       "      <td>0.0</td>\n",
       "      <td>0.0</td>\n",
       "      <td>0.0</td>\n",
       "      <td>0.0</td>\n",
       "      <td>0.0</td>\n",
       "      <td>0.0</td>\n",
       "      <td>0.0</td>\n",
       "      <td>0.0</td>\n",
       "      <td>0.0</td>\n",
       "    </tr>\n",
       "    <tr>\n",
       "      <th>1</th>\n",
       "      <td>2008.0</td>\n",
       "      <td>257000</td>\n",
       "      <td>170000</td>\n",
       "      <td>1.4 Comfort</td>\n",
       "      <td>0.0</td>\n",
       "      <td>0.0</td>\n",
       "      <td>0.0</td>\n",
       "      <td>0.0</td>\n",
       "      <td>0.0</td>\n",
       "      <td>0.0</td>\n",
       "      <td>...</td>\n",
       "      <td>0.0</td>\n",
       "      <td>0.0</td>\n",
       "      <td>0.0</td>\n",
       "      <td>0.0</td>\n",
       "      <td>0.0</td>\n",
       "      <td>0.0</td>\n",
       "      <td>0.0</td>\n",
       "      <td>0.0</td>\n",
       "      <td>0.0</td>\n",
       "      <td>0.0</td>\n",
       "    </tr>\n",
       "    <tr>\n",
       "      <th>2</th>\n",
       "      <td>2011.0</td>\n",
       "      <td>159450</td>\n",
       "      <td>330000</td>\n",
       "      <td>1.4 Titanium</td>\n",
       "      <td>0.0</td>\n",
       "      <td>0.0</td>\n",
       "      <td>0.0</td>\n",
       "      <td>0.0</td>\n",
       "      <td>0.0</td>\n",
       "      <td>0.0</td>\n",
       "      <td>...</td>\n",
       "      <td>0.0</td>\n",
       "      <td>0.0</td>\n",
       "      <td>0.0</td>\n",
       "      <td>0.0</td>\n",
       "      <td>0.0</td>\n",
       "      <td>0.0</td>\n",
       "      <td>0.0</td>\n",
       "      <td>0.0</td>\n",
       "      <td>0.0</td>\n",
       "      <td>0.0</td>\n",
       "    </tr>\n",
       "    <tr>\n",
       "      <th>3</th>\n",
       "      <td>2005.0</td>\n",
       "      <td>215000</td>\n",
       "      <td>195000</td>\n",
       "      <td>1.4 Comfort</td>\n",
       "      <td>0.0</td>\n",
       "      <td>0.0</td>\n",
       "      <td>0.0</td>\n",
       "      <td>0.0</td>\n",
       "      <td>0.0</td>\n",
       "      <td>0.0</td>\n",
       "      <td>...</td>\n",
       "      <td>0.0</td>\n",
       "      <td>0.0</td>\n",
       "      <td>0.0</td>\n",
       "      <td>0.0</td>\n",
       "      <td>0.0</td>\n",
       "      <td>0.0</td>\n",
       "      <td>0.0</td>\n",
       "      <td>0.0</td>\n",
       "      <td>0.0</td>\n",
       "      <td>0.0</td>\n",
       "    </tr>\n",
       "    <tr>\n",
       "      <th>4</th>\n",
       "      <td>2013.0</td>\n",
       "      <td>181000</td>\n",
       "      <td>315000</td>\n",
       "      <td>1.5 TDCi Trend</td>\n",
       "      <td>0.0</td>\n",
       "      <td>0.0</td>\n",
       "      <td>0.0</td>\n",
       "      <td>0.0</td>\n",
       "      <td>0.0</td>\n",
       "      <td>0.0</td>\n",
       "      <td>...</td>\n",
       "      <td>0.0</td>\n",
       "      <td>0.0</td>\n",
       "      <td>0.0</td>\n",
       "      <td>0.0</td>\n",
       "      <td>0.0</td>\n",
       "      <td>0.0</td>\n",
       "      <td>0.0</td>\n",
       "      <td>0.0</td>\n",
       "      <td>0.0</td>\n",
       "      <td>0.0</td>\n",
       "    </tr>\n",
       "    <tr>\n",
       "      <th>...</th>\n",
       "      <td>...</td>\n",
       "      <td>...</td>\n",
       "      <td>...</td>\n",
       "      <td>...</td>\n",
       "      <td>...</td>\n",
       "      <td>...</td>\n",
       "      <td>...</td>\n",
       "      <td>...</td>\n",
       "      <td>...</td>\n",
       "      <td>...</td>\n",
       "      <td>...</td>\n",
       "      <td>...</td>\n",
       "      <td>...</td>\n",
       "      <td>...</td>\n",
       "      <td>...</td>\n",
       "      <td>...</td>\n",
       "      <td>...</td>\n",
       "      <td>...</td>\n",
       "      <td>...</td>\n",
       "      <td>...</td>\n",
       "      <td>...</td>\n",
       "    </tr>\n",
       "    <tr>\n",
       "      <th>702</th>\n",
       "      <td>2012.0</td>\n",
       "      <td>129187</td>\n",
       "      <td>324000</td>\n",
       "      <td>1.4 TDCi Trend</td>\n",
       "      <td>0.0</td>\n",
       "      <td>0.0</td>\n",
       "      <td>0.0</td>\n",
       "      <td>0.0</td>\n",
       "      <td>0.0</td>\n",
       "      <td>0.0</td>\n",
       "      <td>...</td>\n",
       "      <td>0.0</td>\n",
       "      <td>0.0</td>\n",
       "      <td>0.0</td>\n",
       "      <td>0.0</td>\n",
       "      <td>0.0</td>\n",
       "      <td>0.0</td>\n",
       "      <td>0.0</td>\n",
       "      <td>0.0</td>\n",
       "      <td>0.0</td>\n",
       "      <td>0.0</td>\n",
       "    </tr>\n",
       "    <tr>\n",
       "      <th>703</th>\n",
       "      <td>2010.0</td>\n",
       "      <td>63000</td>\n",
       "      <td>305000</td>\n",
       "      <td>1.4 TDCi Titanium</td>\n",
       "      <td>0.0</td>\n",
       "      <td>0.0</td>\n",
       "      <td>0.0</td>\n",
       "      <td>0.0</td>\n",
       "      <td>0.0</td>\n",
       "      <td>0.0</td>\n",
       "      <td>...</td>\n",
       "      <td>0.0</td>\n",
       "      <td>0.0</td>\n",
       "      <td>0.0</td>\n",
       "      <td>0.0</td>\n",
       "      <td>0.0</td>\n",
       "      <td>0.0</td>\n",
       "      <td>0.0</td>\n",
       "      <td>0.0</td>\n",
       "      <td>0.0</td>\n",
       "      <td>0.0</td>\n",
       "    </tr>\n",
       "    <tr>\n",
       "      <th>704</th>\n",
       "      <td>2011.0</td>\n",
       "      <td>142000</td>\n",
       "      <td>300000</td>\n",
       "      <td>1.4 TDCi Titanium</td>\n",
       "      <td>0.0</td>\n",
       "      <td>0.0</td>\n",
       "      <td>0.0</td>\n",
       "      <td>0.0</td>\n",
       "      <td>0.0</td>\n",
       "      <td>0.0</td>\n",
       "      <td>...</td>\n",
       "      <td>0.0</td>\n",
       "      <td>0.0</td>\n",
       "      <td>0.0</td>\n",
       "      <td>0.0</td>\n",
       "      <td>0.0</td>\n",
       "      <td>0.0</td>\n",
       "      <td>0.0</td>\n",
       "      <td>0.0</td>\n",
       "      <td>0.0</td>\n",
       "      <td>0.0</td>\n",
       "    </tr>\n",
       "    <tr>\n",
       "      <th>705</th>\n",
       "      <td>2017.0</td>\n",
       "      <td>134000</td>\n",
       "      <td>440000</td>\n",
       "      <td>1.6 Titanium</td>\n",
       "      <td>0.0</td>\n",
       "      <td>0.0</td>\n",
       "      <td>0.0</td>\n",
       "      <td>0.0</td>\n",
       "      <td>0.0</td>\n",
       "      <td>0.0</td>\n",
       "      <td>...</td>\n",
       "      <td>0.0</td>\n",
       "      <td>0.0</td>\n",
       "      <td>0.0</td>\n",
       "      <td>0.0</td>\n",
       "      <td>0.0</td>\n",
       "      <td>0.0</td>\n",
       "      <td>0.0</td>\n",
       "      <td>1.0</td>\n",
       "      <td>0.0</td>\n",
       "      <td>0.0</td>\n",
       "    </tr>\n",
       "    <tr>\n",
       "      <th>706</th>\n",
       "      <td>2017.0</td>\n",
       "      <td>90000</td>\n",
       "      <td>465000</td>\n",
       "      <td>1.5 TDCi Titanium</td>\n",
       "      <td>0.0</td>\n",
       "      <td>0.0</td>\n",
       "      <td>0.0</td>\n",
       "      <td>0.0</td>\n",
       "      <td>0.0</td>\n",
       "      <td>0.0</td>\n",
       "      <td>...</td>\n",
       "      <td>0.0</td>\n",
       "      <td>0.0</td>\n",
       "      <td>0.0</td>\n",
       "      <td>0.0</td>\n",
       "      <td>0.0</td>\n",
       "      <td>0.0</td>\n",
       "      <td>0.0</td>\n",
       "      <td>0.0</td>\n",
       "      <td>0.0</td>\n",
       "      <td>0.0</td>\n",
       "    </tr>\n",
       "  </tbody>\n",
       "</table>\n",
       "<p>707 rows × 43 columns</p>\n",
       "</div>"
      ],
      "text/plain": [
       "        Yıl      KM   Fiyat              Model  Model_1.0 EcoBoost ST Line  \\\n",
       "0    2010.0  235000  185000     1.4 TDCi Trend                         0.0   \n",
       "1    2008.0  257000  170000        1.4 Comfort                         0.0   \n",
       "2    2011.0  159450  330000       1.4 Titanium                         0.0   \n",
       "3    2005.0  215000  195000        1.4 Comfort                         0.0   \n",
       "4    2013.0  181000  315000     1.5 TDCi Trend                         0.0   \n",
       "..      ...     ...     ...                ...                         ...   \n",
       "702  2012.0  129187  324000     1.4 TDCi Trend                         0.0   \n",
       "703  2010.0   63000  305000  1.4 TDCi Titanium                         0.0   \n",
       "704  2011.0  142000  300000  1.4 TDCi Titanium                         0.0   \n",
       "705  2017.0  134000  440000       1.6 Titanium                         0.0   \n",
       "706  2017.0   90000  465000  1.5 TDCi Titanium                         0.0   \n",
       "\n",
       "     Model_1.0 EcoBoost Style  Model_1.0 EcoBoost Titanium  \\\n",
       "0                         0.0                          0.0   \n",
       "1                         0.0                          0.0   \n",
       "2                         0.0                          0.0   \n",
       "3                         0.0                          0.0   \n",
       "4                         0.0                          0.0   \n",
       "..                        ...                          ...   \n",
       "702                       0.0                          0.0   \n",
       "703                       0.0                          0.0   \n",
       "704                       0.0                          0.0   \n",
       "705                       0.0                          0.0   \n",
       "706                       0.0                          0.0   \n",
       "\n",
       "     Model_1.0 EcoBoost Trend  Model_1.0 GTDi ST Line  \\\n",
       "0                         0.0                     0.0   \n",
       "1                         0.0                     0.0   \n",
       "2                         0.0                     0.0   \n",
       "3                         0.0                     0.0   \n",
       "4                         0.0                     0.0   \n",
       "..                        ...                     ...   \n",
       "702                       0.0                     0.0   \n",
       "703                       0.0                     0.0   \n",
       "704                       0.0                     0.0   \n",
       "705                       0.0                     0.0   \n",
       "706                       0.0                     0.0   \n",
       "\n",
       "     Model_1.0 GTDi Titanium  ...  Model_1.5 TDCi Trend X  \\\n",
       "0                        0.0  ...                     0.0   \n",
       "1                        0.0  ...                     0.0   \n",
       "2                        0.0  ...                     0.0   \n",
       "3                        0.0  ...                     0.0   \n",
       "4                        0.0  ...                     0.0   \n",
       "..                       ...  ...                     ...   \n",
       "702                      0.0  ...                     0.0   \n",
       "703                      0.0  ...                     0.0   \n",
       "704                      0.0  ...                     0.0   \n",
       "705                      0.0  ...                     0.0   \n",
       "706                      0.0  ...                     0.0   \n",
       "\n",
       "     Model_1.6 Collection  Model_1.6 Comfort  Model_1.6 TDCi Ghia  \\\n",
       "0                     0.0                0.0                  0.0   \n",
       "1                     0.0                0.0                  0.0   \n",
       "2                     0.0                0.0                  0.0   \n",
       "3                     0.0                0.0                  0.0   \n",
       "4                     0.0                0.0                  0.0   \n",
       "..                    ...                ...                  ...   \n",
       "702                   0.0                0.0                  0.0   \n",
       "703                   0.0                0.0                  0.0   \n",
       "704                   0.0                0.0                  0.0   \n",
       "705                   0.0                0.0                  0.0   \n",
       "706                   0.0                0.0                  0.0   \n",
       "\n",
       "     Model_1.6 TDCi Sport  Model_1.6 TDCi Titanium  Model_1.6 Ti-VCT Trend X  \\\n",
       "0                     0.0                      0.0                       0.0   \n",
       "1                     0.0                      0.0                       0.0   \n",
       "2                     0.0                      0.0                       0.0   \n",
       "3                     0.0                      0.0                       0.0   \n",
       "4                     0.0                      0.0                       0.0   \n",
       "..                    ...                      ...                       ...   \n",
       "702                   0.0                      0.0                       0.0   \n",
       "703                   0.0                      0.0                       0.0   \n",
       "704                   0.0                      0.0                       0.0   \n",
       "705                   0.0                      0.0                       0.0   \n",
       "706                   0.0                      0.0                       0.0   \n",
       "\n",
       "     Model_1.6 Titanium  Model_1.6 Trend  Model_1.6 Trend X  \n",
       "0                   0.0              0.0                0.0  \n",
       "1                   0.0              0.0                0.0  \n",
       "2                   0.0              0.0                0.0  \n",
       "3                   0.0              0.0                0.0  \n",
       "4                   0.0              0.0                0.0  \n",
       "..                  ...              ...                ...  \n",
       "702                 0.0              0.0                0.0  \n",
       "703                 0.0              0.0                0.0  \n",
       "704                 0.0              0.0                0.0  \n",
       "705                 1.0              0.0                0.0  \n",
       "706                 0.0              0.0                0.0  \n",
       "\n",
       "[707 rows x 43 columns]"
      ]
     },
     "execution_count": 15,
     "metadata": {},
     "output_type": "execute_result"
    }
   ],
   "source": [
    "final_df = df.join(enc_df)\n",
    "final_df"
   ]
  },
  {
   "attachments": {},
   "cell_type": "markdown",
   "metadata": {},
   "source": [
    "Defined a funtion to train the model based on user input \n",
    "\n",
    "- Linear Regression\n",
    "- SVM\n",
    "- Random Forest"
   ]
  },
  {
   "cell_type": "code",
   "execution_count": 16,
   "metadata": {},
   "outputs": [],
   "source": [
    "def build_model(X_train, y_train,model):\n",
    "    if model == \"linear\":\n",
    "        model = LinearRegression()\n",
    "    if model == \"svm\":\n",
    "        model = SVR(gamma='scale', C=100000.0, epsilon=0.2)\n",
    "    if model == \"randomforest\":\n",
    "        model = RandomForestRegressor()\n",
    "    model.fit(X_train, y_train)\n",
    "\n",
    "    return model"
   ]
  },
  {
   "attachments": {},
   "cell_type": "markdown",
   "metadata": {},
   "source": [
    "arrange x and y variables and split the data into train and test sets"
   ]
  },
  {
   "cell_type": "code",
   "execution_count": 17,
   "metadata": {},
   "outputs": [],
   "source": [
    "X = final_df.drop([\"Fiyat\",\"Model\"], axis=1)\n",
    "y = final_df[\"Fiyat\"]\n",
    "\n",
    "X_train, X_test, y_train, y_test = train_test_split(X, y, test_size=0.2, random_state=42)"
   ]
  },
  {
   "attachments": {},
   "cell_type": "markdown",
   "metadata": {},
   "source": [
    "#### Train Linear Regression model"
   ]
  },
  {
   "cell_type": "code",
   "execution_count": 18,
   "metadata": {},
   "outputs": [
    {
     "data": {
      "text/plain": [
       "0.8383371779460547"
      ]
     },
     "execution_count": 18,
     "metadata": {},
     "output_type": "execute_result"
    }
   ],
   "source": [
    "linear_model = build_model(X_train, y_train, \"linear\")\n",
    "\n",
    "linear_model.score(X_test, y_test)"
   ]
  },
  {
   "cell_type": "code",
   "execution_count": 19,
   "metadata": {},
   "outputs": [],
   "source": [
    "y_pred = linear_model.predict(X_test)"
   ]
  },
  {
   "attachments": {},
   "cell_type": "markdown",
   "metadata": {},
   "source": [
    "defined a function to plot the predicted and actual values"
   ]
  },
  {
   "cell_type": "code",
   "execution_count": 20,
   "metadata": {},
   "outputs": [],
   "source": [
    "def plot_prediction(y_test, y_pred):\n",
    "    plt.figure(figsize=(12, 7))\n",
    "    plt.scatter(y_pred, y_test, alpha=0.4)\n",
    "    plt.xlabel(\"Predicted\")\n",
    "    plt.ylabel(\"Actual\")\n",
    "    plt.title(\"Predicted vs Actual\")\n",
    "    maxValue = max(y_test.max(), y_pred.max())\n",
    "    minValue = min(y_test.min(), y_pred.min())\n",
    "    plt.plot([minValue, maxValue], [minValue, maxValue], color='red')\n",
    "    plt.show()"
   ]
  },
  {
   "cell_type": "code",
   "execution_count": 21,
   "metadata": {},
   "outputs": [
    {
     "data": {
      "image/png": "[encoded data removed]",
      "text/plain": [
       "<Figure size 1200x700 with 1 Axes>"
      ]
     },
     "metadata": {},
     "output_type": "display_data"
    }
   ],
   "source": [
    "plot_prediction(y_test, y_pred)"
   ]
  },
  {
   "attachments": {},
   "cell_type": "markdown",
   "metadata": {},
   "source": [
    "#### Train SVM model"
   ]
  },
  {
   "cell_type": "code",
   "execution_count": 22,
   "metadata": {},
   "outputs": [
    {
     "data": {
      "text/plain": [
       "0.6206870825864733"
      ]
     },
     "execution_count": 22,
     "metadata": {},
     "output_type": "execute_result"
    }
   ],
   "source": [
    "svm_model = build_model(X_train, y_train, \"svm\")\n",
    "\n",
    "svm_model.score(X_test, y_test)"
   ]
  },
  {
   "cell_type": "code",
   "execution_count": 23,
   "metadata": {},
   "outputs": [],
   "source": [
    "y_pred = svm_model.predict(X_test)"
   ]
  },
  {
   "cell_type": "code",
   "execution_count": 24,
   "metadata": {},
   "outputs": [
    {
     "data": {
      "image/png": "[encoded data removed]",
      "text/plain": [
       "<Figure size 1200x700 with 1 Axes>"
      ]
     },
     "metadata": {},
     "output_type": "display_data"
    }
   ],
   "source": [
    "plot_prediction(y_test, y_pred)"
   ]
  },
  {
   "attachments": {},
   "cell_type": "markdown",
   "metadata": {},
   "source": [
    "#### Train Random Forest model"
   ]
  },
  {
   "cell_type": "code",
   "execution_count": 25,
   "metadata": {},
   "outputs": [
    {
     "data": {
      "text/plain": [
       "0.8333972278452233"
      ]
     },
     "execution_count": 25,
     "metadata": {},
     "output_type": "execute_result"
    }
   ],
   "source": [
    "randomforest_model = build_model(X_train, y_train, \"randomforest\")\n",
    "\n",
    "randomforest_model.score(X_test, y_test)"
   ]
  },
  {
   "cell_type": "code",
   "execution_count": 26,
   "metadata": {},
   "outputs": [
    {
     "data": {
      "image/png": "[encoded data removed]",
      "text/plain": [
       "<Figure size 1200x700 with 1 Axes>"
      ]
     },
     "metadata": {},
     "output_type": "display_data"
    }
   ],
   "source": [
    "y_pred = randomforest_model.predict(X_test)\n",
    "plot_prediction(y_test, y_pred)"
   ]
  },
  {
   "attachments": {},
   "cell_type": "markdown",
   "metadata": {},
   "source": [
    "Since we get the models, we can take the user input. For this purpose, we used the `ipywidgets` library. We created a dropdown widget for take car model input."
   ]
  },
  {
   "cell_type": "code",
   "execution_count": 27,
   "metadata": {},
   "outputs": [],
   "source": [
    "spesificModels = df[\"Model\"].unique()\n",
    "spesificModels.sort()"
   ]
  },
  {
   "cell_type": "code",
   "execution_count": 28,
   "metadata": {},
   "outputs": [
    {
     "data": {
      "application/vnd.jupyter.widget-view+json": {
       "model_id": "568df69226ce427b9f88f1e2e42b860e",
       "version_major": 2,
       "version_minor": 0
      },
      "text/plain": [
       "Dropdown(description='Araç Model:', options=('1.0 EcoBoost ST Line', '1.0 EcoBoost Style', '1.0 EcoBoost Titan…"
      ]
     },
     "execution_count": 28,
     "metadata": {},
     "output_type": "execute_result"
    }
   ],
   "source": [
    "selectedModel = widgets.Dropdown(\n",
    "    options=spesificModels,\n",
    "    description='Araç Model:',\n",
    "    disabled=False,\n",
    ")\n",
    "selectedModel"
   ]
  },
  {
   "cell_type": "code",
   "execution_count": 29,
   "metadata": {},
   "outputs": [
    {
     "data": {
      "text/html": [
       "<div>\n",
       "<style scoped>\n",
       "    .dataframe tbody tr th:only-of-type {\n",
       "        vertical-align: middle;\n",
       "    }\n",
       "\n",
       "    .dataframe tbody tr th {\n",
       "        vertical-align: top;\n",
       "    }\n",
       "\n",
       "    .dataframe thead th {\n",
       "        text-align: right;\n",
       "    }\n",
       "</style>\n",
       "<table border=\"1\" class=\"dataframe\">\n",
       "  <thead>\n",
       "    <tr style=\"text-align: right;\">\n",
       "      <th></th>\n",
       "      <th>1.0 EcoBoost ST Line</th>\n",
       "      <th>1.0 EcoBoost Style</th>\n",
       "      <th>1.0 EcoBoost Titanium</th>\n",
       "      <th>1.0 EcoBoost Trend</th>\n",
       "      <th>1.0 GTDi ST Line</th>\n",
       "      <th>1.0 GTDi Titanium</th>\n",
       "      <th>1.1 Trend</th>\n",
       "      <th>1.1 Trend X</th>\n",
       "      <th>1.25 Flair</th>\n",
       "      <th>1.25 Ghia</th>\n",
       "      <th>...</th>\n",
       "      <th>1.5 TDCi Trend X</th>\n",
       "      <th>1.6 Collection</th>\n",
       "      <th>1.6 Comfort</th>\n",
       "      <th>1.6 TDCi Ghia</th>\n",
       "      <th>1.6 TDCi Sport</th>\n",
       "      <th>1.6 TDCi Titanium</th>\n",
       "      <th>1.6 Ti-VCT Trend X</th>\n",
       "      <th>1.6 Titanium</th>\n",
       "      <th>1.6 Trend</th>\n",
       "      <th>1.6 Trend X</th>\n",
       "    </tr>\n",
       "  </thead>\n",
       "  <tbody>\n",
       "    <tr>\n",
       "      <th>0</th>\n",
       "      <td>0</td>\n",
       "      <td>0</td>\n",
       "      <td>0</td>\n",
       "      <td>0</td>\n",
       "      <td>0</td>\n",
       "      <td>0</td>\n",
       "      <td>0</td>\n",
       "      <td>0</td>\n",
       "      <td>0</td>\n",
       "      <td>0</td>\n",
       "      <td>...</td>\n",
       "      <td>0</td>\n",
       "      <td>0</td>\n",
       "      <td>0</td>\n",
       "      <td>0</td>\n",
       "      <td>0</td>\n",
       "      <td>0</td>\n",
       "      <td>0</td>\n",
       "      <td>0</td>\n",
       "      <td>0</td>\n",
       "      <td>0</td>\n",
       "    </tr>\n",
       "  </tbody>\n",
       "</table>\n",
       "<p>1 rows × 39 columns</p>\n",
       "</div>"
      ],
      "text/plain": [
       "   1.0 EcoBoost ST Line  1.0 EcoBoost Style  1.0 EcoBoost Titanium  \\\n",
       "0                     0                   0                      0   \n",
       "\n",
       "   1.0 EcoBoost Trend  1.0 GTDi ST Line  1.0 GTDi Titanium  1.1 Trend  \\\n",
       "0                   0                 0                  0          0   \n",
       "\n",
       "   1.1 Trend X  1.25 Flair  1.25 Ghia  ...  1.5 TDCi Trend X  1.6 Collection  \\\n",
       "0            0           0          0  ...                 0               0   \n",
       "\n",
       "   1.6 Comfort  1.6 TDCi Ghia  1.6 TDCi Sport  1.6 TDCi Titanium  \\\n",
       "0            0              0               0                  0   \n",
       "\n",
       "   1.6 Ti-VCT Trend X  1.6 Titanium  1.6 Trend  1.6 Trend X  \n",
       "0                   0             0          0            0  \n",
       "\n",
       "[1 rows x 39 columns]"
      ]
     },
     "execution_count": 29,
     "metadata": {},
     "output_type": "execute_result"
    }
   ],
   "source": [
    "spesificModelsDF = pd.DataFrame(columns=spesificModels)\n",
    "spesificModelsDF.loc[0, selectedModel.value] = 1\n",
    "spesificModelsDF.fillna(0, inplace=True)\n",
    "spesificModelsDF"
   ]
  },
  {
   "attachments": {},
   "cell_type": "markdown",
   "metadata": {},
   "source": [
    "created a input widget for take car year input."
   ]
  },
  {
   "cell_type": "code",
   "execution_count": 30,
   "metadata": {},
   "outputs": [
    {
     "data": {
      "application/vnd.jupyter.widget-view+json": {
       "model_id": "4bdc5fcac09249498049807a800b80a6",
       "version_major": 2,
       "version_minor": 0
      },
      "text/plain": [
       "BoundedIntText(value=2022, description='Yıl:', max=2022, min=1950)"
      ]
     },
     "execution_count": 30,
     "metadata": {},
     "output_type": "execute_result"
    }
   ],
   "source": [
    "year = widgets.BoundedIntText(\n",
    "    value=2022,\n",
    "    min=1950,\n",
    "    max=2022,\n",
    "    step=1,\n",
    "    description='Yıl:',\n",
    "    disabled=False\n",
    ")\n",
    "year"
   ]
  },
  {
   "attachments": {},
   "cell_type": "markdown",
   "metadata": {},
   "source": [
    "created slider widget for take car km input."
   ]
  },
  {
   "cell_type": "code",
   "execution_count": 31,
   "metadata": {},
   "outputs": [
    {
     "data": {
      "application/vnd.jupyter.widget-view+json": {
       "model_id": "df04e5bb562b44eeae19edb8c710d629",
       "version_major": 2,
       "version_minor": 0
      },
      "text/plain": [
       "IntSlider(value=0, continuous_update=False, description='Kilometre:', max=1000000, step=1000)"
      ]
     },
     "execution_count": 31,
     "metadata": {},
     "output_type": "execute_result"
    }
   ],
   "source": [
    "km = widgets.IntSlider(\n",
    "    value=0,\n",
    "    min=0,\n",
    "    max=1000000,\n",
    "    step=1000,\n",
    "    description='Kilometre:',\n",
    "    disabled=False,\n",
    "    continuous_update=False,\n",
    "    orientation='horizontal',\n",
    "    readout=True,\n",
    "    readout_format='d'\n",
    ")\n",
    "km"
   ]
  },
  {
   "attachments": {},
   "cell_type": "markdown",
   "metadata": {},
   "source": [
    "predicted and printed out the price of the car based on the user inputs."
   ]
  },
  {
   "cell_type": "code",
   "execution_count": 32,
   "metadata": {},
   "outputs": [
    {
     "name": "stdout",
     "output_type": "stream",
     "text": [
      "[443972.94194346]\n"
     ]
    },
    {
     "name": "stderr",
     "output_type": "stream",
     "text": [
      "/Applications/anaconda3/envs/390/lib/python3.9/site-packages/sklearn/base.py:450: UserWarning: X does not have valid feature names, but LinearRegression was fitted with feature names\n",
      "  warnings.warn(\n"
     ]
    }
   ],
   "source": [
    "print(linear_model.predict([[year.value, km.value, *spesificModelsDF.values[0]]]))"
   ]
  },
  {
   "attachments": {},
   "cell_type": "markdown",
   "metadata": {},
   "source": [
    "## Interactive Playground\n",
    "\n",
    "Since we created all of the models and widgets we can create an interactive playground. We created a function to create the interactive playground. We have used `@interact` decorator to create interactivity.\n",
    "\n",
    "Screenshot: [link](https://github.com/BerkkanB/MAT-381E-FINAL-PROJECT/blob/main/screenshots/ss1.png?raw=true) <br>\n",
    "![https://github.com/BerkkanB/MAT-381E-FINAL-PROJECT/blob/main/screenshots/ss1.png?raw=true](screenshots/ss1.png)\n",
    "\n",
    "\n",
    "\n",
    "> NOTE = The interactive playground is not working on github. Please download the notebook and run it on your local machine to see the interactive playground."
   ]
  },
  {
   "cell_type": "code",
   "execution_count": 33,
   "metadata": {},
   "outputs": [
    {
     "data": {
      "application/vnd.jupyter.widget-view+json": {
       "model_id": "eeae255551844b2fa7ec05bf181bbd6d",
       "version_major": 2,
       "version_minor": 0
      },
      "text/plain": [
       "interactive(children=(Dropdown(description='ml_model', options=('linear', 'svm', 'randomforest'), value='linea…"
      ]
     },
     "metadata": {},
     "output_type": "display_data"
    }
   ],
   "source": [
    "ml_model = [\"linear\", \"svm\", \"randomforest\"]\n",
    "\n",
    "@interact(ml_model = ml_model, year=year, km=km, model_name=selectedModel)\n",
    "def predict_price(ml_model, year, km, model_name):\n",
    "    print(\"Price prediction for {} - {}\".format(chosenBrand.value, chosenModel.value))\n",
    "\n",
    "    spesificModelsDF = pd.DataFrame(columns=spesificModels)\n",
    "    spesificModelsDF.loc[0, model_name] = 1\n",
    "    spesificModelsDF.fillna(0, inplace=True)\n",
    "    if ml_model == \"linear\":\n",
    "        price = linear_model.predict([[year, km, *spesificModelsDF.values[0]]])\n",
    "        print(\"Predicted price: {} TL\".format(price[0].round(2)))\n",
    "    elif ml_model == \"svm\":\n",
    "        price = svm_model.predict([[year, km, *spesificModelsDF.values[0]]])\n",
    "        print(\"Predicted price: {} TL\".format(price[0].round(2)))\n",
    "    elif ml_model == \"randomforest\":\n",
    "        price = randomforest_model.predict([[year, km, *spesificModelsDF.values[0]]])\n",
    "        print(\"Predicted price: {} TL\".format(price[0].round(2)))\n",
    "    "
   ]
  }
 ],
 "metadata": {
  "kernelspec": {
   "display_name": "Python 3 (ipykernel)",
   "language": "python",
   "name": "python3"
  },
  "language_info": {
   "codemirror_mode": {
    "name": "ipython",
    "version": 3
   },
   "file_extension": ".py",
   "mimetype": "text/x-python",
   "name": "python",
   "nbconvert_exporter": "python",
   "pygments_lexer": "ipython3",
   "version": "3.9.15 | packaged by conda-forge | (main, Nov 22 2022, 08:52:10) \n[Clang 14.0.6 ]"
  },
  "vscode": {
   "interpreter": {
    "hash": "038af012bee817a7406d81458cf7b1e2c37e50f3e3447a7af72b20f8ea641e45"
   }
  }
 },
 "nbformat": 4,
 "nbformat_minor": 2
}
