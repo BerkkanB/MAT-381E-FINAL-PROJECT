{
 "cells": [
  {
   "cell_type": "code",
   "execution_count": 80,
   "metadata": {},
   "outputs": [],
   "source": [
    "from bs4 import BeautifulSoup\n",
    "import requests\n",
    "from slugify import slugify\n",
    "import pandas as pd\n",
    "from sklearn.linear_model import LinearRegression\n",
    "from sklearn.model_selection import train_test_split\n",
    "from sklearn.preprocessing import OneHotEncoder\n",
    "import numpy as np\n",
    "\n",
    "import ipywidgets as widgets\n",
    "from sklearn.svm import SVR\n",
    "from sklearn.ensemble import RandomForestRegressor\n",
    "import matplotlib.pyplot as plt\n"
   ]
  },
  {
   "cell_type": "code",
   "execution_count": 50,
   "metadata": {},
   "outputs": [],
   "source": [
    "BASE_URL = \"https://www.sahibinden.com/\""
   ]
  },
  {
   "cell_type": "code",
   "execution_count": 51,
   "metadata": {},
   "outputs": [],
   "source": [
    "def get_html(url):\n",
    "    response = requests.get(url, headers={\"User-Agent\": \"Mozilla/5.0\",\"accept\": \"text/html,application/xhtml+xml,application/xml;q=0.9,image/webp,image/apng,*/*;q=0.8,application/signed-exchange;v=b3;q=0.9\"})\n",
    "    return response.content\n",
    "base_page = get_html(\"{}{}\".format(BASE_URL,\"otomobil\"))"
   ]
  },
  {
   "cell_type": "code",
   "execution_count": 4,
   "metadata": {},
   "outputs": [],
   "source": [
    "soup = BeautifulSoup(base_page, \"html.parser\")"
   ]
  },
  {
   "cell_type": "code",
   "execution_count": 53,
   "metadata": {},
   "outputs": [],
   "source": [
    "brands = soup.find_all(\"li\", {\"class\": \"cl2\"})"
   ]
  },
  {
   "cell_type": "code",
   "execution_count": 54,
   "metadata": {},
   "outputs": [],
   "source": [
    "def clear_raw_data(data):\n",
    "    dataList = []\n",
    "    for tag in data:\n",
    "        brand = tag.text.strip().split(\"(\")[0].strip() \n",
    "        brand = slugify(brand)\n",
    "\n",
    "        dataList.append(brand)\n",
    "    return dataList\n",
    "\n",
    "    "
   ]
  },
  {
   "cell_type": "code",
   "execution_count": 55,
   "metadata": {},
   "outputs": [],
   "source": [
    "brandList = clear_raw_data(brands)"
   ]
  },
  {
   "cell_type": "code",
   "execution_count": 56,
   "metadata": {},
   "outputs": [
    {
     "data": {
      "application/vnd.jupyter.widget-view+json": {
       "model_id": "c57c9931d847469ca4f27feca0606787",
       "version_major": 2,
       "version_minor": 0
      },
      "text/plain": [
       "Dropdown(description='Brand:', options=('acura', 'aion', 'alfa-romeo', 'anadol', 'aston-martin', 'audi', 'bent…"
      ]
     },
     "metadata": {},
     "output_type": "display_data"
    }
   ],
   "source": [
    "chosenBrand = widgets.Dropdown(\n",
    "    options=brandList,\n",
    "    description='Brand:',\n",
    "    disabled=False,\n",
    ")\n",
    "chosenBrand"
   ]
  },
  {
   "cell_type": "code",
   "execution_count": 57,
   "metadata": {},
   "outputs": [],
   "source": [
    "MODELS_URL = BASE_URL + chosenBrand.value"
   ]
  },
  {
   "cell_type": "code",
   "execution_count": 58,
   "metadata": {},
   "outputs": [],
   "source": [
    "modelsPage = get_html(MODELS_URL)"
   ]
  },
  {
   "cell_type": "code",
   "execution_count": 59,
   "metadata": {},
   "outputs": [],
   "source": [
    "models = BeautifulSoup(modelsPage, \"html.parser\")\n",
    "models = models.find_all(\"li\", {\"class\": \"cl3\"})\n",
    "models = clear_raw_data(models)\n",
    "models = np.unique(models)"
   ]
  },
  {
   "cell_type": "code",
   "execution_count": 60,
   "metadata": {},
   "outputs": [
    {
     "name": "stderr",
     "output_type": "stream",
     "text": [
      "/Users/berkkan/opt/anaconda3/lib/python3.9/site-packages/traitlets/traitlets.py:588: FutureWarning: elementwise comparison failed; returning scalar instead, but in the future will perform elementwise comparison\n",
      "  silent = bool(old_value == new_value)\n"
     ]
    },
    {
     "data": {
      "application/vnd.jupyter.widget-view+json": {
       "model_id": "79e52ea8b6ca4eab8aba23c80348c048",
       "version_major": 2,
       "version_minor": 0
      },
      "text/plain": [
       "Dropdown(description='Number:', options=('citigo', 'fabia', 'favorit', 'felicia', 'forman', 'octavia', 'rapid'…"
      ]
     },
     "metadata": {},
     "output_type": "display_data"
    }
   ],
   "source": [
    "chosenModel = widgets.Dropdown(\n",
    "    options=models,\n",
    "    description='Number:',\n",
    "    disabled=False,\n",
    ")\n",
    "chosenModel"
   ]
  },
  {
   "cell_type": "code",
   "execution_count": 61,
   "metadata": {},
   "outputs": [],
   "source": [
    "def clean_sahibinden_table(table):\n",
    "    usefulContentDF = table.dropna(axis=0, how=\"all\")\n",
    "    usefulContentDF = usefulContentDF[[\"Yıl\", \"KM\", \"Fiyat\",\"Model\"]]\n",
    "    usefulContentDF['KM'] = (usefulContentDF['KM']*1000).astype(int)\n",
    "    usefulContentDF['Fiyat'] = usefulContentDF['Fiyat'].str.replace(\" TL\", \"\")\n",
    "    usefulContentDF['Fiyat'] = usefulContentDF['Fiyat'].str.replace(\".\", \"\").astype(int)\n",
    "    return usefulContentDF"
   ]
  },
  {
   "cell_type": "code",
   "execution_count": 62,
   "metadata": {},
   "outputs": [],
   "source": [
    "df = pd.DataFrame(columns=[\"Yıl\", \"KM\", \"Fiyat\",\"Model\"], dtype=int)"
   ]
  },
  {
   "cell_type": "code",
   "execution_count": 63,
   "metadata": {},
   "outputs": [
    {
     "name": "stdout",
     "output_type": "stream",
     "text": [
      "0\n"
     ]
    },
    {
     "name": "stderr",
     "output_type": "stream",
     "text": [
      "/var/folders/7k/r54zsyhd639_44dxvy8hkzj40000gn/T/ipykernel_1153/3113079336.py:6: FutureWarning: The default value of regex will change from True to False in a future version. In addition, single character regular expressions will *not* be treated as literal strings when regex=True.\n",
      "  usefulContentDF['Fiyat'] = usefulContentDF['Fiyat'].str.replace(\".\", \"\").astype(int)\n",
      "/var/folders/7k/r54zsyhd639_44dxvy8hkzj40000gn/T/ipykernel_1153/1598243538.py:11: FutureWarning: The frame.append method is deprecated and will be removed from pandas in a future version. Use pandas.concat instead.\n",
      "  df = df.append(contentDF, ignore_index=True)\n"
     ]
    },
    {
     "name": "stdout",
     "output_type": "stream",
     "text": [
      "50\n"
     ]
    },
    {
     "name": "stderr",
     "output_type": "stream",
     "text": [
      "/var/folders/7k/r54zsyhd639_44dxvy8hkzj40000gn/T/ipykernel_1153/3113079336.py:6: FutureWarning: The default value of regex will change from True to False in a future version. In addition, single character regular expressions will *not* be treated as literal strings when regex=True.\n",
      "  usefulContentDF['Fiyat'] = usefulContentDF['Fiyat'].str.replace(\".\", \"\").astype(int)\n",
      "/var/folders/7k/r54zsyhd639_44dxvy8hkzj40000gn/T/ipykernel_1153/1598243538.py:11: FutureWarning: The frame.append method is deprecated and will be removed from pandas in a future version. Use pandas.concat instead.\n",
      "  df = df.append(contentDF, ignore_index=True)\n"
     ]
    },
    {
     "name": "stdout",
     "output_type": "stream",
     "text": [
      "100\n"
     ]
    },
    {
     "name": "stderr",
     "output_type": "stream",
     "text": [
      "/var/folders/7k/r54zsyhd639_44dxvy8hkzj40000gn/T/ipykernel_1153/3113079336.py:6: FutureWarning: The default value of regex will change from True to False in a future version. In addition, single character regular expressions will *not* be treated as literal strings when regex=True.\n",
      "  usefulContentDF['Fiyat'] = usefulContentDF['Fiyat'].str.replace(\".\", \"\").astype(int)\n",
      "/var/folders/7k/r54zsyhd639_44dxvy8hkzj40000gn/T/ipykernel_1153/1598243538.py:11: FutureWarning: The frame.append method is deprecated and will be removed from pandas in a future version. Use pandas.concat instead.\n",
      "  df = df.append(contentDF, ignore_index=True)\n"
     ]
    },
    {
     "name": "stdout",
     "output_type": "stream",
     "text": [
      "150\n"
     ]
    },
    {
     "name": "stderr",
     "output_type": "stream",
     "text": [
      "/var/folders/7k/r54zsyhd639_44dxvy8hkzj40000gn/T/ipykernel_1153/3113079336.py:6: FutureWarning: The default value of regex will change from True to False in a future version. In addition, single character regular expressions will *not* be treated as literal strings when regex=True.\n",
      "  usefulContentDF['Fiyat'] = usefulContentDF['Fiyat'].str.replace(\".\", \"\").astype(int)\n",
      "/var/folders/7k/r54zsyhd639_44dxvy8hkzj40000gn/T/ipykernel_1153/1598243538.py:11: FutureWarning: The frame.append method is deprecated and will be removed from pandas in a future version. Use pandas.concat instead.\n",
      "  df = df.append(contentDF, ignore_index=True)\n"
     ]
    },
    {
     "name": "stdout",
     "output_type": "stream",
     "text": [
      "200\n"
     ]
    },
    {
     "name": "stderr",
     "output_type": "stream",
     "text": [
      "/var/folders/7k/r54zsyhd639_44dxvy8hkzj40000gn/T/ipykernel_1153/3113079336.py:6: FutureWarning: The default value of regex will change from True to False in a future version. In addition, single character regular expressions will *not* be treated as literal strings when regex=True.\n",
      "  usefulContentDF['Fiyat'] = usefulContentDF['Fiyat'].str.replace(\".\", \"\").astype(int)\n",
      "/var/folders/7k/r54zsyhd639_44dxvy8hkzj40000gn/T/ipykernel_1153/1598243538.py:11: FutureWarning: The frame.append method is deprecated and will be removed from pandas in a future version. Use pandas.concat instead.\n",
      "  df = df.append(contentDF, ignore_index=True)\n"
     ]
    },
    {
     "name": "stdout",
     "output_type": "stream",
     "text": [
      "250\n"
     ]
    },
    {
     "name": "stderr",
     "output_type": "stream",
     "text": [
      "/var/folders/7k/r54zsyhd639_44dxvy8hkzj40000gn/T/ipykernel_1153/3113079336.py:6: FutureWarning: The default value of regex will change from True to False in a future version. In addition, single character regular expressions will *not* be treated as literal strings when regex=True.\n",
      "  usefulContentDF['Fiyat'] = usefulContentDF['Fiyat'].str.replace(\".\", \"\").astype(int)\n",
      "/var/folders/7k/r54zsyhd639_44dxvy8hkzj40000gn/T/ipykernel_1153/1598243538.py:11: FutureWarning: The frame.append method is deprecated and will be removed from pandas in a future version. Use pandas.concat instead.\n",
      "  df = df.append(contentDF, ignore_index=True)\n"
     ]
    },
    {
     "name": "stdout",
     "output_type": "stream",
     "text": [
      "300\n"
     ]
    },
    {
     "name": "stderr",
     "output_type": "stream",
     "text": [
      "/var/folders/7k/r54zsyhd639_44dxvy8hkzj40000gn/T/ipykernel_1153/3113079336.py:6: FutureWarning: The default value of regex will change from True to False in a future version. In addition, single character regular expressions will *not* be treated as literal strings when regex=True.\n",
      "  usefulContentDF['Fiyat'] = usefulContentDF['Fiyat'].str.replace(\".\", \"\").astype(int)\n",
      "/var/folders/7k/r54zsyhd639_44dxvy8hkzj40000gn/T/ipykernel_1153/1598243538.py:11: FutureWarning: The frame.append method is deprecated and will be removed from pandas in a future version. Use pandas.concat instead.\n",
      "  df = df.append(contentDF, ignore_index=True)\n"
     ]
    },
    {
     "name": "stdout",
     "output_type": "stream",
     "text": [
      "350\n"
     ]
    },
    {
     "name": "stderr",
     "output_type": "stream",
     "text": [
      "/var/folders/7k/r54zsyhd639_44dxvy8hkzj40000gn/T/ipykernel_1153/3113079336.py:6: FutureWarning: The default value of regex will change from True to False in a future version. In addition, single character regular expressions will *not* be treated as literal strings when regex=True.\n",
      "  usefulContentDF['Fiyat'] = usefulContentDF['Fiyat'].str.replace(\".\", \"\").astype(int)\n",
      "/var/folders/7k/r54zsyhd639_44dxvy8hkzj40000gn/T/ipykernel_1153/1598243538.py:11: FutureWarning: The frame.append method is deprecated and will be removed from pandas in a future version. Use pandas.concat instead.\n",
      "  df = df.append(contentDF, ignore_index=True)\n"
     ]
    },
    {
     "name": "stdout",
     "output_type": "stream",
     "text": [
      "400\n"
     ]
    },
    {
     "name": "stderr",
     "output_type": "stream",
     "text": [
      "/var/folders/7k/r54zsyhd639_44dxvy8hkzj40000gn/T/ipykernel_1153/3113079336.py:6: FutureWarning: The default value of regex will change from True to False in a future version. In addition, single character regular expressions will *not* be treated as literal strings when regex=True.\n",
      "  usefulContentDF['Fiyat'] = usefulContentDF['Fiyat'].str.replace(\".\", \"\").astype(int)\n",
      "/var/folders/7k/r54zsyhd639_44dxvy8hkzj40000gn/T/ipykernel_1153/1598243538.py:11: FutureWarning: The frame.append method is deprecated and will be removed from pandas in a future version. Use pandas.concat instead.\n",
      "  df = df.append(contentDF, ignore_index=True)\n"
     ]
    },
    {
     "name": "stdout",
     "output_type": "stream",
     "text": [
      "450\n"
     ]
    },
    {
     "name": "stderr",
     "output_type": "stream",
     "text": [
      "/var/folders/7k/r54zsyhd639_44dxvy8hkzj40000gn/T/ipykernel_1153/3113079336.py:6: FutureWarning: The default value of regex will change from True to False in a future version. In addition, single character regular expressions will *not* be treated as literal strings when regex=True.\n",
      "  usefulContentDF['Fiyat'] = usefulContentDF['Fiyat'].str.replace(\".\", \"\").astype(int)\n",
      "/var/folders/7k/r54zsyhd639_44dxvy8hkzj40000gn/T/ipykernel_1153/1598243538.py:11: FutureWarning: The frame.append method is deprecated and will be removed from pandas in a future version. Use pandas.concat instead.\n",
      "  df = df.append(contentDF, ignore_index=True)\n"
     ]
    },
    {
     "name": "stdout",
     "output_type": "stream",
     "text": [
      "500\n"
     ]
    },
    {
     "name": "stderr",
     "output_type": "stream",
     "text": [
      "/var/folders/7k/r54zsyhd639_44dxvy8hkzj40000gn/T/ipykernel_1153/3113079336.py:6: FutureWarning: The default value of regex will change from True to False in a future version. In addition, single character regular expressions will *not* be treated as literal strings when regex=True.\n",
      "  usefulContentDF['Fiyat'] = usefulContentDF['Fiyat'].str.replace(\".\", \"\").astype(int)\n",
      "/var/folders/7k/r54zsyhd639_44dxvy8hkzj40000gn/T/ipykernel_1153/1598243538.py:11: FutureWarning: The frame.append method is deprecated and will be removed from pandas in a future version. Use pandas.concat instead.\n",
      "  df = df.append(contentDF, ignore_index=True)\n"
     ]
    },
    {
     "name": "stdout",
     "output_type": "stream",
     "text": [
      "550\n"
     ]
    },
    {
     "name": "stderr",
     "output_type": "stream",
     "text": [
      "/var/folders/7k/r54zsyhd639_44dxvy8hkzj40000gn/T/ipykernel_1153/3113079336.py:6: FutureWarning: The default value of regex will change from True to False in a future version. In addition, single character regular expressions will *not* be treated as literal strings when regex=True.\n",
      "  usefulContentDF['Fiyat'] = usefulContentDF['Fiyat'].str.replace(\".\", \"\").astype(int)\n",
      "/var/folders/7k/r54zsyhd639_44dxvy8hkzj40000gn/T/ipykernel_1153/1598243538.py:11: FutureWarning: The frame.append method is deprecated and will be removed from pandas in a future version. Use pandas.concat instead.\n",
      "  df = df.append(contentDF, ignore_index=True)\n"
     ]
    },
    {
     "name": "stdout",
     "output_type": "stream",
     "text": [
      "600\n"
     ]
    },
    {
     "name": "stderr",
     "output_type": "stream",
     "text": [
      "/var/folders/7k/r54zsyhd639_44dxvy8hkzj40000gn/T/ipykernel_1153/3113079336.py:6: FutureWarning: The default value of regex will change from True to False in a future version. In addition, single character regular expressions will *not* be treated as literal strings when regex=True.\n",
      "  usefulContentDF['Fiyat'] = usefulContentDF['Fiyat'].str.replace(\".\", \"\").astype(int)\n",
      "/var/folders/7k/r54zsyhd639_44dxvy8hkzj40000gn/T/ipykernel_1153/1598243538.py:11: FutureWarning: The frame.append method is deprecated and will be removed from pandas in a future version. Use pandas.concat instead.\n",
      "  df = df.append(contentDF, ignore_index=True)\n"
     ]
    },
    {
     "name": "stdout",
     "output_type": "stream",
     "text": [
      "650\n"
     ]
    },
    {
     "name": "stderr",
     "output_type": "stream",
     "text": [
      "/var/folders/7k/r54zsyhd639_44dxvy8hkzj40000gn/T/ipykernel_1153/3113079336.py:6: FutureWarning: The default value of regex will change from True to False in a future version. In addition, single character regular expressions will *not* be treated as literal strings when regex=True.\n",
      "  usefulContentDF['Fiyat'] = usefulContentDF['Fiyat'].str.replace(\".\", \"\").astype(int)\n",
      "/var/folders/7k/r54zsyhd639_44dxvy8hkzj40000gn/T/ipykernel_1153/1598243538.py:11: FutureWarning: The frame.append method is deprecated and will be removed from pandas in a future version. Use pandas.concat instead.\n",
      "  df = df.append(contentDF, ignore_index=True)\n"
     ]
    },
    {
     "name": "stdout",
     "output_type": "stream",
     "text": [
      "700\n"
     ]
    },
    {
     "name": "stderr",
     "output_type": "stream",
     "text": [
      "/var/folders/7k/r54zsyhd639_44dxvy8hkzj40000gn/T/ipykernel_1153/3113079336.py:6: FutureWarning: The default value of regex will change from True to False in a future version. In addition, single character regular expressions will *not* be treated as literal strings when regex=True.\n",
      "  usefulContentDF['Fiyat'] = usefulContentDF['Fiyat'].str.replace(\".\", \"\").astype(int)\n",
      "/var/folders/7k/r54zsyhd639_44dxvy8hkzj40000gn/T/ipykernel_1153/1598243538.py:11: FutureWarning: The frame.append method is deprecated and will be removed from pandas in a future version. Use pandas.concat instead.\n",
      "  df = df.append(contentDF, ignore_index=True)\n"
     ]
    },
    {
     "name": "stdout",
     "output_type": "stream",
     "text": [
      "750\n"
     ]
    },
    {
     "name": "stderr",
     "output_type": "stream",
     "text": [
      "/var/folders/7k/r54zsyhd639_44dxvy8hkzj40000gn/T/ipykernel_1153/3113079336.py:6: FutureWarning: The default value of regex will change from True to False in a future version. In addition, single character regular expressions will *not* be treated as literal strings when regex=True.\n",
      "  usefulContentDF['Fiyat'] = usefulContentDF['Fiyat'].str.replace(\".\", \"\").astype(int)\n",
      "/var/folders/7k/r54zsyhd639_44dxvy8hkzj40000gn/T/ipykernel_1153/1598243538.py:11: FutureWarning: The frame.append method is deprecated and will be removed from pandas in a future version. Use pandas.concat instead.\n",
      "  df = df.append(contentDF, ignore_index=True)\n"
     ]
    },
    {
     "name": "stdout",
     "output_type": "stream",
     "text": [
      "800\n"
     ]
    },
    {
     "name": "stderr",
     "output_type": "stream",
     "text": [
      "/var/folders/7k/r54zsyhd639_44dxvy8hkzj40000gn/T/ipykernel_1153/3113079336.py:6: FutureWarning: The default value of regex will change from True to False in a future version. In addition, single character regular expressions will *not* be treated as literal strings when regex=True.\n",
      "  usefulContentDF['Fiyat'] = usefulContentDF['Fiyat'].str.replace(\".\", \"\").astype(int)\n",
      "/var/folders/7k/r54zsyhd639_44dxvy8hkzj40000gn/T/ipykernel_1153/1598243538.py:11: FutureWarning: The frame.append method is deprecated and will be removed from pandas in a future version. Use pandas.concat instead.\n",
      "  df = df.append(contentDF, ignore_index=True)\n"
     ]
    },
    {
     "name": "stdout",
     "output_type": "stream",
     "text": [
      "850\n"
     ]
    },
    {
     "name": "stderr",
     "output_type": "stream",
     "text": [
      "/var/folders/7k/r54zsyhd639_44dxvy8hkzj40000gn/T/ipykernel_1153/3113079336.py:6: FutureWarning: The default value of regex will change from True to False in a future version. In addition, single character regular expressions will *not* be treated as literal strings when regex=True.\n",
      "  usefulContentDF['Fiyat'] = usefulContentDF['Fiyat'].str.replace(\".\", \"\").astype(int)\n",
      "/var/folders/7k/r54zsyhd639_44dxvy8hkzj40000gn/T/ipykernel_1153/1598243538.py:11: FutureWarning: The frame.append method is deprecated and will be removed from pandas in a future version. Use pandas.concat instead.\n",
      "  df = df.append(contentDF, ignore_index=True)\n"
     ]
    },
    {
     "name": "stdout",
     "output_type": "stream",
     "text": [
      "900\n"
     ]
    },
    {
     "name": "stderr",
     "output_type": "stream",
     "text": [
      "/var/folders/7k/r54zsyhd639_44dxvy8hkzj40000gn/T/ipykernel_1153/3113079336.py:6: FutureWarning: The default value of regex will change from True to False in a future version. In addition, single character regular expressions will *not* be treated as literal strings when regex=True.\n",
      "  usefulContentDF['Fiyat'] = usefulContentDF['Fiyat'].str.replace(\".\", \"\").astype(int)\n",
      "/var/folders/7k/r54zsyhd639_44dxvy8hkzj40000gn/T/ipykernel_1153/1598243538.py:11: FutureWarning: The frame.append method is deprecated and will be removed from pandas in a future version. Use pandas.concat instead.\n",
      "  df = df.append(contentDF, ignore_index=True)\n"
     ]
    },
    {
     "name": "stdout",
     "output_type": "stream",
     "text": [
      "950\n"
     ]
    },
    {
     "name": "stderr",
     "output_type": "stream",
     "text": [
      "/var/folders/7k/r54zsyhd639_44dxvy8hkzj40000gn/T/ipykernel_1153/3113079336.py:6: FutureWarning: The default value of regex will change from True to False in a future version. In addition, single character regular expressions will *not* be treated as literal strings when regex=True.\n",
      "  usefulContentDF['Fiyat'] = usefulContentDF['Fiyat'].str.replace(\".\", \"\").astype(int)\n",
      "/var/folders/7k/r54zsyhd639_44dxvy8hkzj40000gn/T/ipykernel_1153/1598243538.py:11: FutureWarning: The frame.append method is deprecated and will be removed from pandas in a future version. Use pandas.concat instead.\n",
      "  df = df.append(contentDF, ignore_index=True)\n"
     ]
    },
    {
     "name": "stdout",
     "output_type": "stream",
     "text": [
      "1000\n"
     ]
    },
    {
     "name": "stderr",
     "output_type": "stream",
     "text": [
      "/var/folders/7k/r54zsyhd639_44dxvy8hkzj40000gn/T/ipykernel_1153/3113079336.py:6: FutureWarning: The default value of regex will change from True to False in a future version. In addition, single character regular expressions will *not* be treated as literal strings when regex=True.\n",
      "  usefulContentDF['Fiyat'] = usefulContentDF['Fiyat'].str.replace(\".\", \"\").astype(int)\n",
      "/var/folders/7k/r54zsyhd639_44dxvy8hkzj40000gn/T/ipykernel_1153/1598243538.py:11: FutureWarning: The frame.append method is deprecated and will be removed from pandas in a future version. Use pandas.concat instead.\n",
      "  df = df.append(contentDF, ignore_index=True)\n"
     ]
    },
    {
     "name": "stdout",
     "output_type": "stream",
     "text": [
      "1050\n"
     ]
    },
    {
     "name": "stderr",
     "output_type": "stream",
     "text": [
      "/var/folders/7k/r54zsyhd639_44dxvy8hkzj40000gn/T/ipykernel_1153/3113079336.py:6: FutureWarning: The default value of regex will change from True to False in a future version. In addition, single character regular expressions will *not* be treated as literal strings when regex=True.\n",
      "  usefulContentDF['Fiyat'] = usefulContentDF['Fiyat'].str.replace(\".\", \"\").astype(int)\n",
      "/var/folders/7k/r54zsyhd639_44dxvy8hkzj40000gn/T/ipykernel_1153/1598243538.py:11: FutureWarning: The frame.append method is deprecated and will be removed from pandas in a future version. Use pandas.concat instead.\n",
      "  df = df.append(contentDF, ignore_index=True)\n"
     ]
    },
    {
     "name": "stdout",
     "output_type": "stream",
     "text": [
      "1100\n"
     ]
    },
    {
     "name": "stderr",
     "output_type": "stream",
     "text": [
      "/var/folders/7k/r54zsyhd639_44dxvy8hkzj40000gn/T/ipykernel_1153/3113079336.py:6: FutureWarning: The default value of regex will change from True to False in a future version. In addition, single character regular expressions will *not* be treated as literal strings when regex=True.\n",
      "  usefulContentDF['Fiyat'] = usefulContentDF['Fiyat'].str.replace(\".\", \"\").astype(int)\n",
      "/var/folders/7k/r54zsyhd639_44dxvy8hkzj40000gn/T/ipykernel_1153/1598243538.py:11: FutureWarning: The frame.append method is deprecated and will be removed from pandas in a future version. Use pandas.concat instead.\n",
      "  df = df.append(contentDF, ignore_index=True)\n"
     ]
    },
    {
     "name": "stdout",
     "output_type": "stream",
     "text": [
      "1150\n"
     ]
    },
    {
     "name": "stderr",
     "output_type": "stream",
     "text": [
      "/var/folders/7k/r54zsyhd639_44dxvy8hkzj40000gn/T/ipykernel_1153/3113079336.py:6: FutureWarning: The default value of regex will change from True to False in a future version. In addition, single character regular expressions will *not* be treated as literal strings when regex=True.\n",
      "  usefulContentDF['Fiyat'] = usefulContentDF['Fiyat'].str.replace(\".\", \"\").astype(int)\n",
      "/var/folders/7k/r54zsyhd639_44dxvy8hkzj40000gn/T/ipykernel_1153/1598243538.py:11: FutureWarning: The frame.append method is deprecated and will be removed from pandas in a future version. Use pandas.concat instead.\n",
      "  df = df.append(contentDF, ignore_index=True)\n"
     ]
    },
    {
     "name": "stdout",
     "output_type": "stream",
     "text": [
      "1200\n"
     ]
    },
    {
     "name": "stderr",
     "output_type": "stream",
     "text": [
      "/var/folders/7k/r54zsyhd639_44dxvy8hkzj40000gn/T/ipykernel_1153/3113079336.py:6: FutureWarning: The default value of regex will change from True to False in a future version. In addition, single character regular expressions will *not* be treated as literal strings when regex=True.\n",
      "  usefulContentDF['Fiyat'] = usefulContentDF['Fiyat'].str.replace(\".\", \"\").astype(int)\n",
      "/var/folders/7k/r54zsyhd639_44dxvy8hkzj40000gn/T/ipykernel_1153/1598243538.py:11: FutureWarning: The frame.append method is deprecated and will be removed from pandas in a future version. Use pandas.concat instead.\n",
      "  df = df.append(contentDF, ignore_index=True)\n"
     ]
    },
    {
     "name": "stdout",
     "output_type": "stream",
     "text": [
      "1250\n"
     ]
    },
    {
     "name": "stderr",
     "output_type": "stream",
     "text": [
      "/var/folders/7k/r54zsyhd639_44dxvy8hkzj40000gn/T/ipykernel_1153/3113079336.py:6: FutureWarning: The default value of regex will change from True to False in a future version. In addition, single character regular expressions will *not* be treated as literal strings when regex=True.\n",
      "  usefulContentDF['Fiyat'] = usefulContentDF['Fiyat'].str.replace(\".\", \"\").astype(int)\n",
      "/var/folders/7k/r54zsyhd639_44dxvy8hkzj40000gn/T/ipykernel_1153/1598243538.py:11: FutureWarning: The frame.append method is deprecated and will be removed from pandas in a future version. Use pandas.concat instead.\n",
      "  df = df.append(contentDF, ignore_index=True)\n"
     ]
    },
    {
     "name": "stdout",
     "output_type": "stream",
     "text": [
      "1300\n"
     ]
    },
    {
     "name": "stderr",
     "output_type": "stream",
     "text": [
      "/var/folders/7k/r54zsyhd639_44dxvy8hkzj40000gn/T/ipykernel_1153/3113079336.py:6: FutureWarning: The default value of regex will change from True to False in a future version. In addition, single character regular expressions will *not* be treated as literal strings when regex=True.\n",
      "  usefulContentDF['Fiyat'] = usefulContentDF['Fiyat'].str.replace(\".\", \"\").astype(int)\n",
      "/var/folders/7k/r54zsyhd639_44dxvy8hkzj40000gn/T/ipykernel_1153/1598243538.py:11: FutureWarning: The frame.append method is deprecated and will be removed from pandas in a future version. Use pandas.concat instead.\n",
      "  df = df.append(contentDF, ignore_index=True)\n"
     ]
    },
    {
     "name": "stdout",
     "output_type": "stream",
     "text": [
      "1350\n"
     ]
    },
    {
     "name": "stderr",
     "output_type": "stream",
     "text": [
      "/var/folders/7k/r54zsyhd639_44dxvy8hkzj40000gn/T/ipykernel_1153/3113079336.py:6: FutureWarning: The default value of regex will change from True to False in a future version. In addition, single character regular expressions will *not* be treated as literal strings when regex=True.\n",
      "  usefulContentDF['Fiyat'] = usefulContentDF['Fiyat'].str.replace(\".\", \"\").astype(int)\n",
      "/var/folders/7k/r54zsyhd639_44dxvy8hkzj40000gn/T/ipykernel_1153/1598243538.py:11: FutureWarning: The frame.append method is deprecated and will be removed from pandas in a future version. Use pandas.concat instead.\n",
      "  df = df.append(contentDF, ignore_index=True)\n"
     ]
    },
    {
     "name": "stdout",
     "output_type": "stream",
     "text": [
      "1400\n"
     ]
    },
    {
     "name": "stderr",
     "output_type": "stream",
     "text": [
      "/var/folders/7k/r54zsyhd639_44dxvy8hkzj40000gn/T/ipykernel_1153/3113079336.py:6: FutureWarning: The default value of regex will change from True to False in a future version. In addition, single character regular expressions will *not* be treated as literal strings when regex=True.\n",
      "  usefulContentDF['Fiyat'] = usefulContentDF['Fiyat'].str.replace(\".\", \"\").astype(int)\n",
      "/var/folders/7k/r54zsyhd639_44dxvy8hkzj40000gn/T/ipykernel_1153/1598243538.py:11: FutureWarning: The frame.append method is deprecated and will be removed from pandas in a future version. Use pandas.concat instead.\n",
      "  df = df.append(contentDF, ignore_index=True)\n"
     ]
    },
    {
     "name": "stdout",
     "output_type": "stream",
     "text": [
      "1450\n"
     ]
    },
    {
     "name": "stderr",
     "output_type": "stream",
     "text": [
      "/var/folders/7k/r54zsyhd639_44dxvy8hkzj40000gn/T/ipykernel_1153/3113079336.py:6: FutureWarning: The default value of regex will change from True to False in a future version. In addition, single character regular expressions will *not* be treated as literal strings when regex=True.\n",
      "  usefulContentDF['Fiyat'] = usefulContentDF['Fiyat'].str.replace(\".\", \"\").astype(int)\n",
      "/var/folders/7k/r54zsyhd639_44dxvy8hkzj40000gn/T/ipykernel_1153/1598243538.py:11: FutureWarning: The frame.append method is deprecated and will be removed from pandas in a future version. Use pandas.concat instead.\n",
      "  df = df.append(contentDF, ignore_index=True)\n"
     ]
    },
    {
     "name": "stdout",
     "output_type": "stream",
     "text": [
      "1500\n"
     ]
    },
    {
     "name": "stderr",
     "output_type": "stream",
     "text": [
      "/var/folders/7k/r54zsyhd639_44dxvy8hkzj40000gn/T/ipykernel_1153/3113079336.py:6: FutureWarning: The default value of regex will change from True to False in a future version. In addition, single character regular expressions will *not* be treated as literal strings when regex=True.\n",
      "  usefulContentDF['Fiyat'] = usefulContentDF['Fiyat'].str.replace(\".\", \"\").astype(int)\n",
      "/var/folders/7k/r54zsyhd639_44dxvy8hkzj40000gn/T/ipykernel_1153/1598243538.py:11: FutureWarning: The frame.append method is deprecated and will be removed from pandas in a future version. Use pandas.concat instead.\n",
      "  df = df.append(contentDF, ignore_index=True)\n"
     ]
    },
    {
     "name": "stdout",
     "output_type": "stream",
     "text": [
      "1550\n"
     ]
    },
    {
     "name": "stderr",
     "output_type": "stream",
     "text": [
      "/var/folders/7k/r54zsyhd639_44dxvy8hkzj40000gn/T/ipykernel_1153/3113079336.py:6: FutureWarning: The default value of regex will change from True to False in a future version. In addition, single character regular expressions will *not* be treated as literal strings when regex=True.\n",
      "  usefulContentDF['Fiyat'] = usefulContentDF['Fiyat'].str.replace(\".\", \"\").astype(int)\n",
      "/var/folders/7k/r54zsyhd639_44dxvy8hkzj40000gn/T/ipykernel_1153/1598243538.py:11: FutureWarning: The frame.append method is deprecated and will be removed from pandas in a future version. Use pandas.concat instead.\n",
      "  df = df.append(contentDF, ignore_index=True)\n"
     ]
    },
    {
     "name": "stdout",
     "output_type": "stream",
     "text": [
      "1600\n"
     ]
    },
    {
     "name": "stderr",
     "output_type": "stream",
     "text": [
      "/var/folders/7k/r54zsyhd639_44dxvy8hkzj40000gn/T/ipykernel_1153/3113079336.py:6: FutureWarning: The default value of regex will change from True to False in a future version. In addition, single character regular expressions will *not* be treated as literal strings when regex=True.\n",
      "  usefulContentDF['Fiyat'] = usefulContentDF['Fiyat'].str.replace(\".\", \"\").astype(int)\n",
      "/var/folders/7k/r54zsyhd639_44dxvy8hkzj40000gn/T/ipykernel_1153/1598243538.py:11: FutureWarning: The frame.append method is deprecated and will be removed from pandas in a future version. Use pandas.concat instead.\n",
      "  df = df.append(contentDF, ignore_index=True)\n"
     ]
    },
    {
     "name": "stdout",
     "output_type": "stream",
     "text": [
      "1650\n"
     ]
    },
    {
     "name": "stderr",
     "output_type": "stream",
     "text": [
      "/var/folders/7k/r54zsyhd639_44dxvy8hkzj40000gn/T/ipykernel_1153/3113079336.py:6: FutureWarning: The default value of regex will change from True to False in a future version. In addition, single character regular expressions will *not* be treated as literal strings when regex=True.\n",
      "  usefulContentDF['Fiyat'] = usefulContentDF['Fiyat'].str.replace(\".\", \"\").astype(int)\n",
      "/var/folders/7k/r54zsyhd639_44dxvy8hkzj40000gn/T/ipykernel_1153/1598243538.py:11: FutureWarning: The frame.append method is deprecated and will be removed from pandas in a future version. Use pandas.concat instead.\n",
      "  df = df.append(contentDF, ignore_index=True)\n"
     ]
    },
    {
     "name": "stdout",
     "output_type": "stream",
     "text": [
      "1700\n"
     ]
    },
    {
     "name": "stderr",
     "output_type": "stream",
     "text": [
      "/var/folders/7k/r54zsyhd639_44dxvy8hkzj40000gn/T/ipykernel_1153/3113079336.py:6: FutureWarning: The default value of regex will change from True to False in a future version. In addition, single character regular expressions will *not* be treated as literal strings when regex=True.\n",
      "  usefulContentDF['Fiyat'] = usefulContentDF['Fiyat'].str.replace(\".\", \"\").astype(int)\n",
      "/var/folders/7k/r54zsyhd639_44dxvy8hkzj40000gn/T/ipykernel_1153/1598243538.py:11: FutureWarning: The frame.append method is deprecated and will be removed from pandas in a future version. Use pandas.concat instead.\n",
      "  df = df.append(contentDF, ignore_index=True)\n"
     ]
    },
    {
     "name": "stdout",
     "output_type": "stream",
     "text": [
      "1750\n"
     ]
    },
    {
     "name": "stderr",
     "output_type": "stream",
     "text": [
      "/var/folders/7k/r54zsyhd639_44dxvy8hkzj40000gn/T/ipykernel_1153/3113079336.py:6: FutureWarning: The default value of regex will change from True to False in a future version. In addition, single character regular expressions will *not* be treated as literal strings when regex=True.\n",
      "  usefulContentDF['Fiyat'] = usefulContentDF['Fiyat'].str.replace(\".\", \"\").astype(int)\n",
      "/var/folders/7k/r54zsyhd639_44dxvy8hkzj40000gn/T/ipykernel_1153/1598243538.py:11: FutureWarning: The frame.append method is deprecated and will be removed from pandas in a future version. Use pandas.concat instead.\n",
      "  df = df.append(contentDF, ignore_index=True)\n"
     ]
    },
    {
     "name": "stdout",
     "output_type": "stream",
     "text": [
      "1800\n"
     ]
    },
    {
     "name": "stderr",
     "output_type": "stream",
     "text": [
      "/var/folders/7k/r54zsyhd639_44dxvy8hkzj40000gn/T/ipykernel_1153/3113079336.py:6: FutureWarning: The default value of regex will change from True to False in a future version. In addition, single character regular expressions will *not* be treated as literal strings when regex=True.\n",
      "  usefulContentDF['Fiyat'] = usefulContentDF['Fiyat'].str.replace(\".\", \"\").astype(int)\n",
      "/var/folders/7k/r54zsyhd639_44dxvy8hkzj40000gn/T/ipykernel_1153/1598243538.py:11: FutureWarning: The frame.append method is deprecated and will be removed from pandas in a future version. Use pandas.concat instead.\n",
      "  df = df.append(contentDF, ignore_index=True)\n"
     ]
    },
    {
     "name": "stdout",
     "output_type": "stream",
     "text": [
      "1850\n"
     ]
    },
    {
     "ename": "ImportError",
     "evalue": "html5lib not found, please install it",
     "output_type": "error",
     "traceback": [
      "\u001b[0;31m---------------------------------------------------------------------------\u001b[0m",
      "\u001b[0;31mImportError\u001b[0m                               Traceback (most recent call last)",
      "\u001b[1;32m/Users/berkkan/Repos/MAT381E-FINAL/final.ipynb Hücre 16\u001b[0m in \u001b[0;36m<cell line: 1>\u001b[0;34m()\u001b[0m\n\u001b[1;32m      <a href='vscode-notebook-cell:/Users/berkkan/Repos/MAT381E-FINAL/final.ipynb#X22sZmlsZQ%3D%3D?line=6'>7</a>\u001b[0m content \u001b[39m=\u001b[39m BeautifulSoup(content, \u001b[39m\"\u001b[39m\u001b[39mhtml.parser\u001b[39m\u001b[39m\"\u001b[39m)\n\u001b[1;32m      <a href='vscode-notebook-cell:/Users/berkkan/Repos/MAT381E-FINAL/final.ipynb#X22sZmlsZQ%3D%3D?line=7'>8</a>\u001b[0m content \u001b[39m=\u001b[39m content\u001b[39m.\u001b[39mfind(\u001b[39m\"\u001b[39m\u001b[39mtable\u001b[39m\u001b[39m\"\u001b[39m, {\u001b[39m\"\u001b[39m\u001b[39mid\u001b[39m\u001b[39m\"\u001b[39m: \u001b[39m\"\u001b[39m\u001b[39msearchResultsTable\u001b[39m\u001b[39m\"\u001b[39m})\n\u001b[0;32m----> <a href='vscode-notebook-cell:/Users/berkkan/Repos/MAT381E-FINAL/final.ipynb#X22sZmlsZQ%3D%3D?line=8'>9</a>\u001b[0m contentDF \u001b[39m=\u001b[39m pd\u001b[39m.\u001b[39;49mread_html(\u001b[39mstr\u001b[39;49m(content))[\u001b[39m0\u001b[39m]\n\u001b[1;32m     <a href='vscode-notebook-cell:/Users/berkkan/Repos/MAT381E-FINAL/final.ipynb#X22sZmlsZQ%3D%3D?line=9'>10</a>\u001b[0m contentDF \u001b[39m=\u001b[39m clean_sahibinden_table(contentDF)\n\u001b[1;32m     <a href='vscode-notebook-cell:/Users/berkkan/Repos/MAT381E-FINAL/final.ipynb#X22sZmlsZQ%3D%3D?line=10'>11</a>\u001b[0m df \u001b[39m=\u001b[39m df\u001b[39m.\u001b[39mappend(contentDF, ignore_index\u001b[39m=\u001b[39m\u001b[39mTrue\u001b[39;00m)\n",
      "File \u001b[0;32m~/opt/anaconda3/lib/python3.9/site-packages/pandas/util/_decorators.py:311\u001b[0m, in \u001b[0;36mdeprecate_nonkeyword_arguments.<locals>.decorate.<locals>.wrapper\u001b[0;34m(*args, **kwargs)\u001b[0m\n\u001b[1;32m    305\u001b[0m \u001b[39mif\u001b[39;00m \u001b[39mlen\u001b[39m(args) \u001b[39m>\u001b[39m num_allow_args:\n\u001b[1;32m    306\u001b[0m     warnings\u001b[39m.\u001b[39mwarn(\n\u001b[1;32m    307\u001b[0m         msg\u001b[39m.\u001b[39mformat(arguments\u001b[39m=\u001b[39marguments),\n\u001b[1;32m    308\u001b[0m         \u001b[39mFutureWarning\u001b[39;00m,\n\u001b[1;32m    309\u001b[0m         stacklevel\u001b[39m=\u001b[39mstacklevel,\n\u001b[1;32m    310\u001b[0m     )\n\u001b[0;32m--> 311\u001b[0m \u001b[39mreturn\u001b[39;00m func(\u001b[39m*\u001b[39;49margs, \u001b[39m*\u001b[39;49m\u001b[39m*\u001b[39;49mkwargs)\n",
      "File \u001b[0;32m~/opt/anaconda3/lib/python3.9/site-packages/pandas/io/html.py:1113\u001b[0m, in \u001b[0;36mread_html\u001b[0;34m(io, match, flavor, header, index_col, skiprows, attrs, parse_dates, thousands, encoding, decimal, converters, na_values, keep_default_na, displayed_only)\u001b[0m\n\u001b[1;32m   1109\u001b[0m validate_header_arg(header)\n\u001b[1;32m   1111\u001b[0m io \u001b[39m=\u001b[39m stringify_path(io)\n\u001b[0;32m-> 1113\u001b[0m \u001b[39mreturn\u001b[39;00m _parse(\n\u001b[1;32m   1114\u001b[0m     flavor\u001b[39m=\u001b[39;49mflavor,\n\u001b[1;32m   1115\u001b[0m     io\u001b[39m=\u001b[39;49mio,\n\u001b[1;32m   1116\u001b[0m     match\u001b[39m=\u001b[39;49mmatch,\n\u001b[1;32m   1117\u001b[0m     header\u001b[39m=\u001b[39;49mheader,\n\u001b[1;32m   1118\u001b[0m     index_col\u001b[39m=\u001b[39;49mindex_col,\n\u001b[1;32m   1119\u001b[0m     skiprows\u001b[39m=\u001b[39;49mskiprows,\n\u001b[1;32m   1120\u001b[0m     parse_dates\u001b[39m=\u001b[39;49mparse_dates,\n\u001b[1;32m   1121\u001b[0m     thousands\u001b[39m=\u001b[39;49mthousands,\n\u001b[1;32m   1122\u001b[0m     attrs\u001b[39m=\u001b[39;49mattrs,\n\u001b[1;32m   1123\u001b[0m     encoding\u001b[39m=\u001b[39;49mencoding,\n\u001b[1;32m   1124\u001b[0m     decimal\u001b[39m=\u001b[39;49mdecimal,\n\u001b[1;32m   1125\u001b[0m     converters\u001b[39m=\u001b[39;49mconverters,\n\u001b[1;32m   1126\u001b[0m     na_values\u001b[39m=\u001b[39;49mna_values,\n\u001b[1;32m   1127\u001b[0m     keep_default_na\u001b[39m=\u001b[39;49mkeep_default_na,\n\u001b[1;32m   1128\u001b[0m     displayed_only\u001b[39m=\u001b[39;49mdisplayed_only,\n\u001b[1;32m   1129\u001b[0m )\n",
      "File \u001b[0;32m~/opt/anaconda3/lib/python3.9/site-packages/pandas/io/html.py:915\u001b[0m, in \u001b[0;36m_parse\u001b[0;34m(flavor, io, match, attrs, encoding, displayed_only, **kwargs)\u001b[0m\n\u001b[1;32m    913\u001b[0m retained \u001b[39m=\u001b[39m \u001b[39mNone\u001b[39;00m\n\u001b[1;32m    914\u001b[0m \u001b[39mfor\u001b[39;00m flav \u001b[39min\u001b[39;00m flavor:\n\u001b[0;32m--> 915\u001b[0m     parser \u001b[39m=\u001b[39m _parser_dispatch(flav)\n\u001b[1;32m    916\u001b[0m     p \u001b[39m=\u001b[39m parser(io, compiled_match, attrs, encoding, displayed_only)\n\u001b[1;32m    918\u001b[0m     \u001b[39mtry\u001b[39;00m:\n",
      "File \u001b[0;32m~/opt/anaconda3/lib/python3.9/site-packages/pandas/io/html.py:864\u001b[0m, in \u001b[0;36m_parser_dispatch\u001b[0;34m(flavor)\u001b[0m\n\u001b[1;32m    862\u001b[0m \u001b[39mif\u001b[39;00m flavor \u001b[39min\u001b[39;00m (\u001b[39m\"\u001b[39m\u001b[39mbs4\u001b[39m\u001b[39m\"\u001b[39m, \u001b[39m\"\u001b[39m\u001b[39mhtml5lib\u001b[39m\u001b[39m\"\u001b[39m):\n\u001b[1;32m    863\u001b[0m     \u001b[39mif\u001b[39;00m \u001b[39mnot\u001b[39;00m _HAS_HTML5LIB:\n\u001b[0;32m--> 864\u001b[0m         \u001b[39mraise\u001b[39;00m \u001b[39mImportError\u001b[39;00m(\u001b[39m\"\u001b[39m\u001b[39mhtml5lib not found, please install it\u001b[39m\u001b[39m\"\u001b[39m)\n\u001b[1;32m    865\u001b[0m     \u001b[39mif\u001b[39;00m \u001b[39mnot\u001b[39;00m _HAS_BS4:\n\u001b[1;32m    866\u001b[0m         \u001b[39mraise\u001b[39;00m \u001b[39mImportError\u001b[39;00m(\u001b[39m\"\u001b[39m\u001b[39mBeautifulSoup4 (bs4) not found, please install it\u001b[39m\u001b[39m\"\u001b[39m)\n",
      "\u001b[0;31mImportError\u001b[0m: html5lib not found, please install it"
     ]
    }
   ],
   "source": [
    "for offset in range(0, 1500, 50):\n",
    "    print(offset)\n",
    "    QUERY_PARAM = \"?pagingOffset={}&pagingSize=50&sorting=date_desc\".format(offset)\n",
    "    QUERY_URL = MODELS_URL + \"-\" + chosenModel.value + QUERY_PARAM\n",
    "\n",
    "    content = get_html(QUERY_URL)\n",
    "    content = BeautifulSoup(content, \"html.parser\")\n",
    "    content = content.find(\"table\", {\"id\": \"searchResultsTable\"})\n",
    "    contentDF = pd.read_html(str(content))[0]\n",
    "    contentDF = clean_sahibinden_table(contentDF)\n",
    "    df = df.append(contentDF, ignore_index=True)\n",
    "\n",
    "    \n",
    "df\n"
   ]
  },
  {
   "cell_type": "code",
   "execution_count": 64,
   "metadata": {},
   "outputs": [
    {
     "name": "stderr",
     "output_type": "stream",
     "text": [
      "/Users/berkkan/opt/anaconda3/lib/python3.9/site-packages/sklearn/utils/deprecation.py:87: FutureWarning: Function get_feature_names is deprecated; get_feature_names is deprecated in 1.0 and will be removed in 1.2. Please use get_feature_names_out instead.\n",
      "  warnings.warn(msg, category=FutureWarning)\n"
     ]
    }
   ],
   "source": [
    "enc = OneHotEncoder()\n",
    "enc_df = pd.DataFrame(enc.fit_transform(df[['Model']]).toarray(), columns=enc.get_feature_names(['Model']))"
   ]
  },
  {
   "cell_type": "code",
   "execution_count": 65,
   "metadata": {},
   "outputs": [
    {
     "data": {
      "text/html": [
       "<div>\n",
       "<style scoped>\n",
       "    .dataframe tbody tr th:only-of-type {\n",
       "        vertical-align: middle;\n",
       "    }\n",
       "\n",
       "    .dataframe tbody tr th {\n",
       "        vertical-align: top;\n",
       "    }\n",
       "\n",
       "    .dataframe thead th {\n",
       "        text-align: right;\n",
       "    }\n",
       "</style>\n",
       "<table border=\"1\" class=\"dataframe\">\n",
       "  <thead>\n",
       "    <tr style=\"text-align: right;\">\n",
       "      <th></th>\n",
       "      <th>Yıl</th>\n",
       "      <th>KM</th>\n",
       "      <th>Fiyat</th>\n",
       "      <th>Model</th>\n",
       "      <th>Model_1.0 GreenTec Ambition</th>\n",
       "      <th>Model_1.0 GreenTec Style</th>\n",
       "      <th>Model_1.0 TSI Elite</th>\n",
       "      <th>Model_1.0 TSI Premium</th>\n",
       "      <th>Model_1.0 TSI Premium Colour Concept</th>\n",
       "      <th>Model_1.2 Ambiente</th>\n",
       "      <th>...</th>\n",
       "      <th>Model_1.6 TDI Ambiente</th>\n",
       "      <th>Model_1.6 TDI Ambiente Dynamic</th>\n",
       "      <th>Model_1.6 TDI Ambition</th>\n",
       "      <th>Model_1.6 TDI Combi Scout</th>\n",
       "      <th>Model_1.6 TDI Elegance</th>\n",
       "      <th>Model_1.6 TDI Optimal</th>\n",
       "      <th>Model_1.9 TDI Ambiente</th>\n",
       "      <th>Model_1.9 TDI Comfort</th>\n",
       "      <th>Model_1.9 TDI Elegance</th>\n",
       "      <th>Model_1.9 TDI RS</th>\n",
       "    </tr>\n",
       "  </thead>\n",
       "  <tbody>\n",
       "    <tr>\n",
       "      <th>0</th>\n",
       "      <td>2004.0</td>\n",
       "      <td>249000</td>\n",
       "      <td>185000</td>\n",
       "      <td>1.2 Classic</td>\n",
       "      <td>0.0</td>\n",
       "      <td>0.0</td>\n",
       "      <td>0.0</td>\n",
       "      <td>0.0</td>\n",
       "      <td>0.0</td>\n",
       "      <td>0.0</td>\n",
       "      <td>...</td>\n",
       "      <td>0.0</td>\n",
       "      <td>0.0</td>\n",
       "      <td>0.0</td>\n",
       "      <td>0.0</td>\n",
       "      <td>0.0</td>\n",
       "      <td>0.0</td>\n",
       "      <td>0.0</td>\n",
       "      <td>0.0</td>\n",
       "      <td>0.0</td>\n",
       "      <td>0.0</td>\n",
       "    </tr>\n",
       "    <tr>\n",
       "      <th>1</th>\n",
       "      <td>2001.0</td>\n",
       "      <td>286000</td>\n",
       "      <td>156000</td>\n",
       "      <td>1.4 Comfort</td>\n",
       "      <td>0.0</td>\n",
       "      <td>0.0</td>\n",
       "      <td>0.0</td>\n",
       "      <td>0.0</td>\n",
       "      <td>0.0</td>\n",
       "      <td>0.0</td>\n",
       "      <td>...</td>\n",
       "      <td>0.0</td>\n",
       "      <td>0.0</td>\n",
       "      <td>0.0</td>\n",
       "      <td>0.0</td>\n",
       "      <td>0.0</td>\n",
       "      <td>0.0</td>\n",
       "      <td>0.0</td>\n",
       "      <td>0.0</td>\n",
       "      <td>0.0</td>\n",
       "      <td>0.0</td>\n",
       "    </tr>\n",
       "    <tr>\n",
       "      <th>2</th>\n",
       "      <td>2012.0</td>\n",
       "      <td>141000</td>\n",
       "      <td>320000</td>\n",
       "      <td>1.2 Optimal</td>\n",
       "      <td>0.0</td>\n",
       "      <td>0.0</td>\n",
       "      <td>0.0</td>\n",
       "      <td>0.0</td>\n",
       "      <td>0.0</td>\n",
       "      <td>0.0</td>\n",
       "      <td>...</td>\n",
       "      <td>0.0</td>\n",
       "      <td>0.0</td>\n",
       "      <td>0.0</td>\n",
       "      <td>0.0</td>\n",
       "      <td>0.0</td>\n",
       "      <td>0.0</td>\n",
       "      <td>0.0</td>\n",
       "      <td>0.0</td>\n",
       "      <td>0.0</td>\n",
       "      <td>0.0</td>\n",
       "    </tr>\n",
       "    <tr>\n",
       "      <th>3</th>\n",
       "      <td>2020.0</td>\n",
       "      <td>18500</td>\n",
       "      <td>580999</td>\n",
       "      <td>1.0 TSI Premium Colour Concept</td>\n",
       "      <td>0.0</td>\n",
       "      <td>0.0</td>\n",
       "      <td>0.0</td>\n",
       "      <td>0.0</td>\n",
       "      <td>1.0</td>\n",
       "      <td>0.0</td>\n",
       "      <td>...</td>\n",
       "      <td>0.0</td>\n",
       "      <td>0.0</td>\n",
       "      <td>0.0</td>\n",
       "      <td>0.0</td>\n",
       "      <td>0.0</td>\n",
       "      <td>0.0</td>\n",
       "      <td>0.0</td>\n",
       "      <td>0.0</td>\n",
       "      <td>0.0</td>\n",
       "      <td>0.0</td>\n",
       "    </tr>\n",
       "    <tr>\n",
       "      <th>4</th>\n",
       "      <td>2014.0</td>\n",
       "      <td>93000</td>\n",
       "      <td>300000</td>\n",
       "      <td>1.2 Ambition</td>\n",
       "      <td>0.0</td>\n",
       "      <td>0.0</td>\n",
       "      <td>0.0</td>\n",
       "      <td>0.0</td>\n",
       "      <td>0.0</td>\n",
       "      <td>0.0</td>\n",
       "      <td>...</td>\n",
       "      <td>0.0</td>\n",
       "      <td>0.0</td>\n",
       "      <td>0.0</td>\n",
       "      <td>0.0</td>\n",
       "      <td>0.0</td>\n",
       "      <td>0.0</td>\n",
       "      <td>0.0</td>\n",
       "      <td>0.0</td>\n",
       "      <td>0.0</td>\n",
       "      <td>0.0</td>\n",
       "    </tr>\n",
       "    <tr>\n",
       "      <th>...</th>\n",
       "      <td>...</td>\n",
       "      <td>...</td>\n",
       "      <td>...</td>\n",
       "      <td>...</td>\n",
       "      <td>...</td>\n",
       "      <td>...</td>\n",
       "      <td>...</td>\n",
       "      <td>...</td>\n",
       "      <td>...</td>\n",
       "      <td>...</td>\n",
       "      <td>...</td>\n",
       "      <td>...</td>\n",
       "      <td>...</td>\n",
       "      <td>...</td>\n",
       "      <td>...</td>\n",
       "      <td>...</td>\n",
       "      <td>...</td>\n",
       "      <td>...</td>\n",
       "      <td>...</td>\n",
       "      <td>...</td>\n",
       "      <td>...</td>\n",
       "    </tr>\n",
       "    <tr>\n",
       "      <th>1863</th>\n",
       "      <td>2013.0</td>\n",
       "      <td>79000</td>\n",
       "      <td>420000</td>\n",
       "      <td>1.4 Elegance</td>\n",
       "      <td>0.0</td>\n",
       "      <td>0.0</td>\n",
       "      <td>0.0</td>\n",
       "      <td>0.0</td>\n",
       "      <td>0.0</td>\n",
       "      <td>0.0</td>\n",
       "      <td>...</td>\n",
       "      <td>0.0</td>\n",
       "      <td>0.0</td>\n",
       "      <td>0.0</td>\n",
       "      <td>0.0</td>\n",
       "      <td>0.0</td>\n",
       "      <td>0.0</td>\n",
       "      <td>0.0</td>\n",
       "      <td>0.0</td>\n",
       "      <td>0.0</td>\n",
       "      <td>0.0</td>\n",
       "    </tr>\n",
       "    <tr>\n",
       "      <th>1864</th>\n",
       "      <td>2018.0</td>\n",
       "      <td>44211</td>\n",
       "      <td>470000</td>\n",
       "      <td>1.0 GreenTec Style</td>\n",
       "      <td>0.0</td>\n",
       "      <td>1.0</td>\n",
       "      <td>0.0</td>\n",
       "      <td>0.0</td>\n",
       "      <td>0.0</td>\n",
       "      <td>0.0</td>\n",
       "      <td>...</td>\n",
       "      <td>0.0</td>\n",
       "      <td>0.0</td>\n",
       "      <td>0.0</td>\n",
       "      <td>0.0</td>\n",
       "      <td>0.0</td>\n",
       "      <td>0.0</td>\n",
       "      <td>0.0</td>\n",
       "      <td>0.0</td>\n",
       "      <td>0.0</td>\n",
       "      <td>0.0</td>\n",
       "    </tr>\n",
       "    <tr>\n",
       "      <th>1865</th>\n",
       "      <td>2012.0</td>\n",
       "      <td>56500</td>\n",
       "      <td>300000</td>\n",
       "      <td>1.2 Ambiente</td>\n",
       "      <td>0.0</td>\n",
       "      <td>0.0</td>\n",
       "      <td>0.0</td>\n",
       "      <td>0.0</td>\n",
       "      <td>0.0</td>\n",
       "      <td>1.0</td>\n",
       "      <td>...</td>\n",
       "      <td>0.0</td>\n",
       "      <td>0.0</td>\n",
       "      <td>0.0</td>\n",
       "      <td>0.0</td>\n",
       "      <td>0.0</td>\n",
       "      <td>0.0</td>\n",
       "      <td>0.0</td>\n",
       "      <td>0.0</td>\n",
       "      <td>0.0</td>\n",
       "      <td>0.0</td>\n",
       "    </tr>\n",
       "    <tr>\n",
       "      <th>1866</th>\n",
       "      <td>2016.0</td>\n",
       "      <td>142000</td>\n",
       "      <td>362000</td>\n",
       "      <td>1.0 GreenTec Ambition</td>\n",
       "      <td>1.0</td>\n",
       "      <td>0.0</td>\n",
       "      <td>0.0</td>\n",
       "      <td>0.0</td>\n",
       "      <td>0.0</td>\n",
       "      <td>0.0</td>\n",
       "      <td>...</td>\n",
       "      <td>0.0</td>\n",
       "      <td>0.0</td>\n",
       "      <td>0.0</td>\n",
       "      <td>0.0</td>\n",
       "      <td>0.0</td>\n",
       "      <td>0.0</td>\n",
       "      <td>0.0</td>\n",
       "      <td>0.0</td>\n",
       "      <td>0.0</td>\n",
       "      <td>0.0</td>\n",
       "    </tr>\n",
       "    <tr>\n",
       "      <th>1867</th>\n",
       "      <td>2010.0</td>\n",
       "      <td>107000</td>\n",
       "      <td>328000</td>\n",
       "      <td>1.2 Ambiente Dynamic</td>\n",
       "      <td>0.0</td>\n",
       "      <td>0.0</td>\n",
       "      <td>0.0</td>\n",
       "      <td>0.0</td>\n",
       "      <td>0.0</td>\n",
       "      <td>0.0</td>\n",
       "      <td>...</td>\n",
       "      <td>0.0</td>\n",
       "      <td>0.0</td>\n",
       "      <td>0.0</td>\n",
       "      <td>0.0</td>\n",
       "      <td>0.0</td>\n",
       "      <td>0.0</td>\n",
       "      <td>0.0</td>\n",
       "      <td>0.0</td>\n",
       "      <td>0.0</td>\n",
       "      <td>0.0</td>\n",
       "    </tr>\n",
       "  </tbody>\n",
       "</table>\n",
       "<p>1868 rows × 52 columns</p>\n",
       "</div>"
      ],
      "text/plain": [
       "         Yıl      KM   Fiyat                           Model  \\\n",
       "0     2004.0  249000  185000                     1.2 Classic   \n",
       "1     2001.0  286000  156000                     1.4 Comfort   \n",
       "2     2012.0  141000  320000                     1.2 Optimal   \n",
       "3     2020.0   18500  580999  1.0 TSI Premium Colour Concept   \n",
       "4     2014.0   93000  300000                    1.2 Ambition   \n",
       "...      ...     ...     ...                             ...   \n",
       "1863  2013.0   79000  420000                    1.4 Elegance   \n",
       "1864  2018.0   44211  470000              1.0 GreenTec Style   \n",
       "1865  2012.0   56500  300000                    1.2 Ambiente   \n",
       "1866  2016.0  142000  362000           1.0 GreenTec Ambition   \n",
       "1867  2010.0  107000  328000            1.2 Ambiente Dynamic   \n",
       "\n",
       "      Model_1.0 GreenTec Ambition  Model_1.0 GreenTec Style  \\\n",
       "0                             0.0                       0.0   \n",
       "1                             0.0                       0.0   \n",
       "2                             0.0                       0.0   \n",
       "3                             0.0                       0.0   \n",
       "4                             0.0                       0.0   \n",
       "...                           ...                       ...   \n",
       "1863                          0.0                       0.0   \n",
       "1864                          0.0                       1.0   \n",
       "1865                          0.0                       0.0   \n",
       "1866                          1.0                       0.0   \n",
       "1867                          0.0                       0.0   \n",
       "\n",
       "      Model_1.0 TSI Elite  Model_1.0 TSI Premium  \\\n",
       "0                     0.0                    0.0   \n",
       "1                     0.0                    0.0   \n",
       "2                     0.0                    0.0   \n",
       "3                     0.0                    0.0   \n",
       "4                     0.0                    0.0   \n",
       "...                   ...                    ...   \n",
       "1863                  0.0                    0.0   \n",
       "1864                  0.0                    0.0   \n",
       "1865                  0.0                    0.0   \n",
       "1866                  0.0                    0.0   \n",
       "1867                  0.0                    0.0   \n",
       "\n",
       "      Model_1.0 TSI Premium Colour Concept  Model_1.2 Ambiente  ...  \\\n",
       "0                                      0.0                 0.0  ...   \n",
       "1                                      0.0                 0.0  ...   \n",
       "2                                      0.0                 0.0  ...   \n",
       "3                                      1.0                 0.0  ...   \n",
       "4                                      0.0                 0.0  ...   \n",
       "...                                    ...                 ...  ...   \n",
       "1863                                   0.0                 0.0  ...   \n",
       "1864                                   0.0                 0.0  ...   \n",
       "1865                                   0.0                 1.0  ...   \n",
       "1866                                   0.0                 0.0  ...   \n",
       "1867                                   0.0                 0.0  ...   \n",
       "\n",
       "      Model_1.6 TDI Ambiente  Model_1.6 TDI Ambiente Dynamic  \\\n",
       "0                        0.0                             0.0   \n",
       "1                        0.0                             0.0   \n",
       "2                        0.0                             0.0   \n",
       "3                        0.0                             0.0   \n",
       "4                        0.0                             0.0   \n",
       "...                      ...                             ...   \n",
       "1863                     0.0                             0.0   \n",
       "1864                     0.0                             0.0   \n",
       "1865                     0.0                             0.0   \n",
       "1866                     0.0                             0.0   \n",
       "1867                     0.0                             0.0   \n",
       "\n",
       "      Model_1.6 TDI Ambition  Model_1.6 TDI Combi Scout  \\\n",
       "0                        0.0                        0.0   \n",
       "1                        0.0                        0.0   \n",
       "2                        0.0                        0.0   \n",
       "3                        0.0                        0.0   \n",
       "4                        0.0                        0.0   \n",
       "...                      ...                        ...   \n",
       "1863                     0.0                        0.0   \n",
       "1864                     0.0                        0.0   \n",
       "1865                     0.0                        0.0   \n",
       "1866                     0.0                        0.0   \n",
       "1867                     0.0                        0.0   \n",
       "\n",
       "      Model_1.6 TDI Elegance  Model_1.6 TDI Optimal  Model_1.9 TDI Ambiente  \\\n",
       "0                        0.0                    0.0                     0.0   \n",
       "1                        0.0                    0.0                     0.0   \n",
       "2                        0.0                    0.0                     0.0   \n",
       "3                        0.0                    0.0                     0.0   \n",
       "4                        0.0                    0.0                     0.0   \n",
       "...                      ...                    ...                     ...   \n",
       "1863                     0.0                    0.0                     0.0   \n",
       "1864                     0.0                    0.0                     0.0   \n",
       "1865                     0.0                    0.0                     0.0   \n",
       "1866                     0.0                    0.0                     0.0   \n",
       "1867                     0.0                    0.0                     0.0   \n",
       "\n",
       "      Model_1.9 TDI Comfort  Model_1.9 TDI Elegance  Model_1.9 TDI RS  \n",
       "0                       0.0                     0.0               0.0  \n",
       "1                       0.0                     0.0               0.0  \n",
       "2                       0.0                     0.0               0.0  \n",
       "3                       0.0                     0.0               0.0  \n",
       "4                       0.0                     0.0               0.0  \n",
       "...                     ...                     ...               ...  \n",
       "1863                    0.0                     0.0               0.0  \n",
       "1864                    0.0                     0.0               0.0  \n",
       "1865                    0.0                     0.0               0.0  \n",
       "1866                    0.0                     0.0               0.0  \n",
       "1867                    0.0                     0.0               0.0  \n",
       "\n",
       "[1868 rows x 52 columns]"
      ]
     },
     "execution_count": 65,
     "metadata": {},
     "output_type": "execute_result"
    }
   ],
   "source": [
    "final_df = df.join(enc_df)\n",
    "final_df"
   ]
  },
  {
   "cell_type": "code",
   "execution_count": 66,
   "metadata": {},
   "outputs": [],
   "source": [
    "def build_model(X_train, y_train,model):\n",
    "    if model == \"linear\":\n",
    "        model = LinearRegression()\n",
    "    if model == \"svm\":\n",
    "        model = SVR(gamma='scale', C=100000.0, epsilon=0.2)\n",
    "    if model == \"randomforest\":\n",
    "        model = RandomForestRegressor()\n",
    "    model.fit(X_train, y_train)\n",
    "\n",
    "    return model"
   ]
  },
  {
   "cell_type": "code",
   "execution_count": 67,
   "metadata": {},
   "outputs": [],
   "source": [
    "X = final_df.drop([\"Fiyat\",\"Model\"], axis=1)\n",
    "y = final_df[\"Fiyat\"]\n",
    "\n",
    "X_train, X_test, y_train, y_test = train_test_split(X, y, test_size=0.2, random_state=42)"
   ]
  },
  {
   "cell_type": "code",
   "execution_count": 68,
   "metadata": {},
   "outputs": [
    {
     "data": {
      "text/plain": [
       "0.9143550447050166"
      ]
     },
     "execution_count": 68,
     "metadata": {},
     "output_type": "execute_result"
    }
   ],
   "source": [
    "linear_model = build_model(X_train, y_train, \"linear\")\n",
    "\n",
    "linear_model.score(X_test, y_test)"
   ]
  },
  {
   "cell_type": "code",
   "execution_count": 109,
   "metadata": {},
   "outputs": [],
   "source": [
    "y_pred = linear_model.predict(X_test)"
   ]
  },
  {
   "cell_type": "code",
   "execution_count": 104,
   "metadata": {},
   "outputs": [],
   "source": [
    "def plot_prediction(y_test, y_pred):\n",
    "    plt.figure(figsize=(12, 7))\n",
    "    plt.scatter(y_pred, y_test, alpha=0.4)\n",
    "    plt.xlabel(\"Predicted\")\n",
    "    plt.ylabel(\"Actual\")\n",
    "    plt.title(\"Predicted vs Actual\")\n",
    "    maxValue = max(y_test.max(), y_pred.max())\n",
    "    minValue = min(y_test.min(), y_pred.min())\n",
    "    plt.plot([minValue, maxValue], [minValue, maxValue], color='red')\n",
    "    plt.show()"
   ]
  },
  {
   "cell_type": "code",
   "execution_count": 110,
   "metadata": {},
   "outputs": [
    {
     "data": {
      "image/png": "[encoded data removed]",
      "text/plain": [
       "<Figure size 864x504 with 1 Axes>"
      ]
     },
     "metadata": {
      "needs_background": "light"
     },
     "output_type": "display_data"
    }
   ],
   "source": [
    "plot_prediction(y_test, y_pred)"
   ]
  },
  {
   "cell_type": "code",
   "execution_count": 69,
   "metadata": {},
   "outputs": [
    {
     "data": {
      "text/plain": [
       "0.695206327716771"
      ]
     },
     "execution_count": 69,
     "metadata": {},
     "output_type": "execute_result"
    }
   ],
   "source": [
    "svm_model = build_model(X_train, y_train, \"svm\")\n",
    "\n",
    "svm_model.score(X_test, y_test)"
   ]
  },
  {
   "cell_type": "code",
   "execution_count": 111,
   "metadata": {},
   "outputs": [],
   "source": [
    "y_pred = svm_model.predict(X_test)"
   ]
  },
  {
   "cell_type": "code",
   "execution_count": 112,
   "metadata": {},
   "outputs": [
    {
     "data": {
      "image/png": "[encoded data removed]",
      "text/plain": [
       "<Figure size 864x504 with 1 Axes>"
      ]
     },
     "metadata": {
      "needs_background": "light"
     },
     "output_type": "display_data"
    }
   ],
   "source": [
    "plot_prediction(y_test, y_pred)"
   ]
  },
  {
   "cell_type": "code",
   "execution_count": 115,
   "metadata": {},
   "outputs": [
    {
     "data": {
      "text/plain": [
       "0.940872254478869"
      ]
     },
     "execution_count": 115,
     "metadata": {},
     "output_type": "execute_result"
    }
   ],
   "source": [
    "randomforest_model = build_model(X_train, y_train, \"randomforest\")\n",
    "\n",
    "randomforest_model.score(X_test, y_test)"
   ]
  },
  {
   "cell_type": "code",
   "execution_count": 116,
   "metadata": {},
   "outputs": [
    {
     "data": {
      "image/png": "[encoded data removed]",
      "text/plain": [
       "<Figure size 864x504 with 1 Axes>"
      ]
     },
     "metadata": {
      "needs_background": "light"
     },
     "output_type": "display_data"
    }
   ],
   "source": [
    "y_pred = randomforest_model.predict(X_test)\n",
    "plot_prediction(y_test, y_pred)"
   ]
  },
  {
   "cell_type": "code",
   "execution_count": 73,
   "metadata": {},
   "outputs": [],
   "source": [
    "spesificModels = df[\"Model\"].unique()\n",
    "spesificModels.sort()"
   ]
  },
  {
   "cell_type": "code",
   "execution_count": 74,
   "metadata": {},
   "outputs": [
    {
     "data": {
      "application/vnd.jupyter.widget-view+json": {
       "model_id": "468978864f204c05a43fb6e660b46e1f",
       "version_major": 2,
       "version_minor": 0
      },
      "text/plain": [
       "Dropdown(description='Number:', options=('1.0 GreenTec Ambition', '1.0 GreenTec Style', '1.0 TSI Elite', '1.0 …"
      ]
     },
     "metadata": {},
     "output_type": "display_data"
    }
   ],
   "source": [
    "selectedModel = widgets.Dropdown(\n",
    "    options=spesificModels,\n",
    "    description='Number:',\n",
    "    disabled=False,\n",
    ")\n",
    "selectedModel"
   ]
  },
  {
   "cell_type": "code",
   "execution_count": 75,
   "metadata": {},
   "outputs": [
    {
     "data": {
      "text/html": [
       "<div>\n",
       "<style scoped>\n",
       "    .dataframe tbody tr th:only-of-type {\n",
       "        vertical-align: middle;\n",
       "    }\n",
       "\n",
       "    .dataframe tbody tr th {\n",
       "        vertical-align: top;\n",
       "    }\n",
       "\n",
       "    .dataframe thead th {\n",
       "        text-align: right;\n",
       "    }\n",
       "</style>\n",
       "<table border=\"1\" class=\"dataframe\">\n",
       "  <thead>\n",
       "    <tr style=\"text-align: right;\">\n",
       "      <th></th>\n",
       "      <th>1.0 GreenTec Ambition</th>\n",
       "      <th>1.0 GreenTec Style</th>\n",
       "      <th>1.0 TSI Elite</th>\n",
       "      <th>1.0 TSI Premium</th>\n",
       "      <th>1.0 TSI Premium Colour Concept</th>\n",
       "      <th>1.2 Ambiente</th>\n",
       "      <th>1.2 Ambiente Dynamic</th>\n",
       "      <th>1.2 Ambition</th>\n",
       "      <th>1.2 Classic</th>\n",
       "      <th>1.2 Comfort</th>\n",
       "      <th>...</th>\n",
       "      <th>1.6 TDI Ambiente</th>\n",
       "      <th>1.6 TDI Ambiente Dynamic</th>\n",
       "      <th>1.6 TDI Ambition</th>\n",
       "      <th>1.6 TDI Combi Scout</th>\n",
       "      <th>1.6 TDI Elegance</th>\n",
       "      <th>1.6 TDI Optimal</th>\n",
       "      <th>1.9 TDI Ambiente</th>\n",
       "      <th>1.9 TDI Comfort</th>\n",
       "      <th>1.9 TDI Elegance</th>\n",
       "      <th>1.9 TDI RS</th>\n",
       "    </tr>\n",
       "  </thead>\n",
       "  <tbody>\n",
       "    <tr>\n",
       "      <th>0</th>\n",
       "      <td>1.0</td>\n",
       "      <td>0.0</td>\n",
       "      <td>0.0</td>\n",
       "      <td>0.0</td>\n",
       "      <td>0.0</td>\n",
       "      <td>0.0</td>\n",
       "      <td>0.0</td>\n",
       "      <td>0.0</td>\n",
       "      <td>0.0</td>\n",
       "      <td>0.0</td>\n",
       "      <td>...</td>\n",
       "      <td>0.0</td>\n",
       "      <td>0.0</td>\n",
       "      <td>0.0</td>\n",
       "      <td>0.0</td>\n",
       "      <td>0.0</td>\n",
       "      <td>0.0</td>\n",
       "      <td>0.0</td>\n",
       "      <td>0.0</td>\n",
       "      <td>0.0</td>\n",
       "      <td>0.0</td>\n",
       "    </tr>\n",
       "  </tbody>\n",
       "</table>\n",
       "<p>1 rows × 48 columns</p>\n",
       "</div>"
      ],
      "text/plain": [
       "   1.0 GreenTec Ambition  1.0 GreenTec Style  1.0 TSI Elite  1.0 TSI Premium  \\\n",
       "0                    1.0                 0.0            0.0              0.0   \n",
       "\n",
       "   1.0 TSI Premium Colour Concept  1.2 Ambiente  1.2 Ambiente Dynamic  \\\n",
       "0                             0.0           0.0                   0.0   \n",
       "\n",
       "   1.2 Ambition  1.2 Classic  1.2 Comfort  ...  1.6 TDI Ambiente  \\\n",
       "0           0.0          0.0          0.0  ...               0.0   \n",
       "\n",
       "   1.6 TDI Ambiente Dynamic  1.6 TDI Ambition  1.6 TDI Combi Scout  \\\n",
       "0                       0.0               0.0                  0.0   \n",
       "\n",
       "   1.6 TDI Elegance  1.6 TDI Optimal  1.9 TDI Ambiente  1.9 TDI Comfort  \\\n",
       "0               0.0              0.0               0.0              0.0   \n",
       "\n",
       "   1.9 TDI Elegance  1.9 TDI RS  \n",
       "0               0.0         0.0  \n",
       "\n",
       "[1 rows x 48 columns]"
      ]
     },
     "execution_count": 75,
     "metadata": {},
     "output_type": "execute_result"
    }
   ],
   "source": [
    "spesificModelsDF = pd.DataFrame(columns=spesificModels, dtype=int)\n",
    "spesificModelsDF.loc[0, selectedModel.value] = 1\n",
    "spesificModelsDF.fillna(0, inplace=True)\n",
    "spesificModelsDF"
   ]
  },
  {
   "cell_type": "code",
   "execution_count": 76,
   "metadata": {},
   "outputs": [
    {
     "data": {
      "application/vnd.jupyter.widget-view+json": {
       "model_id": "0eabc73f8c4f4b0aa831f5be5098aedd",
       "version_major": 2,
       "version_minor": 0
      },
      "text/plain": [
       "BoundedIntText(value=2022, description='Year:', max=2022, min=1950)"
      ]
     },
     "metadata": {},
     "output_type": "display_data"
    }
   ],
   "source": [
    "year = widgets.BoundedIntText(\n",
    "    value=2022,\n",
    "    min=1950,\n",
    "    max=2022,\n",
    "    step=1,\n",
    "    description='Year:',\n",
    "    disabled=False\n",
    ")\n",
    "year"
   ]
  },
  {
   "cell_type": "code",
   "execution_count": 77,
   "metadata": {},
   "outputs": [
    {
     "data": {
      "application/vnd.jupyter.widget-view+json": {
       "model_id": "261c905098d2496b8359ba214234d95d",
       "version_major": 2,
       "version_minor": 0
      },
      "text/plain": [
       "IntSlider(value=0, continuous_update=False, description='KM:', max=1000000, step=1000)"
      ]
     },
     "metadata": {},
     "output_type": "display_data"
    }
   ],
   "source": [
    "km = widgets.IntSlider(\n",
    "    value=0,\n",
    "    min=0,\n",
    "    max=1000000,\n",
    "    step=1000,\n",
    "    description='KM:',\n",
    "    disabled=False,\n",
    "    continuous_update=False,\n",
    "    orientation='horizontal',\n",
    "    readout=True,\n",
    "    readout_format='d'\n",
    ")\n",
    "km"
   ]
  },
  {
   "cell_type": "code",
   "execution_count": 117,
   "metadata": {},
   "outputs": [
    {
     "name": "stdout",
     "output_type": "stream",
     "text": [
      "[372200.64311589]\n"
     ]
    },
    {
     "name": "stderr",
     "output_type": "stream",
     "text": [
      "/Users/berkkan/opt/anaconda3/lib/python3.9/site-packages/sklearn/base.py:450: UserWarning: X does not have valid feature names, but LinearRegression was fitted with feature names\n",
      "  warnings.warn(\n"
     ]
    }
   ],
   "source": [
    "print(linear_model.predict([[year.value, km.value, *spesificModelsDF.values[0]]]))"
   ]
  }
 ],
 "metadata": {
  "kernelspec": {
   "display_name": "Python 3.9.12 ('base')",
   "language": "python",
   "name": "python3"
  },
  "language_info": {
   "codemirror_mode": {
    "name": "ipython",
    "version": 3
   },
   "file_extension": ".py",
   "mimetype": "text/x-python",
   "name": "python",
   "nbconvert_exporter": "python",
   "pygments_lexer": "ipython3",
   "version": "3.9.12"
  },
  "orig_nbformat": 4,
  "vscode": {
   "interpreter": {
    "hash": "709557d028083c10ad6ea76eee7ee644f73bfc25d209d0966f7128ac01661f83"
   }
  }
 },
 "nbformat": 4,
 "nbformat_minor": 2
}
