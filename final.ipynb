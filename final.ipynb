{
 "cells": [
  {
   "attachments": {},
   "cell_type": "markdown",
   "metadata": {},
   "source": [
    "## Introduction\n",
    "\n",
    "This notebook contains the source codes for the final project. The project is about predicting the car price in Turkey using the data from [sahibinden.com](https://www.sahibinden.com/). For detailed information about the project, please refer to the [project proposal](https://github.com/BerkkanB/MAT-381E-FINAL-PROJECT/blob/main/Final-Project-Proposal.ipynb)."
   ]
  },
  {
   "attachments": {},
   "cell_type": "markdown",
   "metadata": {},
   "source": [
    "Importing the necessary libraries:\n",
    "- BeautifullSoup is used for web scraping\n",
    "- numpy and pandas are used for data manipulation\n",
    "- matplotlib is used for data visualization\n",
    "- sklearn is used for machine learning algorithms\n",
    "- ipywidgets is used for interactive widgets\n"
   ]
  },
  {
   "cell_type": "code",
   "execution_count": 1,
   "metadata": {},
   "outputs": [],
   "source": [
    "from bs4 import BeautifulSoup\n",
    "import requests\n",
    "from slugify import slugify\n",
    "import pandas as pd\n",
    "from sklearn.linear_model import LinearRegression\n",
    "from sklearn.model_selection import train_test_split\n",
    "from sklearn.preprocessing import OneHotEncoder\n",
    "import numpy as np\n",
    "\n",
    "import ipywidgets as widgets\n",
    "from ipywidgets import interact, interact_manual\n",
    "from sklearn.svm import SVR\n",
    "from sklearn.ensemble import RandomForestRegressor\n",
    "import matplotlib.pyplot as plt\n"
   ]
  },
  {
   "attachments": {},
   "cell_type": "markdown",
   "metadata": {},
   "source": [
    "## Web Scraping and Data Collection\n",
    "\n",
    "Since sahibinden.com does not make its data available via an API or an excel file, we had to pull the data directly from the website. For this purpose, we used the BeautifulSoup library.\n"
   ]
  },
  {
   "cell_type": "code",
   "execution_count": 2,
   "metadata": {},
   "outputs": [],
   "source": [
    "BASE_URL = \"https://www.sahibinden.com/\"\n",
    "HOME_PAGE = \"https://www.sahibinden.com/otomobil/\" "
   ]
  },
  {
   "attachments": {},
   "cell_type": "markdown",
   "metadata": {},
   "source": [
    "`get_html` function takes the url of the page as an input and call the url with appropriate headers. Then it returns the html content of the page."
   ]
  },
  {
   "cell_type": "code",
   "execution_count": 3,
   "metadata": {},
   "outputs": [],
   "source": [
    "def get_html(url):\n",
    "    response = requests.get(url, headers={\"User-Agent\": \"Mozilla/5.0\",\"accept\": \"text/html\"})\n",
    "    return response.content\n",
    "\n",
    "base_page = get_html(HOME_PAGE)\n",
    "soup = BeautifulSoup(base_page, \"html.parser\")\n"
   ]
  },
  {
   "attachments": {},
   "cell_type": "markdown",
   "metadata": {},
   "source": [
    "Since there are lots of car brands in sahibinden, we decided to scrape the data according to user input. For this purpose, we parsed the base html page of sahibinden and extracted the all car brands. Then we asked the user to choose a car brand from the list. After the user input, we scraped the data of the chosen car brand.\n",
    "\n",
    "To get the brand names we looked for html source and found that the brand names are in the `li` tag with class name `cl2`. Then we parsed the html and extracted the brand names."
   ]
  },
  {
   "cell_type": "code",
   "execution_count": 4,
   "metadata": {},
   "outputs": [],
   "source": [
    "brands = soup.find_all(\"li\", {\"class\": \"cl2\"})"
   ]
  },
  {
   "attachments": {},
   "cell_type": "markdown",
   "metadata": {},
   "source": [
    "Since they use slug for the urls, we had to convert the brand names to slugs. For this purpose, we used the `slugify` function from the `slugify` library."
   ]
  },
  {
   "cell_type": "code",
   "execution_count": 5,
   "metadata": {},
   "outputs": [],
   "source": [
    "def clear_brand_names(data):\n",
    "    dataList = []\n",
    "    for tag in data:\n",
    "        brand = tag.text.strip().split(\"(\")[0].strip() \n",
    "        brand = slugify(brand)\n",
    "\n",
    "        dataList.append(brand)\n",
    "    return dataList"
   ]
  },
  {
   "cell_type": "code",
   "execution_count": 6,
   "metadata": {},
   "outputs": [
    {
     "data": {
      "text/plain": [
       "['acura',\n",
       " 'aion',\n",
       " 'alfa-romeo',\n",
       " 'anadol',\n",
       " 'aston-martin',\n",
       " 'audi',\n",
       " 'bentley',\n",
       " 'bmw',\n",
       " 'buick',\n",
       " 'cadillac',\n",
       " 'chery',\n",
       " 'chevrolet',\n",
       " 'chrysler',\n",
       " 'citroen',\n",
       " 'dacia',\n",
       " 'daewoo',\n",
       " 'daihatsu',\n",
       " 'dodge',\n",
       " 'ds-automobiles',\n",
       " 'ferrari',\n",
       " 'fiat',\n",
       " 'fisker',\n",
       " 'ford',\n",
       " 'geely',\n",
       " 'honda',\n",
       " 'hyundai',\n",
       " 'ikco',\n",
       " 'infiniti',\n",
       " 'jaguar',\n",
       " 'kia',\n",
       " 'lada',\n",
       " 'lamborghini',\n",
       " 'lancia',\n",
       " 'leapmotor',\n",
       " 'lexus',\n",
       " 'lincoln',\n",
       " 'lotus',\n",
       " 'marcos',\n",
       " 'maserati',\n",
       " 'mazda',\n",
       " 'mclaren',\n",
       " 'mercedes-benz',\n",
       " 'mercury',\n",
       " 'mg',\n",
       " 'mini',\n",
       " 'mitsubishi',\n",
       " 'moskwitsch',\n",
       " 'nissan',\n",
       " 'opel',\n",
       " 'peugeot',\n",
       " 'plymouth',\n",
       " 'polestar',\n",
       " 'pontiac',\n",
       " 'porsche',\n",
       " 'proton',\n",
       " 'renault',\n",
       " 'rks',\n",
       " 'rolls-royce',\n",
       " 'rover',\n",
       " 'saab',\n",
       " 'saturn',\n",
       " 'seat',\n",
       " 'skoda',\n",
       " 'smart',\n",
       " 'subaru',\n",
       " 'suzuki',\n",
       " 'tata',\n",
       " 'tesla',\n",
       " 'tofas',\n",
       " 'toyota',\n",
       " 'volkswagen',\n",
       " 'volvo',\n",
       " 'xev']"
      ]
     },
     "execution_count": 6,
     "metadata": {},
     "output_type": "execute_result"
    }
   ],
   "source": [
    "brandList = clear_brand_names(brands)\n",
    "brandList"
   ]
  },
  {
   "attachments": {},
   "cell_type": "markdown",
   "metadata": {},
   "source": [
    "Since we get the all brand names now we can take the user input. For this purpose, we used the `ipywidgets` library. We created a dropdown widget and passed the brand names to it. Then we displayed the widget and waited for the user input."
   ]
  },
  {
   "cell_type": "code",
   "execution_count": 7,
   "metadata": {},
   "outputs": [
    {
     "data": {
      "application/vnd.jupyter.widget-view+json": {
       "model_id": "da300c07448b470e8aec53f183eab8f9",
       "version_major": 2,
       "version_minor": 0
      },
      "text/plain": [
       "Dropdown(description='Brand:', options=('acura', 'aion', 'alfa-romeo', 'anadol', 'aston-martin', 'audi', 'bent…"
      ]
     },
     "execution_count": 7,
     "metadata": {},
     "output_type": "execute_result"
    }
   ],
   "source": [
    "chosenBrand = widgets.Dropdown(\n",
    "    options=brandList,\n",
    "    description='Brand:',\n",
    "    disabled=False\n",
    ")\n",
    "\n",
    "chosenBrand"
   ]
  },
  {
   "cell_type": "code",
   "execution_count": 8,
   "metadata": {},
   "outputs": [
    {
     "data": {
      "text/plain": [
       "'https://www.sahibinden.com/seat'"
      ]
     },
     "execution_count": 8,
     "metadata": {},
     "output_type": "execute_result"
    }
   ],
   "source": [
    "MODELS_URL = BASE_URL + chosenBrand.value\n",
    "MODELS_URL"
   ]
  },
  {
   "attachments": {},
   "cell_type": "markdown",
   "metadata": {},
   "source": [
    "Now we have the brand name, we can scrape the data of the brand. For this purpose, we used the `get_html` function to get the html content of the first page of the brand. Then we parsed the html and extracted the car models. We found that the car models are in the `li` tag with class name `cl3`. Then we parsed the html and extracted the car models."
   ]
  },
  {
   "cell_type": "code",
   "execution_count": 9,
   "metadata": {},
   "outputs": [],
   "source": [
    "modelsPage = get_html(MODELS_URL)\n",
    "\n",
    "\n",
    "models = BeautifulSoup(modelsPage, \"html.parser\")\n",
    "models = models.find_all(\"li\", {\"class\": \"cl3\"})\n",
    "models = clear_brand_names(models)\n",
    "models = np.unique(models)"
   ]
  },
  {
   "cell_type": "code",
   "execution_count": 10,
   "metadata": {},
   "outputs": [
    {
     "data": {
      "application/vnd.jupyter.widget-view+json": {
       "model_id": "2ab01fb3bfc34a43811472f7e6d3dd41",
       "version_major": 2,
       "version_minor": 0
      },
      "text/plain": [
       "Dropdown(description='Number:', options=('alhambra', 'altea', 'arosa', 'cordoba', 'exeo', 'ibiza', 'leon', 'ma…"
      ]
     },
     "execution_count": 10,
     "metadata": {},
     "output_type": "execute_result"
    }
   ],
   "source": [
    "chosenModel = widgets.Dropdown(\n",
    "    options=models,\n",
    "    description='Number:',\n",
    "    disabled=False,\n",
    ")\n",
    "chosenModel"
   ]
  },
  {
   "attachments": {},
   "cell_type": "markdown",
   "metadata": {},
   "source": [
    "Since we get car brand and model names, we can write a function to parse sahibinden datatable and extract the data. For this purpose, we used the `get_html` function to get the html content of the first page of the brand. Then itearted over the pages and extracted the data using the pandas `read_html` function."
   ]
  },
  {
   "cell_type": "code",
   "execution_count": 11,
   "metadata": {},
   "outputs": [],
   "source": [
    "def clean_sahibinden_table(table):\n",
    "    usefulContentDF = table.dropna(axis=0, how=\"all\")\n",
    "    usefulContentDF = usefulContentDF[[\"Yıl\", \"KM\", \"Fiyat\",\"Model\"]]\n",
    "    usefulContentDF['KM'] = (usefulContentDF['KM']*1000).astype(int)\n",
    "    usefulContentDF['Fiyat'] = usefulContentDF['Fiyat'].str.replace(\" TL\", \"\")\n",
    "    usefulContentDF['Fiyat'] = usefulContentDF['Fiyat'].str.replace(\".\", \"\").astype(int)\n",
    "    return usefulContentDF"
   ]
  },
  {
   "cell_type": "code",
   "execution_count": 13,
   "metadata": {},
   "outputs": [
    {
     "name": "stdout",
     "output_type": "stream",
     "text": [
      "0\n"
     ]
    },
    {
     "name": "stderr",
     "output_type": "stream",
     "text": [
      "/var/folders/6t/_5r4qrqj4v9fpq6q5xhtnq4h0000gn/T/ipykernel_14431/3113079336.py:6: FutureWarning: The default value of regex will change from True to False in a future version. In addition, single character regular expressions will *not* be treated as literal strings when regex=True.\n",
      "  usefulContentDF['Fiyat'] = usefulContentDF['Fiyat'].str.replace(\".\", \"\").astype(int)\n"
     ]
    },
    {
     "name": "stdout",
     "output_type": "stream",
     "text": [
      "50\n",
      "100\n",
      "150\n",
      "200\n",
      "250\n",
      "300\n",
      "350\n",
      "400\n",
      "450\n",
      "500\n",
      "550\n",
      "600\n",
      "650\n"
     ]
    },
    {
     "data": {
      "text/html": [
       "<div>\n",
       "<style scoped>\n",
       "    .dataframe tbody tr th:only-of-type {\n",
       "        vertical-align: middle;\n",
       "    }\n",
       "\n",
       "    .dataframe tbody tr th {\n",
       "        vertical-align: top;\n",
       "    }\n",
       "\n",
       "    .dataframe thead th {\n",
       "        text-align: right;\n",
       "    }\n",
       "</style>\n",
       "<table border=\"1\" class=\"dataframe\">\n",
       "  <thead>\n",
       "    <tr style=\"text-align: right;\">\n",
       "      <th></th>\n",
       "      <th>Yıl</th>\n",
       "      <th>KM</th>\n",
       "      <th>Fiyat</th>\n",
       "      <th>Model</th>\n",
       "    </tr>\n",
       "  </thead>\n",
       "  <tbody>\n",
       "    <tr>\n",
       "      <th>0</th>\n",
       "      <td>2017.0</td>\n",
       "      <td>90000</td>\n",
       "      <td>750000</td>\n",
       "      <td>1.4 EcoTSI FR</td>\n",
       "    </tr>\n",
       "    <tr>\n",
       "      <th>1</th>\n",
       "      <td>2014.0</td>\n",
       "      <td>88000</td>\n",
       "      <td>352000</td>\n",
       "      <td>1.4 TSI FR</td>\n",
       "    </tr>\n",
       "    <tr>\n",
       "      <th>2</th>\n",
       "      <td>2017.0</td>\n",
       "      <td>123000</td>\n",
       "      <td>670000</td>\n",
       "      <td>1.4 TSI FR</td>\n",
       "    </tr>\n",
       "    <tr>\n",
       "      <th>3</th>\n",
       "      <td>2012.0</td>\n",
       "      <td>217000</td>\n",
       "      <td>265000</td>\n",
       "      <td>1.2 TSI Style</td>\n",
       "    </tr>\n",
       "    <tr>\n",
       "      <th>4</th>\n",
       "      <td>2017.0</td>\n",
       "      <td>83000</td>\n",
       "      <td>700000</td>\n",
       "      <td>1.6 TDI Style</td>\n",
       "    </tr>\n",
       "    <tr>\n",
       "      <th>...</th>\n",
       "      <td>...</td>\n",
       "      <td>...</td>\n",
       "      <td>...</td>\n",
       "      <td>...</td>\n",
       "    </tr>\n",
       "    <tr>\n",
       "      <th>703</th>\n",
       "      <td>2019.0</td>\n",
       "      <td>46000</td>\n",
       "      <td>647000</td>\n",
       "      <td>1.6 TDI Style</td>\n",
       "    </tr>\n",
       "    <tr>\n",
       "      <th>704</th>\n",
       "      <td>2016.0</td>\n",
       "      <td>97000</td>\n",
       "      <td>669000</td>\n",
       "      <td>1.4 EcoTSI FR</td>\n",
       "    </tr>\n",
       "    <tr>\n",
       "      <th>705</th>\n",
       "      <td>2017.0</td>\n",
       "      <td>99000</td>\n",
       "      <td>682000</td>\n",
       "      <td>1.4 EcoTSI FR</td>\n",
       "    </tr>\n",
       "    <tr>\n",
       "      <th>706</th>\n",
       "      <td>2008.0</td>\n",
       "      <td>265000</td>\n",
       "      <td>238750</td>\n",
       "      <td>1.6 Stylance</td>\n",
       "    </tr>\n",
       "    <tr>\n",
       "      <th>707</th>\n",
       "      <td>2020.0</td>\n",
       "      <td>55000</td>\n",
       "      <td>768000</td>\n",
       "      <td>1.5 EcoTSI FR</td>\n",
       "    </tr>\n",
       "  </tbody>\n",
       "</table>\n",
       "<p>708 rows × 4 columns</p>\n",
       "</div>"
      ],
      "text/plain": [
       "        Yıl      KM   Fiyat          Model\n",
       "0    2017.0   90000  750000  1.4 EcoTSI FR\n",
       "1    2014.0   88000  352000     1.4 TSI FR\n",
       "2    2017.0  123000  670000     1.4 TSI FR\n",
       "3    2012.0  217000  265000  1.2 TSI Style\n",
       "4    2017.0   83000  700000  1.6 TDI Style\n",
       "..      ...     ...     ...            ...\n",
       "703  2019.0   46000  647000  1.6 TDI Style\n",
       "704  2016.0   97000  669000  1.4 EcoTSI FR\n",
       "705  2017.0   99000  682000  1.4 EcoTSI FR\n",
       "706  2008.0  265000  238750   1.6 Stylance\n",
       "707  2020.0   55000  768000  1.5 EcoTSI FR\n",
       "\n",
       "[708 rows x 4 columns]"
      ]
     },
     "execution_count": 13,
     "metadata": {},
     "output_type": "execute_result"
    }
   ],
   "source": [
    "df = pd.DataFrame(columns=[\"Yıl\", \"KM\", \"Fiyat\",\"Model\"])\n",
    "\n",
    "for offset in range(0, 700, 50):\n",
    "    print(offset)\n",
    "    QUERY_PARAM = \"?pagingOffset={}&pagingSize=50&sorting=date_desc\".format(offset)\n",
    "    QUERY_URL = MODELS_URL + \"-\" + chosenModel.value + QUERY_PARAM\n",
    "\n",
    "    content = get_html(QUERY_URL)\n",
    "    content = BeautifulSoup(content, \"html.parser\")\n",
    "    content = content.find(\"table\", {\"id\": \"searchResultsTable\"})\n",
    "    contentDF = pd.read_html(str(content))[0]\n",
    "    contentDF = clean_sahibinden_table(contentDF)\n",
    "    df = df.append(contentDF, ignore_index=True)\n",
    "    \n",
    "df\n",
    "\n"
   ]
  },
  {
   "cell_type": "code",
   "execution_count": null,
   "metadata": {},
   "outputs": [],
   "source": [
    "df"
   ]
  },
  {
   "cell_type": "code",
   "execution_count": 14,
   "metadata": {},
   "outputs": [
    {
     "name": "stderr",
     "output_type": "stream",
     "text": [
      "/Applications/anaconda3/envs/390/lib/python3.9/site-packages/sklearn/utils/deprecation.py:87: FutureWarning: Function get_feature_names is deprecated; get_feature_names is deprecated in 1.0 and will be removed in 1.2. Please use get_feature_names_out instead.\n",
      "  warnings.warn(msg, category=FutureWarning)\n"
     ]
    }
   ],
   "source": [
    "enc = OneHotEncoder()\n",
    "enc_df = pd.DataFrame(enc.fit_transform(df[['Model']]).toarray(), columns=enc.get_feature_names(['Model']))"
   ]
  },
  {
   "cell_type": "code",
   "execution_count": 15,
   "metadata": {},
   "outputs": [
    {
     "data": {
      "text/html": [
       "<div>\n",
       "<style scoped>\n",
       "    .dataframe tbody tr th:only-of-type {\n",
       "        vertical-align: middle;\n",
       "    }\n",
       "\n",
       "    .dataframe tbody tr th {\n",
       "        vertical-align: top;\n",
       "    }\n",
       "\n",
       "    .dataframe thead th {\n",
       "        text-align: right;\n",
       "    }\n",
       "</style>\n",
       "<table border=\"1\" class=\"dataframe\">\n",
       "  <thead>\n",
       "    <tr style=\"text-align: right;\">\n",
       "      <th></th>\n",
       "      <th>Yıl</th>\n",
       "      <th>KM</th>\n",
       "      <th>Fiyat</th>\n",
       "      <th>Model</th>\n",
       "      <th>Model_1.0 EcoTSI Ecomotive Style</th>\n",
       "      <th>Model_1.0 EcoTSI Style Visio</th>\n",
       "      <th>Model_1.0 TSI Style</th>\n",
       "      <th>Model_1.0 eTSI Style Plus</th>\n",
       "      <th>Model_1.2 TSI Style</th>\n",
       "      <th>Model_1.4 EcoTSI FR</th>\n",
       "      <th>...</th>\n",
       "      <th>Model_1.6 TDI Style</th>\n",
       "      <th>Model_1.6 TDI X-Perience</th>\n",
       "      <th>Model_1.6 TDI Xcellence</th>\n",
       "      <th>Model_1.9 TDI Signo</th>\n",
       "      <th>Model_1.9 TDI Sport</th>\n",
       "      <th>Model_1.9 TDI Style</th>\n",
       "      <th>Model_2.0 TDI CR FR</th>\n",
       "      <th>Model_2.0 TDI Stylance</th>\n",
       "      <th>Model_2.0 TFSI Cupra</th>\n",
       "      <th>Model_2.0 TSI Cupra</th>\n",
       "    </tr>\n",
       "  </thead>\n",
       "  <tbody>\n",
       "    <tr>\n",
       "      <th>0</th>\n",
       "      <td>2017.0</td>\n",
       "      <td>90000</td>\n",
       "      <td>750000</td>\n",
       "      <td>1.4 EcoTSI FR</td>\n",
       "      <td>0.0</td>\n",
       "      <td>0.0</td>\n",
       "      <td>0.0</td>\n",
       "      <td>0.0</td>\n",
       "      <td>0.0</td>\n",
       "      <td>1.0</td>\n",
       "      <td>...</td>\n",
       "      <td>0.0</td>\n",
       "      <td>0.0</td>\n",
       "      <td>0.0</td>\n",
       "      <td>0.0</td>\n",
       "      <td>0.0</td>\n",
       "      <td>0.0</td>\n",
       "      <td>0.0</td>\n",
       "      <td>0.0</td>\n",
       "      <td>0.0</td>\n",
       "      <td>0.0</td>\n",
       "    </tr>\n",
       "    <tr>\n",
       "      <th>1</th>\n",
       "      <td>2014.0</td>\n",
       "      <td>88000</td>\n",
       "      <td>352000</td>\n",
       "      <td>1.4 TSI FR</td>\n",
       "      <td>0.0</td>\n",
       "      <td>0.0</td>\n",
       "      <td>0.0</td>\n",
       "      <td>0.0</td>\n",
       "      <td>0.0</td>\n",
       "      <td>0.0</td>\n",
       "      <td>...</td>\n",
       "      <td>0.0</td>\n",
       "      <td>0.0</td>\n",
       "      <td>0.0</td>\n",
       "      <td>0.0</td>\n",
       "      <td>0.0</td>\n",
       "      <td>0.0</td>\n",
       "      <td>0.0</td>\n",
       "      <td>0.0</td>\n",
       "      <td>0.0</td>\n",
       "      <td>0.0</td>\n",
       "    </tr>\n",
       "    <tr>\n",
       "      <th>2</th>\n",
       "      <td>2017.0</td>\n",
       "      <td>123000</td>\n",
       "      <td>670000</td>\n",
       "      <td>1.4 TSI FR</td>\n",
       "      <td>0.0</td>\n",
       "      <td>0.0</td>\n",
       "      <td>0.0</td>\n",
       "      <td>0.0</td>\n",
       "      <td>0.0</td>\n",
       "      <td>0.0</td>\n",
       "      <td>...</td>\n",
       "      <td>0.0</td>\n",
       "      <td>0.0</td>\n",
       "      <td>0.0</td>\n",
       "      <td>0.0</td>\n",
       "      <td>0.0</td>\n",
       "      <td>0.0</td>\n",
       "      <td>0.0</td>\n",
       "      <td>0.0</td>\n",
       "      <td>0.0</td>\n",
       "      <td>0.0</td>\n",
       "    </tr>\n",
       "    <tr>\n",
       "      <th>3</th>\n",
       "      <td>2012.0</td>\n",
       "      <td>217000</td>\n",
       "      <td>265000</td>\n",
       "      <td>1.2 TSI Style</td>\n",
       "      <td>0.0</td>\n",
       "      <td>0.0</td>\n",
       "      <td>0.0</td>\n",
       "      <td>0.0</td>\n",
       "      <td>1.0</td>\n",
       "      <td>0.0</td>\n",
       "      <td>...</td>\n",
       "      <td>0.0</td>\n",
       "      <td>0.0</td>\n",
       "      <td>0.0</td>\n",
       "      <td>0.0</td>\n",
       "      <td>0.0</td>\n",
       "      <td>0.0</td>\n",
       "      <td>0.0</td>\n",
       "      <td>0.0</td>\n",
       "      <td>0.0</td>\n",
       "      <td>0.0</td>\n",
       "    </tr>\n",
       "    <tr>\n",
       "      <th>4</th>\n",
       "      <td>2017.0</td>\n",
       "      <td>83000</td>\n",
       "      <td>700000</td>\n",
       "      <td>1.6 TDI Style</td>\n",
       "      <td>0.0</td>\n",
       "      <td>0.0</td>\n",
       "      <td>0.0</td>\n",
       "      <td>0.0</td>\n",
       "      <td>0.0</td>\n",
       "      <td>0.0</td>\n",
       "      <td>...</td>\n",
       "      <td>1.0</td>\n",
       "      <td>0.0</td>\n",
       "      <td>0.0</td>\n",
       "      <td>0.0</td>\n",
       "      <td>0.0</td>\n",
       "      <td>0.0</td>\n",
       "      <td>0.0</td>\n",
       "      <td>0.0</td>\n",
       "      <td>0.0</td>\n",
       "      <td>0.0</td>\n",
       "    </tr>\n",
       "    <tr>\n",
       "      <th>...</th>\n",
       "      <td>...</td>\n",
       "      <td>...</td>\n",
       "      <td>...</td>\n",
       "      <td>...</td>\n",
       "      <td>...</td>\n",
       "      <td>...</td>\n",
       "      <td>...</td>\n",
       "      <td>...</td>\n",
       "      <td>...</td>\n",
       "      <td>...</td>\n",
       "      <td>...</td>\n",
       "      <td>...</td>\n",
       "      <td>...</td>\n",
       "      <td>...</td>\n",
       "      <td>...</td>\n",
       "      <td>...</td>\n",
       "      <td>...</td>\n",
       "      <td>...</td>\n",
       "      <td>...</td>\n",
       "      <td>...</td>\n",
       "      <td>...</td>\n",
       "    </tr>\n",
       "    <tr>\n",
       "      <th>703</th>\n",
       "      <td>2019.0</td>\n",
       "      <td>46000</td>\n",
       "      <td>647000</td>\n",
       "      <td>1.6 TDI Style</td>\n",
       "      <td>0.0</td>\n",
       "      <td>0.0</td>\n",
       "      <td>0.0</td>\n",
       "      <td>0.0</td>\n",
       "      <td>0.0</td>\n",
       "      <td>0.0</td>\n",
       "      <td>...</td>\n",
       "      <td>1.0</td>\n",
       "      <td>0.0</td>\n",
       "      <td>0.0</td>\n",
       "      <td>0.0</td>\n",
       "      <td>0.0</td>\n",
       "      <td>0.0</td>\n",
       "      <td>0.0</td>\n",
       "      <td>0.0</td>\n",
       "      <td>0.0</td>\n",
       "      <td>0.0</td>\n",
       "    </tr>\n",
       "    <tr>\n",
       "      <th>704</th>\n",
       "      <td>2016.0</td>\n",
       "      <td>97000</td>\n",
       "      <td>669000</td>\n",
       "      <td>1.4 EcoTSI FR</td>\n",
       "      <td>0.0</td>\n",
       "      <td>0.0</td>\n",
       "      <td>0.0</td>\n",
       "      <td>0.0</td>\n",
       "      <td>0.0</td>\n",
       "      <td>1.0</td>\n",
       "      <td>...</td>\n",
       "      <td>0.0</td>\n",
       "      <td>0.0</td>\n",
       "      <td>0.0</td>\n",
       "      <td>0.0</td>\n",
       "      <td>0.0</td>\n",
       "      <td>0.0</td>\n",
       "      <td>0.0</td>\n",
       "      <td>0.0</td>\n",
       "      <td>0.0</td>\n",
       "      <td>0.0</td>\n",
       "    </tr>\n",
       "    <tr>\n",
       "      <th>705</th>\n",
       "      <td>2017.0</td>\n",
       "      <td>99000</td>\n",
       "      <td>682000</td>\n",
       "      <td>1.4 EcoTSI FR</td>\n",
       "      <td>0.0</td>\n",
       "      <td>0.0</td>\n",
       "      <td>0.0</td>\n",
       "      <td>0.0</td>\n",
       "      <td>0.0</td>\n",
       "      <td>1.0</td>\n",
       "      <td>...</td>\n",
       "      <td>0.0</td>\n",
       "      <td>0.0</td>\n",
       "      <td>0.0</td>\n",
       "      <td>0.0</td>\n",
       "      <td>0.0</td>\n",
       "      <td>0.0</td>\n",
       "      <td>0.0</td>\n",
       "      <td>0.0</td>\n",
       "      <td>0.0</td>\n",
       "      <td>0.0</td>\n",
       "    </tr>\n",
       "    <tr>\n",
       "      <th>706</th>\n",
       "      <td>2008.0</td>\n",
       "      <td>265000</td>\n",
       "      <td>238750</td>\n",
       "      <td>1.6 Stylance</td>\n",
       "      <td>0.0</td>\n",
       "      <td>0.0</td>\n",
       "      <td>0.0</td>\n",
       "      <td>0.0</td>\n",
       "      <td>0.0</td>\n",
       "      <td>0.0</td>\n",
       "      <td>...</td>\n",
       "      <td>0.0</td>\n",
       "      <td>0.0</td>\n",
       "      <td>0.0</td>\n",
       "      <td>0.0</td>\n",
       "      <td>0.0</td>\n",
       "      <td>0.0</td>\n",
       "      <td>0.0</td>\n",
       "      <td>0.0</td>\n",
       "      <td>0.0</td>\n",
       "      <td>0.0</td>\n",
       "    </tr>\n",
       "    <tr>\n",
       "      <th>707</th>\n",
       "      <td>2020.0</td>\n",
       "      <td>55000</td>\n",
       "      <td>768000</td>\n",
       "      <td>1.5 EcoTSI FR</td>\n",
       "      <td>0.0</td>\n",
       "      <td>0.0</td>\n",
       "      <td>0.0</td>\n",
       "      <td>0.0</td>\n",
       "      <td>0.0</td>\n",
       "      <td>0.0</td>\n",
       "      <td>...</td>\n",
       "      <td>0.0</td>\n",
       "      <td>0.0</td>\n",
       "      <td>0.0</td>\n",
       "      <td>0.0</td>\n",
       "      <td>0.0</td>\n",
       "      <td>0.0</td>\n",
       "      <td>0.0</td>\n",
       "      <td>0.0</td>\n",
       "      <td>0.0</td>\n",
       "      <td>0.0</td>\n",
       "    </tr>\n",
       "  </tbody>\n",
       "</table>\n",
       "<p>708 rows × 43 columns</p>\n",
       "</div>"
      ],
      "text/plain": [
       "        Yıl      KM   Fiyat          Model  Model_1.0 EcoTSI Ecomotive Style  \\\n",
       "0    2017.0   90000  750000  1.4 EcoTSI FR                               0.0   \n",
       "1    2014.0   88000  352000     1.4 TSI FR                               0.0   \n",
       "2    2017.0  123000  670000     1.4 TSI FR                               0.0   \n",
       "3    2012.0  217000  265000  1.2 TSI Style                               0.0   \n",
       "4    2017.0   83000  700000  1.6 TDI Style                               0.0   \n",
       "..      ...     ...     ...            ...                               ...   \n",
       "703  2019.0   46000  647000  1.6 TDI Style                               0.0   \n",
       "704  2016.0   97000  669000  1.4 EcoTSI FR                               0.0   \n",
       "705  2017.0   99000  682000  1.4 EcoTSI FR                               0.0   \n",
       "706  2008.0  265000  238750   1.6 Stylance                               0.0   \n",
       "707  2020.0   55000  768000  1.5 EcoTSI FR                               0.0   \n",
       "\n",
       "     Model_1.0 EcoTSI Style Visio  Model_1.0 TSI Style  \\\n",
       "0                             0.0                  0.0   \n",
       "1                             0.0                  0.0   \n",
       "2                             0.0                  0.0   \n",
       "3                             0.0                  0.0   \n",
       "4                             0.0                  0.0   \n",
       "..                            ...                  ...   \n",
       "703                           0.0                  0.0   \n",
       "704                           0.0                  0.0   \n",
       "705                           0.0                  0.0   \n",
       "706                           0.0                  0.0   \n",
       "707                           0.0                  0.0   \n",
       "\n",
       "     Model_1.0 eTSI Style Plus  Model_1.2 TSI Style  Model_1.4 EcoTSI FR  ...  \\\n",
       "0                          0.0                  0.0                  1.0  ...   \n",
       "1                          0.0                  0.0                  0.0  ...   \n",
       "2                          0.0                  0.0                  0.0  ...   \n",
       "3                          0.0                  1.0                  0.0  ...   \n",
       "4                          0.0                  0.0                  0.0  ...   \n",
       "..                         ...                  ...                  ...  ...   \n",
       "703                        0.0                  0.0                  0.0  ...   \n",
       "704                        0.0                  0.0                  1.0  ...   \n",
       "705                        0.0                  0.0                  1.0  ...   \n",
       "706                        0.0                  0.0                  0.0  ...   \n",
       "707                        0.0                  0.0                  0.0  ...   \n",
       "\n",
       "     Model_1.6 TDI Style  Model_1.6 TDI X-Perience  Model_1.6 TDI Xcellence  \\\n",
       "0                    0.0                       0.0                      0.0   \n",
       "1                    0.0                       0.0                      0.0   \n",
       "2                    0.0                       0.0                      0.0   \n",
       "3                    0.0                       0.0                      0.0   \n",
       "4                    1.0                       0.0                      0.0   \n",
       "..                   ...                       ...                      ...   \n",
       "703                  1.0                       0.0                      0.0   \n",
       "704                  0.0                       0.0                      0.0   \n",
       "705                  0.0                       0.0                      0.0   \n",
       "706                  0.0                       0.0                      0.0   \n",
       "707                  0.0                       0.0                      0.0   \n",
       "\n",
       "     Model_1.9 TDI Signo  Model_1.9 TDI Sport  Model_1.9 TDI Style  \\\n",
       "0                    0.0                  0.0                  0.0   \n",
       "1                    0.0                  0.0                  0.0   \n",
       "2                    0.0                  0.0                  0.0   \n",
       "3                    0.0                  0.0                  0.0   \n",
       "4                    0.0                  0.0                  0.0   \n",
       "..                   ...                  ...                  ...   \n",
       "703                  0.0                  0.0                  0.0   \n",
       "704                  0.0                  0.0                  0.0   \n",
       "705                  0.0                  0.0                  0.0   \n",
       "706                  0.0                  0.0                  0.0   \n",
       "707                  0.0                  0.0                  0.0   \n",
       "\n",
       "     Model_2.0 TDI CR FR  Model_2.0 TDI Stylance  Model_2.0 TFSI Cupra  \\\n",
       "0                    0.0                     0.0                   0.0   \n",
       "1                    0.0                     0.0                   0.0   \n",
       "2                    0.0                     0.0                   0.0   \n",
       "3                    0.0                     0.0                   0.0   \n",
       "4                    0.0                     0.0                   0.0   \n",
       "..                   ...                     ...                   ...   \n",
       "703                  0.0                     0.0                   0.0   \n",
       "704                  0.0                     0.0                   0.0   \n",
       "705                  0.0                     0.0                   0.0   \n",
       "706                  0.0                     0.0                   0.0   \n",
       "707                  0.0                     0.0                   0.0   \n",
       "\n",
       "     Model_2.0 TSI Cupra  \n",
       "0                    0.0  \n",
       "1                    0.0  \n",
       "2                    0.0  \n",
       "3                    0.0  \n",
       "4                    0.0  \n",
       "..                   ...  \n",
       "703                  0.0  \n",
       "704                  0.0  \n",
       "705                  0.0  \n",
       "706                  0.0  \n",
       "707                  0.0  \n",
       "\n",
       "[708 rows x 43 columns]"
      ]
     },
     "execution_count": 15,
     "metadata": {},
     "output_type": "execute_result"
    }
   ],
   "source": [
    "final_df = df.join(enc_df)\n",
    "final_df"
   ]
  },
  {
   "cell_type": "code",
   "execution_count": 16,
   "metadata": {},
   "outputs": [],
   "source": [
    "def build_model(X_train, y_train,model):\n",
    "    if model == \"linear\":\n",
    "        model = LinearRegression()\n",
    "    if model == \"svm\":\n",
    "        model = SVR(gamma='scale', C=100000.0, epsilon=0.2)\n",
    "    if model == \"randomforest\":\n",
    "        model = RandomForestRegressor()\n",
    "    model.fit(X_train, y_train)\n",
    "\n",
    "    return model"
   ]
  },
  {
   "cell_type": "code",
   "execution_count": 17,
   "metadata": {},
   "outputs": [],
   "source": [
    "X = final_df.drop([\"Fiyat\",\"Model\"], axis=1)\n",
    "y = final_df[\"Fiyat\"]\n",
    "\n",
    "X_train, X_test, y_train, y_test = train_test_split(X, y, test_size=0.2, random_state=42)"
   ]
  },
  {
   "cell_type": "code",
   "execution_count": 18,
   "metadata": {},
   "outputs": [
    {
     "data": {
      "text/plain": [
       "0.8987132260525029"
      ]
     },
     "execution_count": 18,
     "metadata": {},
     "output_type": "execute_result"
    }
   ],
   "source": [
    "linear_model = build_model(X_train, y_train, \"linear\")\n",
    "\n",
    "linear_model.score(X_test, y_test)"
   ]
  },
  {
   "cell_type": "code",
   "execution_count": 19,
   "metadata": {},
   "outputs": [],
   "source": [
    "y_pred = linear_model.predict(X_test)"
   ]
  },
  {
   "cell_type": "code",
   "execution_count": 20,
   "metadata": {},
   "outputs": [],
   "source": [
    "def plot_prediction(y_test, y_pred):\n",
    "    plt.figure(figsize=(12, 7))\n",
    "    plt.scatter(y_pred, y_test, alpha=0.4)\n",
    "    plt.xlabel(\"Predicted\")\n",
    "    plt.ylabel(\"Actual\")\n",
    "    plt.title(\"Predicted vs Actual\")\n",
    "    maxValue = max(y_test.max(), y_pred.max())\n",
    "    minValue = min(y_test.min(), y_pred.min())\n",
    "    plt.plot([minValue, maxValue], [minValue, maxValue], color='red')\n",
    "    plt.show()"
   ]
  },
  {
   "cell_type": "code",
   "execution_count": 21,
   "metadata": {},
   "outputs": [
    {
     "data": {
      "image/png": "[encoded data removed]",
      "text/plain": [
       "<Figure size 1200x700 with 1 Axes>"
      ]
     },
     "metadata": {},
     "output_type": "display_data"
    }
   ],
   "source": [
    "plot_prediction(y_test, y_pred)"
   ]
  },
  {
   "cell_type": "code",
   "execution_count": 22,
   "metadata": {},
   "outputs": [
    {
     "data": {
      "text/plain": [
       "0.7038349028710607"
      ]
     },
     "execution_count": 22,
     "metadata": {},
     "output_type": "execute_result"
    }
   ],
   "source": [
    "svm_model = build_model(X_train, y_train, \"svm\")\n",
    "\n",
    "svm_model.score(X_test, y_test)"
   ]
  },
  {
   "cell_type": "code",
   "execution_count": 23,
   "metadata": {},
   "outputs": [],
   "source": [
    "y_pred = svm_model.predict(X_test)"
   ]
  },
  {
   "cell_type": "code",
   "execution_count": 24,
   "metadata": {},
   "outputs": [
    {
     "data": {
      "image/png": "[encoded data removed]",
      "text/plain": [
       "<Figure size 1200x700 with 1 Axes>"
      ]
     },
     "metadata": {},
     "output_type": "display_data"
    }
   ],
   "source": [
    "plot_prediction(y_test, y_pred)"
   ]
  },
  {
   "cell_type": "code",
   "execution_count": 25,
   "metadata": {},
   "outputs": [
    {
     "data": {
      "text/plain": [
       "0.879395482932122"
      ]
     },
     "execution_count": 25,
     "metadata": {},
     "output_type": "execute_result"
    }
   ],
   "source": [
    "randomforest_model = build_model(X_train, y_train, \"randomforest\")\n",
    "\n",
    "randomforest_model.score(X_test, y_test)"
   ]
  },
  {
   "cell_type": "code",
   "execution_count": 26,
   "metadata": {},
   "outputs": [
    {
     "data": {
      "image/png": "[encoded data removed]",
      "text/plain": [
       "<Figure size 1200x700 with 1 Axes>"
      ]
     },
     "metadata": {},
     "output_type": "display_data"
    }
   ],
   "source": [
    "y_pred = randomforest_model.predict(X_test)\n",
    "plot_prediction(y_test, y_pred)"
   ]
  },
  {
   "cell_type": "code",
   "execution_count": 27,
   "metadata": {},
   "outputs": [],
   "source": [
    "spesificModels = df[\"Model\"].unique()\n",
    "spesificModels.sort()\n"
   ]
  },
  {
   "cell_type": "code",
   "execution_count": 28,
   "metadata": {},
   "outputs": [
    {
     "data": {
      "application/vnd.jupyter.widget-view+json": {
       "model_id": "225b636500c34be5bdd0f57c262cdc74",
       "version_major": 2,
       "version_minor": 0
      },
      "text/plain": [
       "Dropdown(description='Araç Model:', options=('1.0 EcoTSI Ecomotive Style', '1.0 EcoTSI Style Visio', '1.0 TSI …"
      ]
     },
     "execution_count": 28,
     "metadata": {},
     "output_type": "execute_result"
    }
   ],
   "source": [
    "selectedModel = widgets.Dropdown(\n",
    "    options=spesificModels,\n",
    "    description='Araç Model:',\n",
    "    disabled=False,\n",
    ")\n",
    "selectedModel"
   ]
  },
  {
   "cell_type": "code",
   "execution_count": 30,
   "metadata": {},
   "outputs": [
    {
     "data": {
      "text/html": [
       "<div>\n",
       "<style scoped>\n",
       "    .dataframe tbody tr th:only-of-type {\n",
       "        vertical-align: middle;\n",
       "    }\n",
       "\n",
       "    .dataframe tbody tr th {\n",
       "        vertical-align: top;\n",
       "    }\n",
       "\n",
       "    .dataframe thead th {\n",
       "        text-align: right;\n",
       "    }\n",
       "</style>\n",
       "<table border=\"1\" class=\"dataframe\">\n",
       "  <thead>\n",
       "    <tr style=\"text-align: right;\">\n",
       "      <th></th>\n",
       "      <th>1.0 EcoTSI Ecomotive Style</th>\n",
       "      <th>1.0 EcoTSI Style Visio</th>\n",
       "      <th>1.0 TSI Style</th>\n",
       "      <th>1.0 eTSI Style Plus</th>\n",
       "      <th>1.2 TSI Style</th>\n",
       "      <th>1.4 EcoTSI FR</th>\n",
       "      <th>1.4 EcoTSI Xcellence</th>\n",
       "      <th>1.4 TSI Copa Plus</th>\n",
       "      <th>1.4 TSI FR</th>\n",
       "      <th>1.4 TSI SC FR</th>\n",
       "      <th>...</th>\n",
       "      <th>1.6 TDI Style</th>\n",
       "      <th>1.6 TDI X-Perience</th>\n",
       "      <th>1.6 TDI Xcellence</th>\n",
       "      <th>1.9 TDI Signo</th>\n",
       "      <th>1.9 TDI Sport</th>\n",
       "      <th>1.9 TDI Style</th>\n",
       "      <th>2.0 TDI CR FR</th>\n",
       "      <th>2.0 TDI Stylance</th>\n",
       "      <th>2.0 TFSI Cupra</th>\n",
       "      <th>2.0 TSI Cupra</th>\n",
       "    </tr>\n",
       "  </thead>\n",
       "  <tbody>\n",
       "    <tr>\n",
       "      <th>0</th>\n",
       "      <td>0</td>\n",
       "      <td>0</td>\n",
       "      <td>0</td>\n",
       "      <td>0</td>\n",
       "      <td>0</td>\n",
       "      <td>0</td>\n",
       "      <td>0</td>\n",
       "      <td>0</td>\n",
       "      <td>1</td>\n",
       "      <td>0</td>\n",
       "      <td>...</td>\n",
       "      <td>0</td>\n",
       "      <td>0</td>\n",
       "      <td>0</td>\n",
       "      <td>0</td>\n",
       "      <td>0</td>\n",
       "      <td>0</td>\n",
       "      <td>0</td>\n",
       "      <td>0</td>\n",
       "      <td>0</td>\n",
       "      <td>0</td>\n",
       "    </tr>\n",
       "  </tbody>\n",
       "</table>\n",
       "<p>1 rows × 39 columns</p>\n",
       "</div>"
      ],
      "text/plain": [
       "   1.0 EcoTSI Ecomotive Style  1.0 EcoTSI Style Visio  1.0 TSI Style  \\\n",
       "0                           0                       0              0   \n",
       "\n",
       "   1.0 eTSI Style Plus  1.2 TSI Style  1.4 EcoTSI FR  1.4 EcoTSI Xcellence  \\\n",
       "0                    0              0              0                     0   \n",
       "\n",
       "   1.4 TSI Copa Plus  1.4 TSI FR  1.4 TSI SC FR  ...  1.6 TDI Style  \\\n",
       "0                  0           1              0  ...              0   \n",
       "\n",
       "   1.6 TDI X-Perience  1.6 TDI Xcellence  1.9 TDI Signo  1.9 TDI Sport  \\\n",
       "0                   0                  0              0              0   \n",
       "\n",
       "   1.9 TDI Style  2.0 TDI CR FR  2.0 TDI Stylance  2.0 TFSI Cupra  \\\n",
       "0              0              0                 0               0   \n",
       "\n",
       "   2.0 TSI Cupra  \n",
       "0              0  \n",
       "\n",
       "[1 rows x 39 columns]"
      ]
     },
     "execution_count": 30,
     "metadata": {},
     "output_type": "execute_result"
    }
   ],
   "source": [
    "spesificModelsDF = pd.DataFrame(columns=spesificModels)\n",
    "spesificModelsDF.loc[0, selectedModel.value] = 1\n",
    "spesificModelsDF.fillna(0, inplace=True)\n",
    "spesificModelsDF"
   ]
  },
  {
   "cell_type": "code",
   "execution_count": 31,
   "metadata": {},
   "outputs": [
    {
     "data": {
      "application/vnd.jupyter.widget-view+json": {
       "model_id": "3652bae104134b9283bc241f0ab9bd24",
       "version_major": 2,
       "version_minor": 0
      },
      "text/plain": [
       "BoundedIntText(value=2022, description='Yıl:', max=2022, min=1950)"
      ]
     },
     "execution_count": 31,
     "metadata": {},
     "output_type": "execute_result"
    }
   ],
   "source": [
    "year = widgets.BoundedIntText(\n",
    "    value=2022,\n",
    "    min=1950,\n",
    "    max=2022,\n",
    "    step=1,\n",
    "    description='Yıl:',\n",
    "    disabled=False\n",
    ")\n",
    "year"
   ]
  },
  {
   "cell_type": "code",
   "execution_count": 32,
   "metadata": {},
   "outputs": [
    {
     "data": {
      "application/vnd.jupyter.widget-view+json": {
       "model_id": "e4fcad13dc9740a984be37554ee76157",
       "version_major": 2,
       "version_minor": 0
      },
      "text/plain": [
       "IntSlider(value=0, continuous_update=False, description='Kilometre:', max=1000000, step=1000)"
      ]
     },
     "execution_count": 32,
     "metadata": {},
     "output_type": "execute_result"
    }
   ],
   "source": [
    "km = widgets.IntSlider(\n",
    "    value=0,\n",
    "    min=0,\n",
    "    max=1000000,\n",
    "    step=1000,\n",
    "    description='Kilometre:',\n",
    "    disabled=False,\n",
    "    continuous_update=False,\n",
    "    orientation='horizontal',\n",
    "    readout=True,\n",
    "    readout_format='d'\n",
    ")\n",
    "km"
   ]
  },
  {
   "cell_type": "code",
   "execution_count": 33,
   "metadata": {},
   "outputs": [
    {
     "name": "stdout",
     "output_type": "stream",
     "text": [
      "[818605.18002794]\n"
     ]
    },
    {
     "name": "stderr",
     "output_type": "stream",
     "text": [
      "/Applications/anaconda3/envs/390/lib/python3.9/site-packages/sklearn/base.py:450: UserWarning: X does not have valid feature names, but LinearRegression was fitted with feature names\n",
      "  warnings.warn(\n"
     ]
    }
   ],
   "source": [
    "print(linear_model.predict([[year.value, km.value, *spesificModelsDF.values[0]]]))"
   ]
  },
  {
   "attachments": {},
   "cell_type": "markdown",
   "metadata": {},
   "source": [
    "## Interactive Playground\n",
    "\n",
    "You can use the widgets below to make predictions."
   ]
  },
  {
   "cell_type": "code",
   "execution_count": 34,
   "metadata": {},
   "outputs": [
    {
     "data": {
      "application/vnd.jupyter.widget-view+json": {
       "model_id": "fa7a49e8a3864e91ac3836db407b0dda",
       "version_major": 2,
       "version_minor": 0
      },
      "text/plain": [
       "interactive(children=(Dropdown(description='ml_model', options=('linear', 'svm', 'randomforest'), value='linea…"
      ]
     },
     "metadata": {},
     "output_type": "display_data"
    }
   ],
   "source": [
    "ml_model = [\"linear\", \"svm\", \"randomforest\"]\n",
    "\n",
    "@interact(ml_model = ml_model, year=year, km=km, model_name=selectedModel)\n",
    "def predict_price(ml_model, year, km, model_name):\n",
    "    print(\"Price prediction for {} - {}\".format(chosenBrand.value, chosenModel.value))\n",
    "\n",
    "    spesificModelsDF = pd.DataFrame(columns=spesificModels)\n",
    "    spesificModelsDF.loc[0, model_name] = 1\n",
    "    spesificModelsDF.fillna(0, inplace=True)\n",
    "    if ml_model == \"linear\":\n",
    "        price = linear_model.predict([[year, km, *spesificModelsDF.values[0]]])\n",
    "        print(\"Predicted price: {} TL\".format(price[0].round(2)))\n",
    "    elif ml_model == \"svm\":\n",
    "        price = svm_model.predict([[year, km, *spesificModelsDF.values[0]]])\n",
    "        print(\"Predicted price: {} TL\".format(price[0].round(2)))\n",
    "    elif ml_model == \"randomforest\":\n",
    "        price = randomforest_model.predict([[year, km, *spesificModelsDF.values[0]]])\n",
    "        print(\"Predicted price: {} TL\".format(price[0].round(2)))\n",
    "    "
   ]
  }
 ],
 "metadata": {
  "kernelspec": {
   "display_name": "390",
   "language": "python",
   "name": "python3"
  },
  "language_info": {
   "codemirror_mode": {
    "name": "ipython",
    "version": 3
   },
   "file_extension": ".py",
   "mimetype": "text/x-python",
   "name": "python",
   "nbconvert_exporter": "python",
   "pygments_lexer": "ipython3",
   "version": "3.9.15"
  },
  "orig_nbformat": 4,
  "vscode": {
   "interpreter": {
    "hash": "038af012bee817a7406d81458cf7b1e2c37e50f3e3447a7af72b20f8ea641e45"
   }
  }
 },
 "nbformat": 4,
 "nbformat_minor": 2
}
