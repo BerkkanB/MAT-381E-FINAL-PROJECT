{
 "cells": [
  {
   "cell_type": "code",
   "execution_count": 157,
   "metadata": {},
   "outputs": [],
   "source": [
    "from bs4 import BeautifulSoup\n",
    "import requests\n",
    "from slugify import slugify\n",
    "import pandas as pd\n",
    "from sklearn.linear_model import LinearRegression\n",
    "from sklearn.model_selection import train_test_split\n",
    "from sklearn.preprocessing import OneHotEncoder\n",
    "import numpy as np\n",
    "\n",
    "import ipywidgets as widgets\n",
    "from sklearn.svm import SVR\n",
    "from sklearn.ensemble import RandomForestRegressor\n",
    "import matplotlib.pyplot as plt\n"
   ]
  },
  {
   "cell_type": "code",
   "execution_count": 158,
   "metadata": {},
   "outputs": [],
   "source": [
    "BASE_URL = \"https://www.sahibinden.com/\""
   ]
  },
  {
   "cell_type": "code",
   "execution_count": 159,
   "metadata": {},
   "outputs": [],
   "source": [
    "def get_html(url):\n",
    "    response = requests.get(url, headers={\"User-Agent\": \"Mozilla/5.0\",\"accept\": \"text/html,application/xhtml+xml,application/xml;q=0.9,image/webp,image/apng,*/*;q=0.8,application/signed-exchange;v=b3;q=0.9\"})\n",
    "    return response.content\n",
    "base_page = get_html(\"{}{}\".format(BASE_URL,\"otomobil\"))"
   ]
  },
  {
   "cell_type": "code",
   "execution_count": 160,
   "metadata": {},
   "outputs": [],
   "source": [
    "soup = BeautifulSoup(base_page, \"html.parser\")"
   ]
  },
  {
   "cell_type": "code",
   "execution_count": 161,
   "metadata": {},
   "outputs": [],
   "source": [
    "brands = soup.find_all(\"li\", {\"class\": \"cl2\"})"
   ]
  },
  {
   "cell_type": "code",
   "execution_count": 162,
   "metadata": {},
   "outputs": [],
   "source": [
    "def clear_raw_data(data):\n",
    "    dataList = []\n",
    "    for tag in data:\n",
    "        brand = tag.text.strip().split(\"(\")[0].strip() \n",
    "        brand = slugify(brand)\n",
    "\n",
    "        dataList.append(brand)\n",
    "    return dataList\n",
    "\n",
    "    "
   ]
  },
  {
   "cell_type": "code",
   "execution_count": 163,
   "metadata": {},
   "outputs": [],
   "source": [
    "brandList = clear_raw_data(brands)"
   ]
  },
  {
   "cell_type": "code",
   "execution_count": 164,
   "metadata": {},
   "outputs": [
    {
     "data": {
      "application/vnd.jupyter.widget-view+json": {
       "model_id": "3af386d2fdeb4a1189bee8f9f65d0d26",
       "version_major": 2,
       "version_minor": 0
      },
      "text/plain": [
       "Dropdown(description='Brand:', options=('acura', 'aion', 'alfa-romeo', 'anadol', 'aston-martin', 'audi', 'bent…"
      ]
     },
     "metadata": {},
     "output_type": "display_data"
    }
   ],
   "source": [
    "chosenBrand = widgets.Dropdown(\n",
    "    options=brandList,\n",
    "    description='Brand:',\n",
    "    disabled=False,\n",
    ")\n",
    "chosenBrand"
   ]
  },
  {
   "cell_type": "code",
   "execution_count": 165,
   "metadata": {},
   "outputs": [],
   "source": [
    "MODELS_URL = BASE_URL + chosenBrand.value"
   ]
  },
  {
   "cell_type": "code",
   "execution_count": 166,
   "metadata": {},
   "outputs": [],
   "source": [
    "modelsPage = get_html(MODELS_URL)"
   ]
  },
  {
   "cell_type": "code",
   "execution_count": 167,
   "metadata": {},
   "outputs": [],
   "source": [
    "models = BeautifulSoup(modelsPage, \"html.parser\")\n",
    "models = models.find_all(\"li\", {\"class\": \"cl3\"})\n",
    "models = clear_raw_data(models)\n",
    "models = np.unique(models)"
   ]
  },
  {
   "cell_type": "code",
   "execution_count": 168,
   "metadata": {},
   "outputs": [
    {
     "name": "stderr",
     "output_type": "stream",
     "text": [
      "/Users/berkkan/opt/anaconda3/lib/python3.9/site-packages/traitlets/traitlets.py:588: FutureWarning: elementwise comparison failed; returning scalar instead, but in the future will perform elementwise comparison\n",
      "  silent = bool(old_value == new_value)\n"
     ]
    },
    {
     "data": {
      "application/vnd.jupyter.widget-view+json": {
       "model_id": "5353c126aca04fcb9ad678d8dfed0960",
       "version_major": 2,
       "version_minor": 0
      },
      "text/plain": [
       "Dropdown(description='Number:', options=('145', '146', '147', '155', '156', '159', '164', '166', '33', 'brera'…"
      ]
     },
     "metadata": {},
     "output_type": "display_data"
    }
   ],
   "source": [
    "chosenModel = widgets.Dropdown(\n",
    "    options=models,\n",
    "    description='Number:',\n",
    "    disabled=False,\n",
    ")\n",
    "chosenModel"
   ]
  },
  {
   "cell_type": "code",
   "execution_count": 174,
   "metadata": {},
   "outputs": [],
   "source": [
    "def clean_sahibinden_table(table):\n",
    "    usefulContentDF = table.dropna(axis=0, how=\"all\")\n",
    "    usefulContentDF = usefulContentDF[[\"Yıl\", \"KM\", \"Fiyat\",\"Model\"]]\n",
    "    usefulContentDF['KM'] = (usefulContentDF['KM']*1000).astype(int)\n",
    "    usefulContentDF['Fiyat'] = usefulContentDF['Fiyat'].str.replace(\" TL\", \"\")\n",
    "    usefulContentDF['Fiyat'] = usefulContentDF['Fiyat'].str.replace(\".\", \"\").astype(int)\n",
    "    return usefulContentDF"
   ]
  },
  {
   "cell_type": "code",
   "execution_count": 179,
   "metadata": {},
   "outputs": [],
   "source": [
    "df = pd.DataFrame(columns=[\"Yıl\", \"KM\", \"Fiyat\",\"Model\"], dtype=int)"
   ]
  },
  {
   "cell_type": "code",
   "execution_count": 180,
   "metadata": {},
   "outputs": [
    {
     "name": "stdout",
     "output_type": "stream",
     "text": [
      "0\n"
     ]
    },
    {
     "name": "stderr",
     "output_type": "stream",
     "text": [
      "/var/folders/7k/r54zsyhd639_44dxvy8hkzj40000gn/T/ipykernel_1153/2924686753.py:10: FutureWarning: The frame.append method is deprecated and will be removed from pandas in a future version. Use pandas.concat instead.\n",
      "  df = df.append(contentDF, ignore_index=True)\n"
     ]
    },
    {
     "name": "stdout",
     "output_type": "stream",
     "text": [
      "50\n"
     ]
    },
    {
     "name": "stderr",
     "output_type": "stream",
     "text": [
      "/var/folders/7k/r54zsyhd639_44dxvy8hkzj40000gn/T/ipykernel_1153/2924686753.py:10: FutureWarning: The frame.append method is deprecated and will be removed from pandas in a future version. Use pandas.concat instead.\n",
      "  df = df.append(contentDF, ignore_index=True)\n"
     ]
    },
    {
     "name": "stdout",
     "output_type": "stream",
     "text": [
      "100\n"
     ]
    },
    {
     "ename": "ImportError",
     "evalue": "html5lib not found, please install it",
     "output_type": "error",
     "traceback": [
      "\u001b[0;31m---------------------------------------------------------------------------\u001b[0m",
      "\u001b[0;31mImportError\u001b[0m                               Traceback (most recent call last)",
      "\u001b[1;32m/Users/berkkan/Repos/MAT381E-FINAL/final.ipynb Hücre 15\u001b[0m in \u001b[0;36m<cell line: 1>\u001b[0;34m()\u001b[0m\n\u001b[1;32m      <a href='vscode-notebook-cell:/Users/berkkan/Repos/MAT381E-FINAL/final.ipynb#X22sZmlsZQ%3D%3D?line=6'>7</a>\u001b[0m     content \u001b[39m=\u001b[39m BeautifulSoup(content, \u001b[39m\"\u001b[39m\u001b[39mhtml.parser\u001b[39m\u001b[39m\"\u001b[39m)\n\u001b[1;32m      <a href='vscode-notebook-cell:/Users/berkkan/Repos/MAT381E-FINAL/final.ipynb#X22sZmlsZQ%3D%3D?line=7'>8</a>\u001b[0m     content \u001b[39m=\u001b[39m content\u001b[39m.\u001b[39mfind(\u001b[39m\"\u001b[39m\u001b[39mtable\u001b[39m\u001b[39m\"\u001b[39m, {\u001b[39m\"\u001b[39m\u001b[39mid\u001b[39m\u001b[39m\"\u001b[39m: \u001b[39m\"\u001b[39m\u001b[39msearchResultsTable\u001b[39m\u001b[39m\"\u001b[39m})\n\u001b[0;32m----> <a href='vscode-notebook-cell:/Users/berkkan/Repos/MAT381E-FINAL/final.ipynb#X22sZmlsZQ%3D%3D?line=8'>9</a>\u001b[0m     contentDF \u001b[39m=\u001b[39m pd\u001b[39m.\u001b[39;49mread_html(\u001b[39mstr\u001b[39;49m(content))[\u001b[39m0\u001b[39m]\n\u001b[1;32m     <a href='vscode-notebook-cell:/Users/berkkan/Repos/MAT381E-FINAL/final.ipynb#X22sZmlsZQ%3D%3D?line=9'>10</a>\u001b[0m     df \u001b[39m=\u001b[39m df\u001b[39m.\u001b[39mappend(contentDF, ignore_index\u001b[39m=\u001b[39m\u001b[39mTrue\u001b[39;00m)\n\u001b[1;32m     <a href='vscode-notebook-cell:/Users/berkkan/Repos/MAT381E-FINAL/final.ipynb#X22sZmlsZQ%3D%3D?line=12'>13</a>\u001b[0m df\n",
      "File \u001b[0;32m~/opt/anaconda3/lib/python3.9/site-packages/pandas/util/_decorators.py:311\u001b[0m, in \u001b[0;36mdeprecate_nonkeyword_arguments.<locals>.decorate.<locals>.wrapper\u001b[0;34m(*args, **kwargs)\u001b[0m\n\u001b[1;32m    305\u001b[0m \u001b[39mif\u001b[39;00m \u001b[39mlen\u001b[39m(args) \u001b[39m>\u001b[39m num_allow_args:\n\u001b[1;32m    306\u001b[0m     warnings\u001b[39m.\u001b[39mwarn(\n\u001b[1;32m    307\u001b[0m         msg\u001b[39m.\u001b[39mformat(arguments\u001b[39m=\u001b[39marguments),\n\u001b[1;32m    308\u001b[0m         \u001b[39mFutureWarning\u001b[39;00m,\n\u001b[1;32m    309\u001b[0m         stacklevel\u001b[39m=\u001b[39mstacklevel,\n\u001b[1;32m    310\u001b[0m     )\n\u001b[0;32m--> 311\u001b[0m \u001b[39mreturn\u001b[39;00m func(\u001b[39m*\u001b[39;49margs, \u001b[39m*\u001b[39;49m\u001b[39m*\u001b[39;49mkwargs)\n",
      "File \u001b[0;32m~/opt/anaconda3/lib/python3.9/site-packages/pandas/io/html.py:1113\u001b[0m, in \u001b[0;36mread_html\u001b[0;34m(io, match, flavor, header, index_col, skiprows, attrs, parse_dates, thousands, encoding, decimal, converters, na_values, keep_default_na, displayed_only)\u001b[0m\n\u001b[1;32m   1109\u001b[0m validate_header_arg(header)\n\u001b[1;32m   1111\u001b[0m io \u001b[39m=\u001b[39m stringify_path(io)\n\u001b[0;32m-> 1113\u001b[0m \u001b[39mreturn\u001b[39;00m _parse(\n\u001b[1;32m   1114\u001b[0m     flavor\u001b[39m=\u001b[39;49mflavor,\n\u001b[1;32m   1115\u001b[0m     io\u001b[39m=\u001b[39;49mio,\n\u001b[1;32m   1116\u001b[0m     match\u001b[39m=\u001b[39;49mmatch,\n\u001b[1;32m   1117\u001b[0m     header\u001b[39m=\u001b[39;49mheader,\n\u001b[1;32m   1118\u001b[0m     index_col\u001b[39m=\u001b[39;49mindex_col,\n\u001b[1;32m   1119\u001b[0m     skiprows\u001b[39m=\u001b[39;49mskiprows,\n\u001b[1;32m   1120\u001b[0m     parse_dates\u001b[39m=\u001b[39;49mparse_dates,\n\u001b[1;32m   1121\u001b[0m     thousands\u001b[39m=\u001b[39;49mthousands,\n\u001b[1;32m   1122\u001b[0m     attrs\u001b[39m=\u001b[39;49mattrs,\n\u001b[1;32m   1123\u001b[0m     encoding\u001b[39m=\u001b[39;49mencoding,\n\u001b[1;32m   1124\u001b[0m     decimal\u001b[39m=\u001b[39;49mdecimal,\n\u001b[1;32m   1125\u001b[0m     converters\u001b[39m=\u001b[39;49mconverters,\n\u001b[1;32m   1126\u001b[0m     na_values\u001b[39m=\u001b[39;49mna_values,\n\u001b[1;32m   1127\u001b[0m     keep_default_na\u001b[39m=\u001b[39;49mkeep_default_na,\n\u001b[1;32m   1128\u001b[0m     displayed_only\u001b[39m=\u001b[39;49mdisplayed_only,\n\u001b[1;32m   1129\u001b[0m )\n",
      "File \u001b[0;32m~/opt/anaconda3/lib/python3.9/site-packages/pandas/io/html.py:915\u001b[0m, in \u001b[0;36m_parse\u001b[0;34m(flavor, io, match, attrs, encoding, displayed_only, **kwargs)\u001b[0m\n\u001b[1;32m    913\u001b[0m retained \u001b[39m=\u001b[39m \u001b[39mNone\u001b[39;00m\n\u001b[1;32m    914\u001b[0m \u001b[39mfor\u001b[39;00m flav \u001b[39min\u001b[39;00m flavor:\n\u001b[0;32m--> 915\u001b[0m     parser \u001b[39m=\u001b[39m _parser_dispatch(flav)\n\u001b[1;32m    916\u001b[0m     p \u001b[39m=\u001b[39m parser(io, compiled_match, attrs, encoding, displayed_only)\n\u001b[1;32m    918\u001b[0m     \u001b[39mtry\u001b[39;00m:\n",
      "File \u001b[0;32m~/opt/anaconda3/lib/python3.9/site-packages/pandas/io/html.py:864\u001b[0m, in \u001b[0;36m_parser_dispatch\u001b[0;34m(flavor)\u001b[0m\n\u001b[1;32m    862\u001b[0m \u001b[39mif\u001b[39;00m flavor \u001b[39min\u001b[39;00m (\u001b[39m\"\u001b[39m\u001b[39mbs4\u001b[39m\u001b[39m\"\u001b[39m, \u001b[39m\"\u001b[39m\u001b[39mhtml5lib\u001b[39m\u001b[39m\"\u001b[39m):\n\u001b[1;32m    863\u001b[0m     \u001b[39mif\u001b[39;00m \u001b[39mnot\u001b[39;00m _HAS_HTML5LIB:\n\u001b[0;32m--> 864\u001b[0m         \u001b[39mraise\u001b[39;00m \u001b[39mImportError\u001b[39;00m(\u001b[39m\"\u001b[39m\u001b[39mhtml5lib not found, please install it\u001b[39m\u001b[39m\"\u001b[39m)\n\u001b[1;32m    865\u001b[0m     \u001b[39mif\u001b[39;00m \u001b[39mnot\u001b[39;00m _HAS_BS4:\n\u001b[1;32m    866\u001b[0m         \u001b[39mraise\u001b[39;00m \u001b[39mImportError\u001b[39;00m(\u001b[39m\"\u001b[39m\u001b[39mBeautifulSoup4 (bs4) not found, please install it\u001b[39m\u001b[39m\"\u001b[39m)\n",
      "\u001b[0;31mImportError\u001b[0m: html5lib not found, please install it"
     ]
    }
   ],
   "source": [
    "for offset in range(0, 700, 50):\n",
    "    print(offset)\n",
    "    QUERY_PARAM = \"?pagingOffset={}&pagingSize=50&sorting=date_desc\".format(offset)\n",
    "    QUERY_URL = MODELS_URL + \"-\" + chosenModel.value + QUERY_PARAM\n",
    "\n",
    "    content = get_html(QUERY_URL)\n",
    "    content = BeautifulSoup(content, \"html.parser\")\n",
    "    content = content.find(\"table\", {\"id\": \"searchResultsTable\"})\n",
    "    contentDF = pd.read_html(str(content))[0]\n",
    "    df = df.append(contentDF, ignore_index=True)\n",
    "\n",
    "    \n",
    "df\n"
   ]
  },
  {
   "cell_type": "code",
   "execution_count": 182,
   "metadata": {},
   "outputs": [
    {
     "data": {
      "text/html": [
       "<div>\n",
       "<style scoped>\n",
       "    .dataframe tbody tr th:only-of-type {\n",
       "        vertical-align: middle;\n",
       "    }\n",
       "\n",
       "    .dataframe tbody tr th {\n",
       "        vertical-align: top;\n",
       "    }\n",
       "\n",
       "    .dataframe thead th {\n",
       "        text-align: right;\n",
       "    }\n",
       "</style>\n",
       "<table border=\"1\" class=\"dataframe\">\n",
       "  <thead>\n",
       "    <tr style=\"text-align: right;\">\n",
       "      <th></th>\n",
       "      <th>Yıl</th>\n",
       "      <th>KM</th>\n",
       "      <th>Fiyat</th>\n",
       "      <th>Model</th>\n",
       "      <th>Unnamed: 0</th>\n",
       "      <th>İlan Başlığı</th>\n",
       "      <th>Renk</th>\n",
       "      <th>İlan Tarihi</th>\n",
       "      <th>İl / İlçe</th>\n",
       "      <th>Unnamed: 9</th>\n",
       "    </tr>\n",
       "  </thead>\n",
       "  <tbody>\n",
       "    <tr>\n",
       "      <th>0</th>\n",
       "      <td>2007.0</td>\n",
       "      <td>316.0</td>\n",
       "      <td>347.500 TL</td>\n",
       "      <td>2.4 JTD Distinctive</td>\n",
       "      <td>NaN</td>\n",
       "      <td>HIZ TUTKUSU OLANLARA ÖZEL YER UÇAĞI</td>\n",
       "      <td>Siyah</td>\n",
       "      <td>26 Aralık 2022</td>\n",
       "      <td>KocaeliKörfez</td>\n",
       "      <td>NaN</td>\n",
       "    </tr>\n",
       "    <tr>\n",
       "      <th>1</th>\n",
       "      <td>2009.0</td>\n",
       "      <td>242.0</td>\n",
       "      <td>315.000 TL</td>\n",
       "      <td>1.8 Distinctive</td>\n",
       "      <td>NaN</td>\n",
       "      <td>Türkiyedeki en temiz sunroof'lu 1.8 MPİ</td>\n",
       "      <td>Siyah</td>\n",
       "      <td>25 Aralık 2022</td>\n",
       "      <td>İstanbulPendik</td>\n",
       "      <td>NaN</td>\n",
       "    </tr>\n",
       "    <tr>\n",
       "      <th>2</th>\n",
       "      <td>2011.0</td>\n",
       "      <td>185.0</td>\n",
       "      <td>500.500 TL</td>\n",
       "      <td>1.9 JTD Distinctive Plus</td>\n",
       "      <td>NaN</td>\n",
       "      <td>ERK AUTO RUHUMUZ OLMADAN SADECE BIRER MAKINEYI...</td>\n",
       "      <td>Beyaz</td>\n",
       "      <td>25 Aralık 2022</td>\n",
       "      <td>AnkaraYenimahalle</td>\n",
       "      <td>NaN</td>\n",
       "    </tr>\n",
       "    <tr>\n",
       "      <th>3</th>\n",
       "      <td>NaN</td>\n",
       "      <td>NaN</td>\n",
       "      <td>NaN</td>\n",
       "      <td>NaN</td>\n",
       "      <td>NaN</td>\n",
       "      <td>NaN</td>\n",
       "      <td>NaN</td>\n",
       "      <td>NaN</td>\n",
       "      <td>NaN</td>\n",
       "      <td>NaN</td>\n",
       "    </tr>\n",
       "    <tr>\n",
       "      <th>4</th>\n",
       "      <td>2006.0</td>\n",
       "      <td>127.0</td>\n",
       "      <td>315.000 TL</td>\n",
       "      <td>1.9 JTS Distinctive</td>\n",
       "      <td>NaN</td>\n",
       "      <td>VELOCE'DEN EMSALSİZ TEMİZLİKTE ORJİNAL 127.000...</td>\n",
       "      <td>Gümüş Gri</td>\n",
       "      <td>24 Aralık 2022</td>\n",
       "      <td>İstanbulKadıköy</td>\n",
       "      <td>NaN</td>\n",
       "    </tr>\n",
       "    <tr>\n",
       "      <th>...</th>\n",
       "      <td>...</td>\n",
       "      <td>...</td>\n",
       "      <td>...</td>\n",
       "      <td>...</td>\n",
       "      <td>...</td>\n",
       "      <td>...</td>\n",
       "      <td>...</td>\n",
       "      <td>...</td>\n",
       "      <td>...</td>\n",
       "      <td>...</td>\n",
       "    </tr>\n",
       "    <tr>\n",
       "      <th>68</th>\n",
       "      <td>2007.0</td>\n",
       "      <td>292.0</td>\n",
       "      <td>284.000 TL</td>\n",
       "      <td>1.9 JTD Distinctive Plus</td>\n",
       "      <td>NaN</td>\n",
       "      <td>2007 ALFA 159 Distincive Plus Q-Tronic +DERİ K...</td>\n",
       "      <td>Siyah</td>\n",
       "      <td>27 Kasım 2022</td>\n",
       "      <td>KütahyaMerkez</td>\n",
       "      <td>NaN</td>\n",
       "    </tr>\n",
       "    <tr>\n",
       "      <th>69</th>\n",
       "      <td>2008.0</td>\n",
       "      <td>249.0</td>\n",
       "      <td>330.500 TL</td>\n",
       "      <td>1.9 JTD Distinctive Plus</td>\n",
       "      <td>NaN</td>\n",
       "      <td>Masrafsız 150 hp 1.9 JTD Sahibinden Bol Ekstra...</td>\n",
       "      <td>Gri</td>\n",
       "      <td>26 Kasım 2022</td>\n",
       "      <td>İzmirDikili</td>\n",
       "      <td>NaN</td>\n",
       "    </tr>\n",
       "    <tr>\n",
       "      <th>70</th>\n",
       "      <td>2010.0</td>\n",
       "      <td>385.0</td>\n",
       "      <td>375.000 TL</td>\n",
       "      <td>1.9 JTD Distinctive Plus</td>\n",
       "      <td>NaN</td>\n",
       "      <td>TATOĞLU OTOMOTİV'DEN ALFA ROMEO</td>\n",
       "      <td>Beyaz</td>\n",
       "      <td>26 Kasım 2022</td>\n",
       "      <td>KocaeliGebze</td>\n",
       "      <td>NaN</td>\n",
       "    </tr>\n",
       "    <tr>\n",
       "      <th>71</th>\n",
       "      <td>2009.0</td>\n",
       "      <td>300.0</td>\n",
       "      <td>325.000 TL</td>\n",
       "      <td>1.9 JTD Distinctive Plus</td>\n",
       "      <td>NaN</td>\n",
       "      <td>2009 MODEL ALFA ROMEO 159 DİZEL OTOMATİK SUNRU...</td>\n",
       "      <td>Siyah</td>\n",
       "      <td>26 Kasım 2022</td>\n",
       "      <td>NevşehirMerkez</td>\n",
       "      <td>NaN</td>\n",
       "    </tr>\n",
       "    <tr>\n",
       "      <th>72</th>\n",
       "      <td>2007.0</td>\n",
       "      <td>260.0</td>\n",
       "      <td>425.000 TL</td>\n",
       "      <td>1.9 JTD Distinctive Plus</td>\n",
       "      <td>NaN</td>\n",
       "      <td>TÜM BAKIMLARI DÜZENLİ OLARAK YAPILAN ALFA ROME...</td>\n",
       "      <td>Gri</td>\n",
       "      <td>26 Kasım 2022</td>\n",
       "      <td>İstanbulKadıköy</td>\n",
       "      <td>NaN</td>\n",
       "    </tr>\n",
       "  </tbody>\n",
       "</table>\n",
       "<p>73 rows × 10 columns</p>\n",
       "</div>"
      ],
      "text/plain": [
       "       Yıl     KM       Fiyat                     Model  Unnamed: 0  \\\n",
       "0   2007.0  316.0  347.500 TL       2.4 JTD Distinctive         NaN   \n",
       "1   2009.0  242.0  315.000 TL           1.8 Distinctive         NaN   \n",
       "2   2011.0  185.0  500.500 TL  1.9 JTD Distinctive Plus         NaN   \n",
       "3      NaN    NaN         NaN                       NaN         NaN   \n",
       "4   2006.0  127.0  315.000 TL       1.9 JTS Distinctive         NaN   \n",
       "..     ...    ...         ...                       ...         ...   \n",
       "68  2007.0  292.0  284.000 TL  1.9 JTD Distinctive Plus         NaN   \n",
       "69  2008.0  249.0  330.500 TL  1.9 JTD Distinctive Plus         NaN   \n",
       "70  2010.0  385.0  375.000 TL  1.9 JTD Distinctive Plus         NaN   \n",
       "71  2009.0  300.0  325.000 TL  1.9 JTD Distinctive Plus         NaN   \n",
       "72  2007.0  260.0  425.000 TL  1.9 JTD Distinctive Plus         NaN   \n",
       "\n",
       "                                         İlan Başlığı       Renk  \\\n",
       "0                 HIZ TUTKUSU OLANLARA ÖZEL YER UÇAĞI      Siyah   \n",
       "1             Türkiyedeki en temiz sunroof'lu 1.8 MPİ      Siyah   \n",
       "2   ERK AUTO RUHUMUZ OLMADAN SADECE BIRER MAKINEYI...      Beyaz   \n",
       "3                                                 NaN        NaN   \n",
       "4   VELOCE'DEN EMSALSİZ TEMİZLİKTE ORJİNAL 127.000...  Gümüş Gri   \n",
       "..                                                ...        ...   \n",
       "68  2007 ALFA 159 Distincive Plus Q-Tronic +DERİ K...      Siyah   \n",
       "69  Masrafsız 150 hp 1.9 JTD Sahibinden Bol Ekstra...        Gri   \n",
       "70                    TATOĞLU OTOMOTİV'DEN ALFA ROMEO      Beyaz   \n",
       "71  2009 MODEL ALFA ROMEO 159 DİZEL OTOMATİK SUNRU...      Siyah   \n",
       "72  TÜM BAKIMLARI DÜZENLİ OLARAK YAPILAN ALFA ROME...        Gri   \n",
       "\n",
       "       İlan Tarihi          İl / İlçe  Unnamed: 9  \n",
       "0   26 Aralık 2022      KocaeliKörfez         NaN  \n",
       "1   25 Aralık 2022     İstanbulPendik         NaN  \n",
       "2   25 Aralık 2022  AnkaraYenimahalle         NaN  \n",
       "3              NaN                NaN         NaN  \n",
       "4   24 Aralık 2022    İstanbulKadıköy         NaN  \n",
       "..             ...                ...         ...  \n",
       "68   27 Kasım 2022      KütahyaMerkez         NaN  \n",
       "69   26 Kasım 2022        İzmirDikili         NaN  \n",
       "70   26 Kasım 2022       KocaeliGebze         NaN  \n",
       "71   26 Kasım 2022     NevşehirMerkez         NaN  \n",
       "72   26 Kasım 2022    İstanbulKadıköy         NaN  \n",
       "\n",
       "[73 rows x 10 columns]"
      ]
     },
     "execution_count": 182,
     "metadata": {},
     "output_type": "execute_result"
    }
   ],
   "source": [
    "df"
   ]
  },
  {
   "cell_type": "code",
   "execution_count": 183,
   "metadata": {},
   "outputs": [
    {
     "name": "stderr",
     "output_type": "stream",
     "text": [
      "/var/folders/7k/r54zsyhd639_44dxvy8hkzj40000gn/T/ipykernel_1153/3113079336.py:6: FutureWarning: The default value of regex will change from True to False in a future version. In addition, single character regular expressions will *not* be treated as literal strings when regex=True.\n",
      "  usefulContentDF['Fiyat'] = usefulContentDF['Fiyat'].str.replace(\".\", \"\").astype(int)\n"
     ]
    },
    {
     "data": {
      "text/html": [
       "<div>\n",
       "<style scoped>\n",
       "    .dataframe tbody tr th:only-of-type {\n",
       "        vertical-align: middle;\n",
       "    }\n",
       "\n",
       "    .dataframe tbody tr th {\n",
       "        vertical-align: top;\n",
       "    }\n",
       "\n",
       "    .dataframe thead th {\n",
       "        text-align: right;\n",
       "    }\n",
       "</style>\n",
       "<table border=\"1\" class=\"dataframe\">\n",
       "  <thead>\n",
       "    <tr style=\"text-align: right;\">\n",
       "      <th></th>\n",
       "      <th>Yıl</th>\n",
       "      <th>KM</th>\n",
       "      <th>Fiyat</th>\n",
       "      <th>Model</th>\n",
       "    </tr>\n",
       "  </thead>\n",
       "  <tbody>\n",
       "    <tr>\n",
       "      <th>0</th>\n",
       "      <td>2007.0</td>\n",
       "      <td>316000</td>\n",
       "      <td>347500</td>\n",
       "      <td>2.4 JTD Distinctive</td>\n",
       "    </tr>\n",
       "    <tr>\n",
       "      <th>1</th>\n",
       "      <td>2009.0</td>\n",
       "      <td>242000</td>\n",
       "      <td>315000</td>\n",
       "      <td>1.8 Distinctive</td>\n",
       "    </tr>\n",
       "    <tr>\n",
       "      <th>2</th>\n",
       "      <td>2011.0</td>\n",
       "      <td>185000</td>\n",
       "      <td>500500</td>\n",
       "      <td>1.9 JTD Distinctive Plus</td>\n",
       "    </tr>\n",
       "    <tr>\n",
       "      <th>4</th>\n",
       "      <td>2006.0</td>\n",
       "      <td>127000</td>\n",
       "      <td>315000</td>\n",
       "      <td>1.9 JTS Distinctive</td>\n",
       "    </tr>\n",
       "    <tr>\n",
       "      <th>5</th>\n",
       "      <td>2008.0</td>\n",
       "      <td>287000</td>\n",
       "      <td>305000</td>\n",
       "      <td>1.9 JTD Distinctive</td>\n",
       "    </tr>\n",
       "    <tr>\n",
       "      <th>...</th>\n",
       "      <td>...</td>\n",
       "      <td>...</td>\n",
       "      <td>...</td>\n",
       "      <td>...</td>\n",
       "    </tr>\n",
       "    <tr>\n",
       "      <th>68</th>\n",
       "      <td>2007.0</td>\n",
       "      <td>292000</td>\n",
       "      <td>284000</td>\n",
       "      <td>1.9 JTD Distinctive Plus</td>\n",
       "    </tr>\n",
       "    <tr>\n",
       "      <th>69</th>\n",
       "      <td>2008.0</td>\n",
       "      <td>249000</td>\n",
       "      <td>330500</td>\n",
       "      <td>1.9 JTD Distinctive Plus</td>\n",
       "    </tr>\n",
       "    <tr>\n",
       "      <th>70</th>\n",
       "      <td>2010.0</td>\n",
       "      <td>385000</td>\n",
       "      <td>375000</td>\n",
       "      <td>1.9 JTD Distinctive Plus</td>\n",
       "    </tr>\n",
       "    <tr>\n",
       "      <th>71</th>\n",
       "      <td>2009.0</td>\n",
       "      <td>300000</td>\n",
       "      <td>325000</td>\n",
       "      <td>1.9 JTD Distinctive Plus</td>\n",
       "    </tr>\n",
       "    <tr>\n",
       "      <th>72</th>\n",
       "      <td>2007.0</td>\n",
       "      <td>260000</td>\n",
       "      <td>425000</td>\n",
       "      <td>1.9 JTD Distinctive Plus</td>\n",
       "    </tr>\n",
       "  </tbody>\n",
       "</table>\n",
       "<p>71 rows × 4 columns</p>\n",
       "</div>"
      ],
      "text/plain": [
       "       Yıl      KM   Fiyat                     Model\n",
       "0   2007.0  316000  347500       2.4 JTD Distinctive\n",
       "1   2009.0  242000  315000           1.8 Distinctive\n",
       "2   2011.0  185000  500500  1.9 JTD Distinctive Plus\n",
       "4   2006.0  127000  315000       1.9 JTS Distinctive\n",
       "5   2008.0  287000  305000       1.9 JTD Distinctive\n",
       "..     ...     ...     ...                       ...\n",
       "68  2007.0  292000  284000  1.9 JTD Distinctive Plus\n",
       "69  2008.0  249000  330500  1.9 JTD Distinctive Plus\n",
       "70  2010.0  385000  375000  1.9 JTD Distinctive Plus\n",
       "71  2009.0  300000  325000  1.9 JTD Distinctive Plus\n",
       "72  2007.0  260000  425000  1.9 JTD Distinctive Plus\n",
       "\n",
       "[71 rows x 4 columns]"
      ]
     },
     "execution_count": 183,
     "metadata": {},
     "output_type": "execute_result"
    }
   ],
   "source": [
    "contentDF = clean_sahibinden_table(df)\n",
    "contentDF"
   ]
  },
  {
   "cell_type": "code",
   "execution_count": 134,
   "metadata": {},
   "outputs": [
    {
     "name": "stderr",
     "output_type": "stream",
     "text": [
      "/Users/berkkan/opt/anaconda3/lib/python3.9/site-packages/sklearn/utils/deprecation.py:87: FutureWarning: Function get_feature_names is deprecated; get_feature_names is deprecated in 1.0 and will be removed in 1.2. Please use get_feature_names_out instead.\n",
      "  warnings.warn(msg, category=FutureWarning)\n"
     ]
    }
   ],
   "source": [
    "enc = OneHotEncoder()\n",
    "enc_df = pd.DataFrame(enc.fit_transform(df[['Model']]).toarray(), columns=enc.get_feature_names(['Model']))"
   ]
  },
  {
   "cell_type": "code",
   "execution_count": 135,
   "metadata": {},
   "outputs": [
    {
     "data": {
      "text/html": [
       "<div>\n",
       "<style scoped>\n",
       "    .dataframe tbody tr th:only-of-type {\n",
       "        vertical-align: middle;\n",
       "    }\n",
       "\n",
       "    .dataframe tbody tr th {\n",
       "        vertical-align: top;\n",
       "    }\n",
       "\n",
       "    .dataframe thead th {\n",
       "        text-align: right;\n",
       "    }\n",
       "</style>\n",
       "<table border=\"1\" class=\"dataframe\">\n",
       "  <thead>\n",
       "    <tr style=\"text-align: right;\">\n",
       "      <th></th>\n",
       "      <th>Yıl</th>\n",
       "      <th>KM</th>\n",
       "      <th>Fiyat</th>\n",
       "      <th>Model</th>\n",
       "      <th>Model_1.0 EcoTSI Ecomotive Style</th>\n",
       "      <th>Model_1.0 EcoTSI Style Visio</th>\n",
       "      <th>Model_1.0 TSI Style</th>\n",
       "      <th>Model_1.0 eTSI Style Plus</th>\n",
       "      <th>Model_1.2 TSI Style</th>\n",
       "      <th>Model_1.4 EcoTSI FR</th>\n",
       "      <th>...</th>\n",
       "      <th>Model_1.6 TDI SC Style</th>\n",
       "      <th>Model_1.6 TDI ST Style</th>\n",
       "      <th>Model_1.6 TDI Style</th>\n",
       "      <th>Model_1.6 TDI X-Perience</th>\n",
       "      <th>Model_1.6 TDI Xcellence</th>\n",
       "      <th>Model_1.9 TDI Signo</th>\n",
       "      <th>Model_1.9 TDI Sport</th>\n",
       "      <th>Model_2.0 TDI CR FR</th>\n",
       "      <th>Model_2.0 TFSI Cupra</th>\n",
       "      <th>Model_2.0 TSI Cupra</th>\n",
       "    </tr>\n",
       "  </thead>\n",
       "  <tbody>\n",
       "    <tr>\n",
       "      <th>0</th>\n",
       "      <td>2016.0</td>\n",
       "      <td>102797</td>\n",
       "      <td>578000</td>\n",
       "      <td>1.4 TSI FR</td>\n",
       "      <td>0.0</td>\n",
       "      <td>0.0</td>\n",
       "      <td>0.0</td>\n",
       "      <td>0.0</td>\n",
       "      <td>0.0</td>\n",
       "      <td>0.0</td>\n",
       "      <td>...</td>\n",
       "      <td>0.0</td>\n",
       "      <td>0.0</td>\n",
       "      <td>0.0</td>\n",
       "      <td>0.0</td>\n",
       "      <td>0.0</td>\n",
       "      <td>0.0</td>\n",
       "      <td>0.0</td>\n",
       "      <td>0.0</td>\n",
       "      <td>0.0</td>\n",
       "      <td>0.0</td>\n",
       "    </tr>\n",
       "    <tr>\n",
       "      <th>1</th>\n",
       "      <td>2009.0</td>\n",
       "      <td>152500</td>\n",
       "      <td>475000</td>\n",
       "      <td>2.0 TFSI Cupra</td>\n",
       "      <td>0.0</td>\n",
       "      <td>0.0</td>\n",
       "      <td>0.0</td>\n",
       "      <td>0.0</td>\n",
       "      <td>0.0</td>\n",
       "      <td>0.0</td>\n",
       "      <td>...</td>\n",
       "      <td>0.0</td>\n",
       "      <td>0.0</td>\n",
       "      <td>0.0</td>\n",
       "      <td>0.0</td>\n",
       "      <td>0.0</td>\n",
       "      <td>0.0</td>\n",
       "      <td>0.0</td>\n",
       "      <td>0.0</td>\n",
       "      <td>1.0</td>\n",
       "      <td>0.0</td>\n",
       "    </tr>\n",
       "    <tr>\n",
       "      <th>2</th>\n",
       "      <td>2012.0</td>\n",
       "      <td>129000</td>\n",
       "      <td>390000</td>\n",
       "      <td>1.4 TSI Copa Plus</td>\n",
       "      <td>0.0</td>\n",
       "      <td>0.0</td>\n",
       "      <td>0.0</td>\n",
       "      <td>0.0</td>\n",
       "      <td>0.0</td>\n",
       "      <td>0.0</td>\n",
       "      <td>...</td>\n",
       "      <td>0.0</td>\n",
       "      <td>0.0</td>\n",
       "      <td>0.0</td>\n",
       "      <td>0.0</td>\n",
       "      <td>0.0</td>\n",
       "      <td>0.0</td>\n",
       "      <td>0.0</td>\n",
       "      <td>0.0</td>\n",
       "      <td>0.0</td>\n",
       "      <td>0.0</td>\n",
       "    </tr>\n",
       "    <tr>\n",
       "      <th>3</th>\n",
       "      <td>2014.0</td>\n",
       "      <td>220000</td>\n",
       "      <td>369000</td>\n",
       "      <td>1.6 TDI CR Style</td>\n",
       "      <td>0.0</td>\n",
       "      <td>0.0</td>\n",
       "      <td>0.0</td>\n",
       "      <td>0.0</td>\n",
       "      <td>0.0</td>\n",
       "      <td>0.0</td>\n",
       "      <td>...</td>\n",
       "      <td>0.0</td>\n",
       "      <td>0.0</td>\n",
       "      <td>0.0</td>\n",
       "      <td>0.0</td>\n",
       "      <td>0.0</td>\n",
       "      <td>0.0</td>\n",
       "      <td>0.0</td>\n",
       "      <td>0.0</td>\n",
       "      <td>0.0</td>\n",
       "      <td>0.0</td>\n",
       "    </tr>\n",
       "    <tr>\n",
       "      <th>4</th>\n",
       "      <td>2016.0</td>\n",
       "      <td>93000</td>\n",
       "      <td>549000</td>\n",
       "      <td>1.2 TSI Style</td>\n",
       "      <td>0.0</td>\n",
       "      <td>0.0</td>\n",
       "      <td>0.0</td>\n",
       "      <td>0.0</td>\n",
       "      <td>1.0</td>\n",
       "      <td>0.0</td>\n",
       "      <td>...</td>\n",
       "      <td>0.0</td>\n",
       "      <td>0.0</td>\n",
       "      <td>0.0</td>\n",
       "      <td>0.0</td>\n",
       "      <td>0.0</td>\n",
       "      <td>0.0</td>\n",
       "      <td>0.0</td>\n",
       "      <td>0.0</td>\n",
       "      <td>0.0</td>\n",
       "      <td>0.0</td>\n",
       "    </tr>\n",
       "    <tr>\n",
       "      <th>...</th>\n",
       "      <td>...</td>\n",
       "      <td>...</td>\n",
       "      <td>...</td>\n",
       "      <td>...</td>\n",
       "      <td>...</td>\n",
       "      <td>...</td>\n",
       "      <td>...</td>\n",
       "      <td>...</td>\n",
       "      <td>...</td>\n",
       "      <td>...</td>\n",
       "      <td>...</td>\n",
       "      <td>...</td>\n",
       "      <td>...</td>\n",
       "      <td>...</td>\n",
       "      <td>...</td>\n",
       "      <td>...</td>\n",
       "      <td>...</td>\n",
       "      <td>...</td>\n",
       "      <td>...</td>\n",
       "      <td>...</td>\n",
       "      <td>...</td>\n",
       "    </tr>\n",
       "    <tr>\n",
       "      <th>702</th>\n",
       "      <td>2012.0</td>\n",
       "      <td>158000</td>\n",
       "      <td>375000</td>\n",
       "      <td>1.6 TDI CR Style</td>\n",
       "      <td>0.0</td>\n",
       "      <td>0.0</td>\n",
       "      <td>0.0</td>\n",
       "      <td>0.0</td>\n",
       "      <td>0.0</td>\n",
       "      <td>0.0</td>\n",
       "      <td>...</td>\n",
       "      <td>0.0</td>\n",
       "      <td>0.0</td>\n",
       "      <td>0.0</td>\n",
       "      <td>0.0</td>\n",
       "      <td>0.0</td>\n",
       "      <td>0.0</td>\n",
       "      <td>0.0</td>\n",
       "      <td>0.0</td>\n",
       "      <td>0.0</td>\n",
       "      <td>0.0</td>\n",
       "    </tr>\n",
       "    <tr>\n",
       "      <th>703</th>\n",
       "      <td>2013.0</td>\n",
       "      <td>225000</td>\n",
       "      <td>480000</td>\n",
       "      <td>1.6 TDI CR Style</td>\n",
       "      <td>0.0</td>\n",
       "      <td>0.0</td>\n",
       "      <td>0.0</td>\n",
       "      <td>0.0</td>\n",
       "      <td>0.0</td>\n",
       "      <td>0.0</td>\n",
       "      <td>...</td>\n",
       "      <td>0.0</td>\n",
       "      <td>0.0</td>\n",
       "      <td>0.0</td>\n",
       "      <td>0.0</td>\n",
       "      <td>0.0</td>\n",
       "      <td>0.0</td>\n",
       "      <td>0.0</td>\n",
       "      <td>0.0</td>\n",
       "      <td>0.0</td>\n",
       "      <td>0.0</td>\n",
       "    </tr>\n",
       "    <tr>\n",
       "      <th>704</th>\n",
       "      <td>2015.0</td>\n",
       "      <td>131000</td>\n",
       "      <td>575000</td>\n",
       "      <td>1.6 TDI X-Perience</td>\n",
       "      <td>0.0</td>\n",
       "      <td>0.0</td>\n",
       "      <td>0.0</td>\n",
       "      <td>0.0</td>\n",
       "      <td>0.0</td>\n",
       "      <td>0.0</td>\n",
       "      <td>...</td>\n",
       "      <td>0.0</td>\n",
       "      <td>0.0</td>\n",
       "      <td>0.0</td>\n",
       "      <td>1.0</td>\n",
       "      <td>0.0</td>\n",
       "      <td>0.0</td>\n",
       "      <td>0.0</td>\n",
       "      <td>0.0</td>\n",
       "      <td>0.0</td>\n",
       "      <td>0.0</td>\n",
       "    </tr>\n",
       "    <tr>\n",
       "      <th>705</th>\n",
       "      <td>2020.0</td>\n",
       "      <td>47000</td>\n",
       "      <td>815000</td>\n",
       "      <td>1.5 EcoTSI FR</td>\n",
       "      <td>0.0</td>\n",
       "      <td>0.0</td>\n",
       "      <td>0.0</td>\n",
       "      <td>0.0</td>\n",
       "      <td>0.0</td>\n",
       "      <td>0.0</td>\n",
       "      <td>...</td>\n",
       "      <td>0.0</td>\n",
       "      <td>0.0</td>\n",
       "      <td>0.0</td>\n",
       "      <td>0.0</td>\n",
       "      <td>0.0</td>\n",
       "      <td>0.0</td>\n",
       "      <td>0.0</td>\n",
       "      <td>0.0</td>\n",
       "      <td>0.0</td>\n",
       "      <td>0.0</td>\n",
       "    </tr>\n",
       "    <tr>\n",
       "      <th>706</th>\n",
       "      <td>2020.0</td>\n",
       "      <td>21200</td>\n",
       "      <td>800000</td>\n",
       "      <td>1.5 EcoTSI Xcellence</td>\n",
       "      <td>0.0</td>\n",
       "      <td>0.0</td>\n",
       "      <td>0.0</td>\n",
       "      <td>0.0</td>\n",
       "      <td>0.0</td>\n",
       "      <td>0.0</td>\n",
       "      <td>...</td>\n",
       "      <td>0.0</td>\n",
       "      <td>0.0</td>\n",
       "      <td>0.0</td>\n",
       "      <td>0.0</td>\n",
       "      <td>0.0</td>\n",
       "      <td>0.0</td>\n",
       "      <td>0.0</td>\n",
       "      <td>0.0</td>\n",
       "      <td>0.0</td>\n",
       "      <td>0.0</td>\n",
       "    </tr>\n",
       "  </tbody>\n",
       "</table>\n",
       "<p>707 rows × 40 columns</p>\n",
       "</div>"
      ],
      "text/plain": [
       "        Yıl      KM   Fiyat                 Model  \\\n",
       "0    2016.0  102797  578000            1.4 TSI FR   \n",
       "1    2009.0  152500  475000        2.0 TFSI Cupra   \n",
       "2    2012.0  129000  390000     1.4 TSI Copa Plus   \n",
       "3    2014.0  220000  369000      1.6 TDI CR Style   \n",
       "4    2016.0   93000  549000         1.2 TSI Style   \n",
       "..      ...     ...     ...                   ...   \n",
       "702  2012.0  158000  375000      1.6 TDI CR Style   \n",
       "703  2013.0  225000  480000      1.6 TDI CR Style   \n",
       "704  2015.0  131000  575000    1.6 TDI X-Perience   \n",
       "705  2020.0   47000  815000         1.5 EcoTSI FR   \n",
       "706  2020.0   21200  800000  1.5 EcoTSI Xcellence   \n",
       "\n",
       "     Model_1.0 EcoTSI Ecomotive Style  Model_1.0 EcoTSI Style Visio  \\\n",
       "0                                 0.0                           0.0   \n",
       "1                                 0.0                           0.0   \n",
       "2                                 0.0                           0.0   \n",
       "3                                 0.0                           0.0   \n",
       "4                                 0.0                           0.0   \n",
       "..                                ...                           ...   \n",
       "702                               0.0                           0.0   \n",
       "703                               0.0                           0.0   \n",
       "704                               0.0                           0.0   \n",
       "705                               0.0                           0.0   \n",
       "706                               0.0                           0.0   \n",
       "\n",
       "     Model_1.0 TSI Style  Model_1.0 eTSI Style Plus  Model_1.2 TSI Style  \\\n",
       "0                    0.0                        0.0                  0.0   \n",
       "1                    0.0                        0.0                  0.0   \n",
       "2                    0.0                        0.0                  0.0   \n",
       "3                    0.0                        0.0                  0.0   \n",
       "4                    0.0                        0.0                  1.0   \n",
       "..                   ...                        ...                  ...   \n",
       "702                  0.0                        0.0                  0.0   \n",
       "703                  0.0                        0.0                  0.0   \n",
       "704                  0.0                        0.0                  0.0   \n",
       "705                  0.0                        0.0                  0.0   \n",
       "706                  0.0                        0.0                  0.0   \n",
       "\n",
       "     Model_1.4 EcoTSI FR  ...  Model_1.6 TDI SC Style  Model_1.6 TDI ST Style  \\\n",
       "0                    0.0  ...                     0.0                     0.0   \n",
       "1                    0.0  ...                     0.0                     0.0   \n",
       "2                    0.0  ...                     0.0                     0.0   \n",
       "3                    0.0  ...                     0.0                     0.0   \n",
       "4                    0.0  ...                     0.0                     0.0   \n",
       "..                   ...  ...                     ...                     ...   \n",
       "702                  0.0  ...                     0.0                     0.0   \n",
       "703                  0.0  ...                     0.0                     0.0   \n",
       "704                  0.0  ...                     0.0                     0.0   \n",
       "705                  0.0  ...                     0.0                     0.0   \n",
       "706                  0.0  ...                     0.0                     0.0   \n",
       "\n",
       "     Model_1.6 TDI Style  Model_1.6 TDI X-Perience  Model_1.6 TDI Xcellence  \\\n",
       "0                    0.0                       0.0                      0.0   \n",
       "1                    0.0                       0.0                      0.0   \n",
       "2                    0.0                       0.0                      0.0   \n",
       "3                    0.0                       0.0                      0.0   \n",
       "4                    0.0                       0.0                      0.0   \n",
       "..                   ...                       ...                      ...   \n",
       "702                  0.0                       0.0                      0.0   \n",
       "703                  0.0                       0.0                      0.0   \n",
       "704                  0.0                       1.0                      0.0   \n",
       "705                  0.0                       0.0                      0.0   \n",
       "706                  0.0                       0.0                      0.0   \n",
       "\n",
       "     Model_1.9 TDI Signo  Model_1.9 TDI Sport  Model_2.0 TDI CR FR  \\\n",
       "0                    0.0                  0.0                  0.0   \n",
       "1                    0.0                  0.0                  0.0   \n",
       "2                    0.0                  0.0                  0.0   \n",
       "3                    0.0                  0.0                  0.0   \n",
       "4                    0.0                  0.0                  0.0   \n",
       "..                   ...                  ...                  ...   \n",
       "702                  0.0                  0.0                  0.0   \n",
       "703                  0.0                  0.0                  0.0   \n",
       "704                  0.0                  0.0                  0.0   \n",
       "705                  0.0                  0.0                  0.0   \n",
       "706                  0.0                  0.0                  0.0   \n",
       "\n",
       "     Model_2.0 TFSI Cupra  Model_2.0 TSI Cupra  \n",
       "0                     0.0                  0.0  \n",
       "1                     1.0                  0.0  \n",
       "2                     0.0                  0.0  \n",
       "3                     0.0                  0.0  \n",
       "4                     0.0                  0.0  \n",
       "..                    ...                  ...  \n",
       "702                   0.0                  0.0  \n",
       "703                   0.0                  0.0  \n",
       "704                   0.0                  0.0  \n",
       "705                   0.0                  0.0  \n",
       "706                   0.0                  0.0  \n",
       "\n",
       "[707 rows x 40 columns]"
      ]
     },
     "execution_count": 135,
     "metadata": {},
     "output_type": "execute_result"
    }
   ],
   "source": [
    "final_df = df.join(enc_df)\n",
    "final_df"
   ]
  },
  {
   "cell_type": "code",
   "execution_count": 136,
   "metadata": {},
   "outputs": [],
   "source": [
    "def build_model(X_train, y_train,model):\n",
    "    if model == \"linear\":\n",
    "        model = LinearRegression()\n",
    "    if model == \"svm\":\n",
    "        model = SVR(gamma='scale', C=100000.0, epsilon=0.2)\n",
    "    if model == \"randomforest\":\n",
    "        model = RandomForestRegressor()\n",
    "    model.fit(X_train, y_train)\n",
    "\n",
    "    return model"
   ]
  },
  {
   "cell_type": "code",
   "execution_count": 137,
   "metadata": {},
   "outputs": [],
   "source": [
    "X = final_df.drop([\"Fiyat\",\"Model\"], axis=1)\n",
    "y = final_df[\"Fiyat\"]\n",
    "\n",
    "X_train, X_test, y_train, y_test = train_test_split(X, y, test_size=0.2, random_state=42)"
   ]
  },
  {
   "cell_type": "code",
   "execution_count": 138,
   "metadata": {},
   "outputs": [
    {
     "data": {
      "text/plain": [
       "0.8910669762545633"
      ]
     },
     "execution_count": 138,
     "metadata": {},
     "output_type": "execute_result"
    }
   ],
   "source": [
    "linear_model = build_model(X_train, y_train, \"linear\")\n",
    "\n",
    "linear_model.score(X_test, y_test)"
   ]
  },
  {
   "cell_type": "code",
   "execution_count": 139,
   "metadata": {},
   "outputs": [],
   "source": [
    "y_pred = linear_model.predict(X_test)"
   ]
  },
  {
   "cell_type": "code",
   "execution_count": 140,
   "metadata": {},
   "outputs": [],
   "source": [
    "def plot_prediction(y_test, y_pred):\n",
    "    plt.figure(figsize=(12, 7))\n",
    "    plt.scatter(y_pred, y_test, alpha=0.4)\n",
    "    plt.xlabel(\"Predicted\")\n",
    "    plt.ylabel(\"Actual\")\n",
    "    plt.title(\"Predicted vs Actual\")\n",
    "    maxValue = max(y_test.max(), y_pred.max())\n",
    "    minValue = min(y_test.min(), y_pred.min())\n",
    "    plt.plot([minValue, maxValue], [minValue, maxValue], color='red')\n",
    "    plt.show()"
   ]
  },
  {
   "cell_type": "code",
   "execution_count": 141,
   "metadata": {},
   "outputs": [
    {
     "data": {
      "image/png": "[encoded data removed]",
      "text/plain": [
       "<Figure size 864x504 with 1 Axes>"
      ]
     },
     "metadata": {
      "needs_background": "light"
     },
     "output_type": "display_data"
    }
   ],
   "source": [
    "plot_prediction(y_test, y_pred)"
   ]
  },
  {
   "cell_type": "code",
   "execution_count": 142,
   "metadata": {},
   "outputs": [
    {
     "data": {
      "text/plain": [
       "0.5928644882625638"
      ]
     },
     "execution_count": 142,
     "metadata": {},
     "output_type": "execute_result"
    }
   ],
   "source": [
    "svm_model = build_model(X_train, y_train, \"svm\")\n",
    "\n",
    "svm_model.score(X_test, y_test)"
   ]
  },
  {
   "cell_type": "code",
   "execution_count": 143,
   "metadata": {},
   "outputs": [],
   "source": [
    "y_pred = svm_model.predict(X_test)"
   ]
  },
  {
   "cell_type": "code",
   "execution_count": 144,
   "metadata": {},
   "outputs": [
    {
     "data": {
      "image/png": "[encoded data removed]",
      "text/plain": [
       "<Figure size 864x504 with 1 Axes>"
      ]
     },
     "metadata": {
      "needs_background": "light"
     },
     "output_type": "display_data"
    }
   ],
   "source": [
    "plot_prediction(y_test, y_pred)"
   ]
  },
  {
   "cell_type": "code",
   "execution_count": 145,
   "metadata": {},
   "outputs": [
    {
     "data": {
      "text/plain": [
       "0.8358073017512907"
      ]
     },
     "execution_count": 145,
     "metadata": {},
     "output_type": "execute_result"
    }
   ],
   "source": [
    "randomforest_model = build_model(X_train, y_train, \"randomforest\")\n",
    "\n",
    "randomforest_model.score(X_test, y_test)"
   ]
  },
  {
   "cell_type": "code",
   "execution_count": 146,
   "metadata": {},
   "outputs": [
    {
     "data": {
      "image/png": "[encoded data removed]",
      "text/plain": [
       "<Figure size 864x504 with 1 Axes>"
      ]
     },
     "metadata": {
      "needs_background": "light"
     },
     "output_type": "display_data"
    }
   ],
   "source": [
    "y_pred = randomforest_model.predict(X_test)\n",
    "plot_prediction(y_test, y_pred)"
   ]
  },
  {
   "cell_type": "code",
   "execution_count": 147,
   "metadata": {},
   "outputs": [],
   "source": [
    "spesificModels = df[\"Model\"].unique()\n",
    "spesificModels.sort()"
   ]
  },
  {
   "cell_type": "code",
   "execution_count": 148,
   "metadata": {},
   "outputs": [
    {
     "data": {
      "application/vnd.jupyter.widget-view+json": {
       "model_id": "b80d63dec90947feb9bb97de95c06da7",
       "version_major": 2,
       "version_minor": 0
      },
      "text/plain": [
       "Dropdown(description='Number:', options=('1.0 EcoTSI Ecomotive Style', '1.0 EcoTSI Style Visio', '1.0 TSI Styl…"
      ]
     },
     "metadata": {},
     "output_type": "display_data"
    }
   ],
   "source": [
    "selectedModel = widgets.Dropdown(\n",
    "    options=spesificModels,\n",
    "    description='Number:',\n",
    "    disabled=False,\n",
    ")\n",
    "selectedModel"
   ]
  },
  {
   "cell_type": "code",
   "execution_count": 149,
   "metadata": {},
   "outputs": [
    {
     "data": {
      "text/html": [
       "<div>\n",
       "<style scoped>\n",
       "    .dataframe tbody tr th:only-of-type {\n",
       "        vertical-align: middle;\n",
       "    }\n",
       "\n",
       "    .dataframe tbody tr th {\n",
       "        vertical-align: top;\n",
       "    }\n",
       "\n",
       "    .dataframe thead th {\n",
       "        text-align: right;\n",
       "    }\n",
       "</style>\n",
       "<table border=\"1\" class=\"dataframe\">\n",
       "  <thead>\n",
       "    <tr style=\"text-align: right;\">\n",
       "      <th></th>\n",
       "      <th>1.0 EcoTSI Ecomotive Style</th>\n",
       "      <th>1.0 EcoTSI Style Visio</th>\n",
       "      <th>1.0 TSI Style</th>\n",
       "      <th>1.0 eTSI Style Plus</th>\n",
       "      <th>1.2 TSI Style</th>\n",
       "      <th>1.4 EcoTSI FR</th>\n",
       "      <th>1.4 EcoTSI Xcellence</th>\n",
       "      <th>1.4 TSI Copa Plus</th>\n",
       "      <th>1.4 TSI FR</th>\n",
       "      <th>1.4 TSI Stylance</th>\n",
       "      <th>...</th>\n",
       "      <th>1.6 TDI SC Style</th>\n",
       "      <th>1.6 TDI ST Style</th>\n",
       "      <th>1.6 TDI Style</th>\n",
       "      <th>1.6 TDI X-Perience</th>\n",
       "      <th>1.6 TDI Xcellence</th>\n",
       "      <th>1.9 TDI Signo</th>\n",
       "      <th>1.9 TDI Sport</th>\n",
       "      <th>2.0 TDI CR FR</th>\n",
       "      <th>2.0 TFSI Cupra</th>\n",
       "      <th>2.0 TSI Cupra</th>\n",
       "    </tr>\n",
       "  </thead>\n",
       "  <tbody>\n",
       "    <tr>\n",
       "      <th>0</th>\n",
       "      <td>0.0</td>\n",
       "      <td>0.0</td>\n",
       "      <td>0.0</td>\n",
       "      <td>0.0</td>\n",
       "      <td>0.0</td>\n",
       "      <td>0.0</td>\n",
       "      <td>0.0</td>\n",
       "      <td>0.0</td>\n",
       "      <td>0.0</td>\n",
       "      <td>0.0</td>\n",
       "      <td>...</td>\n",
       "      <td>0.0</td>\n",
       "      <td>0.0</td>\n",
       "      <td>0.0</td>\n",
       "      <td>0.0</td>\n",
       "      <td>0.0</td>\n",
       "      <td>0.0</td>\n",
       "      <td>0.0</td>\n",
       "      <td>0.0</td>\n",
       "      <td>0.0</td>\n",
       "      <td>0.0</td>\n",
       "    </tr>\n",
       "  </tbody>\n",
       "</table>\n",
       "<p>1 rows × 36 columns</p>\n",
       "</div>"
      ],
      "text/plain": [
       "   1.0 EcoTSI Ecomotive Style  1.0 EcoTSI Style Visio  1.0 TSI Style  \\\n",
       "0                         0.0                     0.0            0.0   \n",
       "\n",
       "   1.0 eTSI Style Plus  1.2 TSI Style  1.4 EcoTSI FR  1.4 EcoTSI Xcellence  \\\n",
       "0                  0.0            0.0            0.0                   0.0   \n",
       "\n",
       "   1.4 TSI Copa Plus  1.4 TSI FR  1.4 TSI Stylance  ...  1.6 TDI SC Style  \\\n",
       "0                0.0         0.0               0.0  ...               0.0   \n",
       "\n",
       "   1.6 TDI ST Style  1.6 TDI Style  1.6 TDI X-Perience  1.6 TDI Xcellence  \\\n",
       "0               0.0            0.0                 0.0                0.0   \n",
       "\n",
       "   1.9 TDI Signo  1.9 TDI Sport  2.0 TDI CR FR  2.0 TFSI Cupra  2.0 TSI Cupra  \n",
       "0            0.0            0.0            0.0             0.0            0.0  \n",
       "\n",
       "[1 rows x 36 columns]"
      ]
     },
     "execution_count": 149,
     "metadata": {},
     "output_type": "execute_result"
    }
   ],
   "source": [
    "spesificModelsDF = pd.DataFrame(columns=spesificModels, dtype=int)\n",
    "spesificModelsDF.loc[0, selectedModel.value] = 1\n",
    "spesificModelsDF.fillna(0, inplace=True)\n",
    "spesificModelsDF"
   ]
  },
  {
   "cell_type": "code",
   "execution_count": 150,
   "metadata": {},
   "outputs": [
    {
     "data": {
      "application/vnd.jupyter.widget-view+json": {
       "model_id": "69011d7892654bdbb15b36c79fd2b2b1",
       "version_major": 2,
       "version_minor": 0
      },
      "text/plain": [
       "BoundedIntText(value=2022, description='Year:', max=2022, min=1950)"
      ]
     },
     "metadata": {},
     "output_type": "display_data"
    }
   ],
   "source": [
    "year = widgets.BoundedIntText(\n",
    "    value=2022,\n",
    "    min=1950,\n",
    "    max=2022,\n",
    "    step=1,\n",
    "    description='Year:',\n",
    "    disabled=False\n",
    ")\n",
    "year"
   ]
  },
  {
   "cell_type": "code",
   "execution_count": 151,
   "metadata": {},
   "outputs": [
    {
     "data": {
      "application/vnd.jupyter.widget-view+json": {
       "model_id": "7dfd2aab6e5f40ce9f08b1d047f00e45",
       "version_major": 2,
       "version_minor": 0
      },
      "text/plain": [
       "IntSlider(value=0, continuous_update=False, description='KM:', max=1000000, step=1000)"
      ]
     },
     "metadata": {},
     "output_type": "display_data"
    }
   ],
   "source": [
    "km = widgets.IntSlider(\n",
    "    value=0,\n",
    "    min=0,\n",
    "    max=1000000,\n",
    "    step=1000,\n",
    "    description='KM:',\n",
    "    disabled=False,\n",
    "    continuous_update=False,\n",
    "    orientation='horizontal',\n",
    "    readout=True,\n",
    "    readout_format='d'\n",
    ")\n",
    "km"
   ]
  },
  {
   "cell_type": "code",
   "execution_count": 155,
   "metadata": {},
   "outputs": [
    {
     "name": "stdout",
     "output_type": "stream",
     "text": [
      "[759774.53531621]\n"
     ]
    },
    {
     "name": "stderr",
     "output_type": "stream",
     "text": [
      "/Users/berkkan/opt/anaconda3/lib/python3.9/site-packages/sklearn/base.py:450: UserWarning: X does not have valid feature names, but LinearRegression was fitted with feature names\n",
      "  warnings.warn(\n"
     ]
    }
   ],
   "source": [
    "print(linear_model.predict([[year.value, km.value, *spesificModelsDF.values[0]]]))"
   ]
  }
 ],
 "metadata": {
  "kernelspec": {
   "display_name": "Python 3.9.12 ('base')",
   "language": "python",
   "name": "python3"
  },
  "language_info": {
   "codemirror_mode": {
    "name": "ipython",
    "version": 3
   },
   "file_extension": ".py",
   "mimetype": "text/x-python",
   "name": "python",
   "nbconvert_exporter": "python",
   "pygments_lexer": "ipython3",
   "version": "3.9.12"
  },
  "orig_nbformat": 4,
  "vscode": {
   "interpreter": {
    "hash": "709557d028083c10ad6ea76eee7ee644f73bfc25d209d0966f7128ac01661f83"
   }
  }
 },
 "nbformat": 4,
 "nbformat_minor": 2
}
